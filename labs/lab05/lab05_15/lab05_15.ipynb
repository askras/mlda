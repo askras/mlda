{
 "cells": [
  {
   "cell_type": "markdown",
   "id": "ba4436c4",
   "metadata": {},
   "source": [
    "## Логические методы классификации\n",
    "\n",
    "\n",
    "### Цель работы\n",
    "\n",
    "изучение принципов построения информационных систем с использованием логических методов классификации.\n",
    "\n",
    "### Задачи \n",
    "\n",
    " - освоение технологии внедрения алгоритмов на онове решающих списков в приложения;\n",
    " - освоение технологии внедрения алгоритмов на онове решающих деревьев в приложения;\n",
    " - изучение параметров логической классификации;\n",
    " - освоение модификаций логических методов классификации."
   ]
  },
  {
   "cell_type": "markdown",
   "id": "c8fd24d1",
   "metadata": {},
   "source": [
    "## Amazon Top Bestselling Books"
   ]
  },
  {
   "cell_type": "markdown",
   "id": "c1edaa92",
   "metadata": {},
   "source": [
    "![](./img/dataset-cover.jpg)"
   ]
  },
  {
   "cell_type": "code",
   "execution_count": 1,
   "id": "bffbdac5",
   "metadata": {},
   "outputs": [],
   "source": [
    "import numpy as np\n",
    "import pandas as pd\n",
    "import seaborn as sns\n",
    "import random\n",
    "\n",
    "\n",
    "\n",
    "from matplotlib import pyplot as plt\n",
    "%matplotlib inline"
   ]
  },
  {
   "cell_type": "code",
   "execution_count": 2,
   "id": "5b50f62b",
   "metadata": {},
   "outputs": [
    {
     "data": {
      "text/html": [
       "<div>\n",
       "<style scoped>\n",
       "    .dataframe tbody tr th:only-of-type {\n",
       "        vertical-align: middle;\n",
       "    }\n",
       "\n",
       "    .dataframe tbody tr th {\n",
       "        vertical-align: top;\n",
       "    }\n",
       "\n",
       "    .dataframe thead th {\n",
       "        text-align: right;\n",
       "    }\n",
       "</style>\n",
       "<table border=\"1\" class=\"dataframe\">\n",
       "  <thead>\n",
       "    <tr style=\"text-align: right;\">\n",
       "      <th></th>\n",
       "      <th>Name</th>\n",
       "      <th>Author</th>\n",
       "      <th>User Rating</th>\n",
       "      <th>Reviews</th>\n",
       "      <th>Price</th>\n",
       "      <th>Year</th>\n",
       "      <th>Genre</th>\n",
       "    </tr>\n",
       "  </thead>\n",
       "  <tbody>\n",
       "    <tr>\n",
       "      <th>0</th>\n",
       "      <td>10-Day Green Smoothie Cleanse</td>\n",
       "      <td>JJ Smith</td>\n",
       "      <td>4.7</td>\n",
       "      <td>17350</td>\n",
       "      <td>8</td>\n",
       "      <td>2016</td>\n",
       "      <td>Non Fiction</td>\n",
       "    </tr>\n",
       "    <tr>\n",
       "      <th>1</th>\n",
       "      <td>11/22/63: A Novel</td>\n",
       "      <td>Stephen King</td>\n",
       "      <td>4.6</td>\n",
       "      <td>2052</td>\n",
       "      <td>22</td>\n",
       "      <td>2011</td>\n",
       "      <td>Fiction</td>\n",
       "    </tr>\n",
       "    <tr>\n",
       "      <th>2</th>\n",
       "      <td>12 Rules for Life: An Antidote to Chaos</td>\n",
       "      <td>Jordan B. Peterson</td>\n",
       "      <td>4.7</td>\n",
       "      <td>18979</td>\n",
       "      <td>15</td>\n",
       "      <td>2018</td>\n",
       "      <td>Non Fiction</td>\n",
       "    </tr>\n",
       "    <tr>\n",
       "      <th>3</th>\n",
       "      <td>1984 (Signet Classics)</td>\n",
       "      <td>George Orwell</td>\n",
       "      <td>4.7</td>\n",
       "      <td>21424</td>\n",
       "      <td>6</td>\n",
       "      <td>2017</td>\n",
       "      <td>Fiction</td>\n",
       "    </tr>\n",
       "    <tr>\n",
       "      <th>4</th>\n",
       "      <td>5,000 Awesome Facts (About Everything!) (Natio...</td>\n",
       "      <td>National Geographic Kids</td>\n",
       "      <td>4.8</td>\n",
       "      <td>7665</td>\n",
       "      <td>12</td>\n",
       "      <td>2019</td>\n",
       "      <td>Non Fiction</td>\n",
       "    </tr>\n",
       "  </tbody>\n",
       "</table>\n",
       "</div>"
      ],
      "text/plain": [
       "                                                Name  \\\n",
       "0                      10-Day Green Smoothie Cleanse   \n",
       "1                                  11/22/63: A Novel   \n",
       "2            12 Rules for Life: An Antidote to Chaos   \n",
       "3                             1984 (Signet Classics)   \n",
       "4  5,000 Awesome Facts (About Everything!) (Natio...   \n",
       "\n",
       "                     Author  User Rating  Reviews  Price  Year        Genre  \n",
       "0                  JJ Smith          4.7    17350      8  2016  Non Fiction  \n",
       "1              Stephen King          4.6     2052     22  2011      Fiction  \n",
       "2        Jordan B. Peterson          4.7    18979     15  2018  Non Fiction  \n",
       "3             George Orwell          4.7    21424      6  2017      Fiction  \n",
       "4  National Geographic Kids          4.8     7665     12  2019  Non Fiction  "
      ]
     },
     "execution_count": 2,
     "metadata": {},
     "output_type": "execute_result"
    }
   ],
   "source": [
    "data_source = \"datasets/bestsellers.csv\"\n",
    "data = pd.read_csv(data_source, delimiter=',')\n",
    "data.head()"
   ]
  },
  {
   "cell_type": "markdown",
   "id": "e8e3477c",
   "metadata": {},
   "source": [
    "В наборе данных представлены следующие признаки\n",
    "- название книги\n",
    "- название автора\n",
    "- рейтинг пользователей\n",
    "- количество обзоров \n",
    "- цена\n",
    "- год выпуска\n",
    "- жанр"
   ]
  },
  {
   "cell_type": "code",
   "execution_count": 3,
   "id": "e17858c1",
   "metadata": {},
   "outputs": [],
   "source": [
    "data['Genre'] = data['Genre'].replace({'Fiction': 0, 'Non Fiction': 1})"
   ]
  },
  {
   "cell_type": "code",
   "execution_count": 4,
   "id": "f807acd6",
   "metadata": {},
   "outputs": [
    {
     "name": "stdout",
     "output_type": "stream",
     "text": [
      "['Non Fiction' 'Fiction']\n",
      "   User Rating  Reviews  Price  Year  Genre\n",
      "0          4.6     8393     17  2017      1\n",
      "1          4.3     3759     16  2011      0\n",
      "2          4.5     8580     46  2012      1\n",
      "3          4.7     3536     17  2010      0\n",
      "4          4.5     3673      4  2015      1\n"
     ]
    }
   ],
   "source": [
    "data_source = \"./datasets/bestsellers.csv\"\n",
    "data = pd.read_csv(data_source, delimiter=',')\n",
    "selected_columns = ['User Rating', 'Reviews', 'Price', 'Year', 'Genre']\n",
    "data_1 = data[selected_columns]\n",
    "print(data_1['Genre'].unique())\n",
    "\n",
    "\n",
    "random_indices = np.random.choice(data_1.index, size=50, replace=False)\n",
    "data_2 = data_1.iloc[random_indices]\n",
    "data_2.to_csv(\"random_data.csv\", index=False)\n",
    "data_3 = pd.read_csv(\"random_data.csv\", delimiter=',')\n",
    "data_3 = data_3[(data_3.Genre == \"Fiction\") | \n",
    "               (data_3.Genre == \"Non Fiction\")]\n",
    "data_3.dropna(inplace=True)\n",
    "data_3['Genre'] = data['Genre'].replace({'Fiction': 0, 'Non Fiction': 1})\n",
    "print(data_3.head())"
   ]
  },
  {
   "cell_type": "code",
   "execution_count": 5,
   "id": "fb34ea00",
   "metadata": {},
   "outputs": [],
   "source": [
    "X = data_3[['User Rating', 'Reviews', 'Price', 'Year', 'Genre']]\n",
    "y = data_3['Genre']"
   ]
  },
  {
   "cell_type": "code",
   "execution_count": 6,
   "id": "4691b537",
   "metadata": {},
   "outputs": [
    {
     "name": "stdout",
     "output_type": "stream",
     "text": [
      "0.9333333333333333\n"
     ]
    }
   ],
   "source": [
    "from sklearn.tree import DecisionTreeClassifier\n",
    "from sklearn.model_selection import train_test_split\n",
    "from sklearn.metrics import accuracy_score\n",
    "\n",
    "# Подмножества для hold-out\n",
    "X_train, X_holdout, y_train, y_holdout = train_test_split(X, y, test_size=0.3, random_state=12)\n",
    "\n",
    "# Обучение модели\n",
    "tree = DecisionTreeClassifier(max_depth=5, \n",
    "                              random_state=21, \n",
    "                              max_features=2)\n",
    "tree.fit(X_train, y_train)\n",
    "\n",
    "# Получение оценки hold-out\n",
    "tree_pred = tree.predict(X_holdout)\n",
    "accur = accuracy_score(y_holdout, tree_pred)\n",
    "print(accur)"
   ]
  },
  {
   "cell_type": "code",
   "execution_count": 7,
   "id": "83dfc78e",
   "metadata": {},
   "outputs": [
    {
     "data": {
      "image/png": "[encoded data removed]",
      "text/plain": [
       "<Figure size 640x480 with 1 Axes>"
      ]
     },
     "metadata": {},
     "output_type": "display_data"
    },
    {
     "name": "stdout",
     "output_type": "stream",
     "text": [
      "Оптимальные значения max_depth:  [4, 6, 7, 8, 9, 10, 11, 12, 13, 14, 15, 16, 17, 18, 19]\n"
     ]
    }
   ],
   "source": [
    "from sklearn.model_selection import cross_val_score\n",
    "\n",
    "# Значения параметра max_depth\n",
    "d_list = list(range(1,20))\n",
    "# Пустой список для хранения значений точности\n",
    "cv_scores = []\n",
    "# В цикле проходим все значения K\n",
    "for d in d_list:\n",
    "    tree = DecisionTreeClassifier(max_depth=d, \n",
    "                                  random_state=21, \n",
    "                                  max_features=2)\n",
    "    scores = cross_val_score(tree, X, y, cv=10, scoring='accuracy')\n",
    "    cv_scores.append(scores.mean())\n",
    "\n",
    "# Вычисляем ошибку (misclassification error)\n",
    "MSE = [1-x for x in cv_scores]\n",
    "\n",
    "# Строим график\n",
    "plt.plot(d_list, MSE)\n",
    "plt.xlabel('Макс. глубина дерева (max_depth)');\n",
    "plt.ylabel('Ошибка классификации (MSE)')\n",
    "plt.show()\n",
    "\n",
    "# Ищем минимум\n",
    "d_min = min(MSE)\n",
    "\n",
    "# Пробуем найти прочие минимумы (если их несколько)\n",
    "all_d_min = []\n",
    "for i in range(len(MSE)):\n",
    "    if MSE[i] <= d_min:\n",
    "        all_d_min.append(d_list[i])\n",
    "\n",
    "# печатаем все K, оптимальные для модели\n",
    "print('Оптимальные значения max_depth: ', all_d_min)"
   ]
  },
  {
   "cell_type": "code",
   "execution_count": 8,
   "id": "bcfaa37b",
   "metadata": {},
   "outputs": [
    {
     "name": "stdout",
     "output_type": "stream",
     "text": [
      "Fitting 10 folds for each of 57 candidates, totalling 570 fits\n",
      "\n",
      "\n",
      "Лучшее сочетание параметров:  {'max_depth': 1, 'max_features': 3}\n",
      "Лучшие баллы cross validation:  1.0\n"
     ]
    }
   ],
   "source": [
    "from sklearn.model_selection import GridSearchCV, cross_val_score\n",
    "from sklearn import tree\n",
    "\n",
    "dtc = DecisionTreeClassifier(max_depth=10, random_state=21, max_features=2)\n",
    "\n",
    "tree_params = { 'max_depth': range(1,20), 'max_features': range(1,4) }\n",
    "tree_grid = GridSearchCV(dtc, tree_params, cv=10, verbose=True, n_jobs=-1)\n",
    "tree_grid.fit(X, y)\n",
    "\n",
    "print('\\n')\n",
    "print('Лучшее сочетание параметров: ', tree_grid.best_params_)\n",
    "print('Лучшие баллы cross validation: ', tree_grid.best_score_)"
   ]
  },
  {
   "cell_type": "markdown",
   "id": "4f71b177",
   "metadata": {},
   "source": [
    "## Построим и визуализируем дерево решений"
   ]
  },
  {
   "cell_type": "code",
   "execution_count": 9,
   "id": "78e2d4c3",
   "metadata": {},
   "outputs": [],
   "source": [
    "from sklearn.tree import export_graphviz\n",
    "# Генерируем графическое представление дерева\n",
    "tree.export_graphviz(tree_grid.best_estimator_, \n",
    "                     feature_names=X.columns,\n",
    "                     class_names=[str(x) for x in y.unique()],\n",
    "                     out_file='./bestsellers.dot',  \n",
    "                     filled=True, rounded=True);"
   ]
  },
  {
   "cell_type": "code",
   "execution_count": 10,
   "id": "ac1f5abd",
   "metadata": {},
   "outputs": [
    {
     "data": {
      "image/svg+xml": [
       "<?xml version=\"1.0\" encoding=\"UTF-8\" standalone=\"no\"?>\n",
       "<!DOCTYPE svg PUBLIC \"-//W3C//DTD SVG 1.1//EN\"\n",
       " \"http://www.w3.org/Graphics/SVG/1.1/DTD/svg11.dtd\">\n",
       "<!-- Generated by graphviz version 9.0.0 (20230911.1827)\n",
       " -->\n",
       "<!-- Title: Tree Pages: 1 -->\n",
       "<svg width=\"230pt\" height=\"195pt\"\n",
       " viewBox=\"0.00 0.00 229.50 195.00\" xmlns=\"http://www.w3.org/2000/svg\" xmlns:xlink=\"http://www.w3.org/1999/xlink\">\n",
       "<g id=\"graph0\" class=\"graph\" transform=\"scale(1 1) rotate(0) translate(4 191)\">\n",
       "<title>Tree</title>\n",
       "<polygon fill=\"white\" stroke=\"none\" points=\"-4,4 -4,-191 225.5,-191 225.5,4 -4,4\"/>\n",
       "<!-- 0 -->\n",
       "<g id=\"node1\" class=\"node\">\n",
       "<title>0</title>\n",
       "<path fill=\"#b2d9f5\" stroke=\"black\" d=\"M153.25,-187C153.25,-187 68.25,-187 68.25,-187 62.25,-187 56.25,-181 56.25,-175 56.25,-175 56.25,-116 56.25,-116 56.25,-110 62.25,-104 68.25,-104 68.25,-104 153.25,-104 153.25,-104 159.25,-104 165.25,-110 165.25,-116 165.25,-116 165.25,-175 165.25,-175 165.25,-181 159.25,-187 153.25,-187\"/>\n",
       "<text text-anchor=\"middle\" x=\"110.75\" y=\"-169.7\" font-family=\"Helvetica,sans-Serif\" font-size=\"14.00\">Genre &lt;= 0.5</text>\n",
       "<text text-anchor=\"middle\" x=\"110.75\" y=\"-154.7\" font-family=\"Helvetica,sans-Serif\" font-size=\"14.00\">gini = 0.471</text>\n",
       "<text text-anchor=\"middle\" x=\"110.75\" y=\"-139.7\" font-family=\"Helvetica,sans-Serif\" font-size=\"14.00\">samples = 50</text>\n",
       "<text text-anchor=\"middle\" x=\"110.75\" y=\"-124.7\" font-family=\"Helvetica,sans-Serif\" font-size=\"14.00\">value = [19, 31]</text>\n",
       "<text text-anchor=\"middle\" x=\"110.75\" y=\"-109.7\" font-family=\"Helvetica,sans-Serif\" font-size=\"14.00\">class = 0</text>\n",
       "</g>\n",
       "<!-- 1 -->\n",
       "<g id=\"node2\" class=\"node\">\n",
       "<title>1</title>\n",
       "<path fill=\"#e58139\" stroke=\"black\" d=\"M89.5,-68C89.5,-68 12,-68 12,-68 6,-68 0,-62 0,-56 0,-56 0,-12 0,-12 0,-6 6,0 12,0 12,0 89.5,0 89.5,0 95.5,0 101.5,-6 101.5,-12 101.5,-12 101.5,-56 101.5,-56 101.5,-62 95.5,-68 89.5,-68\"/>\n",
       "<text text-anchor=\"middle\" x=\"50.75\" y=\"-50.7\" font-family=\"Helvetica,sans-Serif\" font-size=\"14.00\">gini = 0.0</text>\n",
       "<text text-anchor=\"middle\" x=\"50.75\" y=\"-35.7\" font-family=\"Helvetica,sans-Serif\" font-size=\"14.00\">samples = 19</text>\n",
       "<text text-anchor=\"middle\" x=\"50.75\" y=\"-20.7\" font-family=\"Helvetica,sans-Serif\" font-size=\"14.00\">value = [19, 0]</text>\n",
       "<text text-anchor=\"middle\" x=\"50.75\" y=\"-5.7\" font-family=\"Helvetica,sans-Serif\" font-size=\"14.00\">class = 1</text>\n",
       "</g>\n",
       "<!-- 0&#45;&gt;1 -->\n",
       "<g id=\"edge1\" class=\"edge\">\n",
       "<title>0&#45;&gt;1</title>\n",
       "<path fill=\"none\" stroke=\"black\" d=\"M88.41,-103.73C83.86,-95.43 79.06,-86.67 74.47,-78.28\"/>\n",
       "<polygon fill=\"black\" stroke=\"black\" points=\"77.6,-76.71 69.72,-69.63 71.46,-80.08 77.6,-76.71\"/>\n",
       "<text text-anchor=\"middle\" x=\"61.99\" y=\"-86.5\" font-family=\"Helvetica,sans-Serif\" font-size=\"14.00\">True</text>\n",
       "</g>\n",
       "<!-- 2 -->\n",
       "<g id=\"node3\" class=\"node\">\n",
       "<title>2</title>\n",
       "<path fill=\"#399de5\" stroke=\"black\" d=\"M209.5,-68C209.5,-68 132,-68 132,-68 126,-68 120,-62 120,-56 120,-56 120,-12 120,-12 120,-6 126,0 132,0 132,0 209.5,0 209.5,0 215.5,0 221.5,-6 221.5,-12 221.5,-12 221.5,-56 221.5,-56 221.5,-62 215.5,-68 209.5,-68\"/>\n",
       "<text text-anchor=\"middle\" x=\"170.75\" y=\"-50.7\" font-family=\"Helvetica,sans-Serif\" font-size=\"14.00\">gini = 0.0</text>\n",
       "<text text-anchor=\"middle\" x=\"170.75\" y=\"-35.7\" font-family=\"Helvetica,sans-Serif\" font-size=\"14.00\">samples = 31</text>\n",
       "<text text-anchor=\"middle\" x=\"170.75\" y=\"-20.7\" font-family=\"Helvetica,sans-Serif\" font-size=\"14.00\">value = [0, 31]</text>\n",
       "<text text-anchor=\"middle\" x=\"170.75\" y=\"-5.7\" font-family=\"Helvetica,sans-Serif\" font-size=\"14.00\">class = 0</text>\n",
       "</g>\n",
       "<!-- 0&#45;&gt;2 -->\n",
       "<g id=\"edge2\" class=\"edge\">\n",
       "<title>0&#45;&gt;2</title>\n",
       "<path fill=\"none\" stroke=\"black\" d=\"M133.09,-103.73C137.64,-95.43 142.44,-86.67 147.03,-78.28\"/>\n",
       "<polygon fill=\"black\" stroke=\"black\" points=\"150.04,-80.08 151.78,-69.63 143.9,-76.71 150.04,-80.08\"/>\n",
       "<text text-anchor=\"middle\" x=\"159.51\" y=\"-86.5\" font-family=\"Helvetica,sans-Serif\" font-size=\"14.00\">False</text>\n",
       "</g>\n",
       "</g>\n",
       "</svg>\n"
      ],
      "text/plain": [
       "<graphviz.sources.Source at 0x103283390>"
      ]
     },
     "execution_count": 10,
     "metadata": {},
     "output_type": "execute_result"
    }
   ],
   "source": [
    "import os\n",
    "import graphviz\n",
    "\n",
    "os.environ[\"PATH\"] += os.pathsep + 'C:/Program Files/Graphviz/bin/'\n",
    "\n",
    "with open('./bestsellers.dot') as f:\n",
    "    dot_graph = f.read()\n",
    "graphviz.Source(dot_graph)"
   ]
  },
  {
   "cell_type": "code",
   "execution_count": null,
   "id": "74a203cd",
   "metadata": {},
   "outputs": [],
   "source": [
    "from sklearn.tree import DecisionTreeClassifier, export_graphviz\n",
    "\n",
    "# Создаем модель дерева решений с глубиной 2\n",
    "tree_model = DecisionTreeClassifier(max_depth=2)\n",
    "\n",
    "# Обучаем модель на данных\n",
    "tree_model.fit(X, y)\n",
    "\n",
    "# Генерируем графическое представление дерева\n",
    "export_graphviz(tree_model, \n",
    "                feature_names=X.columns,\n",
    "                class_names=[str(x) for x in y.unique()],\n",
    "                out_file='./bestsellers_2.dot',  \n",
    "                filled=True, rounded=True)\n",
    "\n",
    "with open('./bestsellers_2.dot') as f:\n",
    "    dot_graph = f.read()\n",
    "graphviz.Source(dot_graph)"
   ]
  },
  {
   "cell_type": "markdown",
   "id": "400af150",
   "metadata": {},
   "source": [
    "Компьютерные возможности не позволяют вычислить следующий код!"
   ]
  },
  {
   "cell_type": "code",
   "execution_count": 12,
   "id": "dad7e40a",
   "metadata": {},
   "outputs": [],
   "source": [
    "#plot_markers = ['r*', 'g^']\n",
    "#answers = y.unique()\n",
    "\n",
    "# Создаем подграфики для каждой пары признаков\n",
    "#f, places = plt.subplots(6, 6, figsize=(16,16))\n",
    "\n",
    "#fmin = X.min()-0.5\n",
    "#fmax = X.max()+0.5\n",
    "#plot_step = 0.02  \n",
    "\n",
    "# Обходим все subplot\n",
    "#for i in range(0,6):\n",
    "#    for j in range(0,6):\n",
    "\n",
    "        # Строим решающие границы \n",
    "#       if(i != j):\n",
    "#            xx, yy = np.meshgrid(np.arange(fmin[i], fmax[i], plot_step),\n",
    "#                               np.arange(fmin[j], fmax[j], plot_step))\n",
    "#           model = DecisionTreeClassifier(max_depth=6, random_state=21, max_features=3)\n",
    "#            model.fit(X.iloc[:, [i,j]].values, y)\n",
    "#            p = model.predict(np.c_[xx.ravel(), yy.ravel()])\n",
    "#            p = p.reshape(xx.shape)\n",
    "#           p[p==answers[0]] = 0\n",
    "#            p[p==answers[1]] = 1\n",
    "#            xx = xx.astype(np.float32)\n",
    "#            yy = yy.astype(np.float32)\n",
    "#            p = p.astype(np.float32)\n",
    "#            places[i,j].contourf(xx, yy, p, cmap='Pastel1') \n",
    "      \n",
    "        # Обход всех классов\n",
    "#        for id_answer in range(len(answers)):\n",
    "#            idx = np.where(y == answers[id_answer])\n",
    "#           if i==j:\n",
    "#                 places[i, j].hist(X.iloc[idx].iloc[:,i],\n",
    "#                          color=plot_markers[id_answer][0],\n",
    "#                          histtype = 'step')\n",
    "#           else:\n",
    "#                 places[i, j].plot(X.iloc[idx].iloc[:,i], X.iloc[idx].iloc[:,j], \n",
    "#                              plot_markers[id_answer], \n",
    "#                               label=answers[id_answer], markersize=6)\n",
    "        \n",
    "#           if j==0:\n",
    "#                 places[i, j].set_ylabel(X.columns[i])\n",
    "        \n",
    "#           if i==6:\n",
    "#                 places[i, j].set_xlabel(X.columns[j])\n",
    "        "
   ]
  },
  {
   "cell_type": "code",
   "execution_count": 26,
   "id": "c5b6e43d",
   "metadata": {},
   "outputs": [
    {
     "name": "stdout",
     "output_type": "stream",
     "text": [
      "Введите рейтинг: 4.7\n",
      "Введите количетсво отзывов: 12345\n",
      "Введите цену: 27\n",
      "Введите год: 2003\n",
      "Введите параметр: 0\n",
      "\n",
      "Книга соответвсвует жанру  Fiction\n"
     ]
    }
   ],
   "source": [
    "dtc = DecisionTreeClassifier(max_depth=4, \n",
    "                             random_state=21, \n",
    "                             max_features=3)\n",
    "dtc.fit(X.values, y.values)\n",
    "\n",
    "\n",
    "# Использование классификатора\n",
    "# Объявление признаков объекта\n",
    "\n",
    "rating = float(input('Введите рейтинг: '))\n",
    "reviews = float(input('Введите количетсво отзывов: '))\n",
    "price = float(input('Введите цену: '))\n",
    "year = float(input('Введите год: '))\n",
    "x = float(input('Введите параметр: '))\n",
    "\n",
    "X_new = np.array([[rating, reviews, price, year, x]])\n",
    "\n",
    "# Получение ответа для нового объекта\n",
    "target = dtc.predict(X_new)[0]\n",
    "\n",
    "if target == 0:\n",
    "    iris_type = 'Fiction'\n",
    "elif target == 1:\n",
    "    iris_type = 'Non Fiction'\n",
    "\n",
    "print('\\nКнига соответвсвует жанру ',iris_type)\n"
   ]
  },
  {
   "cell_type": "markdown",
   "id": "ac2ad5ca",
   "metadata": {},
   "source": [
    "## Контрольные вопросы"
   ]
  },
  {
   "cell_type": "markdown",
   "id": "c44ae02c",
   "metadata": {},
   "source": [
    "### 1. Поясните принцип построения дерева решений."
   ]
  },
  {
   "cell_type": "markdown",
   "id": "745a9e9a",
   "metadata": {},
   "source": [
    "Дерево решений (Decision Tree) - это мощный метод машинного обучения, используемый для классификации и регрессии. Основная идея дерева решений - разбиение набора данных на подмножества на основе признаков, чтобы последовательно принимать решения о классификации или прогнозе целевой переменной. Вот принцип построения дерева решений:\n",
    "\n",
    "1. **Выбор признака для разбиения**: На каждом уровне дерева выбирается признак, который наилучшим образом разделяет данные на подмножества. Этот выбор осуществляется на основе критерия разделения, такого как \"прирост информации\" (Information Gain), \"критерий Джини\" (Gini Impurity) или \"ошибка классификации\" (Classification Error). Цель - максимизировать чистоту (или минимизировать неопределенность) подмножеств, чтобы легче классифицировать объекты.\n",
    "\n",
    "2. **Разбиение данных**: После выбора признака происходит разбиение данных на два (или более) подмножества в соответствии с значениями этого признака. Например, если признак является числовым, то данные могут быть разделены на два подмножества, где значения признака меньше или больше определенного порога. Если признак категориальный, то данные могут быть разделены на подмножества, соответствующие разным категориям.\n",
    "\n",
    "3. **Рекурсивное построение дерева**: Процесс разбиения и выбора признака выполняется рекурсивно для каждого подмножества. Это означает, что для каждого узла дерева происходит выбор нового признака и разбиение данных, пока не выполняются некоторые критерии останова. Критерии останова могут включать в себя достижение максимальной глубины дерева, достижение минимального количества объектов в узле, или другие.\n",
    "\n",
    "4. **Листовые узлы (узлы решения)**: Когда дерево достигает конечного состояния, то есть больше нельзя разбивать данные, создаются листовые узлы, которые представляют собой решения или прогнозы для конкретных классов (в задачах классификации) или числовые значения (в задачах регрессии).\n",
    "\n",
    "Преимущества деревьев решений включают простоту интерпретации, способность обрабатывать как числовые, так и категориальные данные, а также хорошую масштабируемость. Однако, они также могут быть склонны к переобучению, поэтому важно контролировать глубину дерева и другие параметры для оптимальной производительности."
   ]
  },
  {
   "cell_type": "markdown",
   "id": "3502a513",
   "metadata": {},
   "source": [
    "### 2. Укажите статистическое определение информативности."
   ]
  },
  {
   "cell_type": "markdown",
   "id": "4ff06753",
   "metadata": {},
   "source": [
    "Информативность, в статистике и машинном обучении, часто измеряется с использованием таких понятий, как \"прирост информации\" (Information Gain) или \"энтропия\". Вот статистическое определение информативности, связанное с этими концепциями:\n",
    "\n",
    "1. **Энтропия (Entropy)**: Энтропия - это мера неопределенности в наборе данных. Чем выше энтропия, тем более неопределенным является набор данных. Энтропия вычисляется для категориальных данных и принимает значение от 0 до 1. Когда набор данных состоит из объектов одного класса, энтропия равна 0 (полная уверенность). Когда набор данных равномерно разделен между несколькими классами, энтропия максимальна (максимум неопределенности).\n",
    "\n",
    "2. **Прирост информации (Information Gain)**: Прирост информации - это мера того, насколько разделение набора данных на подмножества путем выбора определенного признака уменьшает энтропию (неопределенность) в наборе данных. Чем больше прирост информации, тем более информативным считается признак. Вычисляется прирост информации как разница между начальной энтропией и средней взвешенной энтропией после разделения данных.\n",
    "\n",
    "Важно отметить, что при построении деревьев решений, а также в других методах, прирост информации используется для выбора наилучшего признака для разделения данных и создания узлов дерева решений. Признаки с более высоким приростом информации считаются более информативными, поскольку они лучше уменьшают неопределенность и уточняют классификацию объектов."
   ]
  },
  {
   "cell_type": "markdown",
   "id": "1d0ac5ad",
   "metadata": {},
   "source": [
    "### 3. Поясните энтропийное определение информативности."
   ]
  },
  {
   "cell_type": "markdown",
   "id": "68ebaf29",
   "metadata": {},
   "source": [
    "Энтропийное определение информативности связано с концепцией энтропии, которая измеряет степень хаоса или неопределенности в системе. В машинном обучении, особенно при построении деревьев решений, энтропия используется как мера информативности признака. Чем ниже энтропия, тем более информативным считается признак.\n",
    "\n",
    "Энтропия достигает минимума, равного 0, когда все объекты в наборе данных принадлежат к одному и тому же классу, что означает полную уверенность в классификации. Энтропия достигает максимума, когда объекты равномерно распределены по всем классам, что означает максимальную неопределенность.\n",
    "\n",
    "Информативность признака в контексте энтропии оценивается через прирост информации (Information Gain), который измеряет разницу в энтропии до и после разделения данных на подмножества на основе значения этого признака. Чем больше прирост информации, тем более информативен признак. Выбираются признаки, которые обеспечивают наибольший прирост информации при разбиении данных.\n",
    "\n",
    "Энтропийное определение информативности учитывает, насколько хорошо данный признак помогает уменьшить неопределенность в наборе данных, и используется в алгоритмах построения деревьев решений и других методах классификации для выбора наилучших признаков для разделения данных и создания узлов дерева."
   ]
  },
  {
   "cell_type": "markdown",
   "id": "2a9c06a3",
   "metadata": {},
   "source": [
    "### 4. Что такое многоклассовая информативность? Для чего она применяется?\n"
   ]
  },
  {
   "cell_type": "markdown",
   "id": "3dbb0952",
   "metadata": {},
   "source": [
    "Многоклассовая информативность (Multi-Class Information Gain) - это понятие, которое связано с задачами классификации, в которых существует более двух классов, и оценивается важность признаков в разделении данных на несколько классов. Она аналогична концепции прироста информации (Information Gain) в бинарной классификации, но адаптирована для ситуаций с несколькими классами.\n",
    "\n",
    "Многоклассовая информативность используется для следующих целей:\n",
    "\n",
    "1. **Выбор признаков**: При построении моделей многоклассовой классификации, таких как многоклассовые деревья решений или методы многоклассовой логистической регрессии, важно определить, какие признаки наиболее информативны для разделения данных на различные классы. Многоклассовая информативность помогает выбрать наилучшие признаки для этой цели.\n",
    "\n",
    "2. **Ранжирование признаков**: Признаки оцениваются на их информативность, и они могут быть ранжированы в порядке убывания информативности. Это позволяет исследователям и инженерам признаков сосредоточить внимание на наиболее важных признаках.\n",
    "\n",
    "3. **Улучшение интерпретации**: Понимание информативности признаков помогает визуализировать и интерпретировать результаты модели многоклассовой классификации. Это позволяет объяснить, почему модель сделала определенное предсказание и какие признаки были наиболее важными для этого предсказания.\n",
    "\n",
    "Многоклассовая информативность может быть оценена разными способами, включая статистические методы, такие как анализ дисперсии (ANOVA) и критерий Джини (Gini Impurity), а также методы, основанные на мере энтропии. Оценка информативности признаков может быть интегрирована в процесс выбора признаков, построения моделей и оптимизации алгоритмов многоклассовой классификации."
   ]
  },
  {
   "cell_type": "markdown",
   "id": "1a675a9f",
   "metadata": {},
   "source": [
    "### 5. Поясните назначение и алгоритм бинаризации количественных признаков."
   ]
  },
  {
   "cell_type": "markdown",
   "id": "fa115c1a",
   "metadata": {},
   "source": [
    "**Назначение бинаризации количественных признаков:**\n",
    "\n",
    "Бинаризация количественных признаков - это процесс преобразования непрерывных числовых признаков в бинарные (двоичные) признаки. Этот процесс может быть полезным в различных сценариях машинного обучения и анализа данных:\n",
    "\n",
    "1. **Улучшение интерпретации**: Бинаризация может сделать признаки более интерпретируемыми. Вместо анализа непрерывных числовых значений можно рассматривать бинарные категории, что упрощает понимание влияния признаков на целевую переменную.\n",
    "\n",
    "2. **Учет нелинейных отношений**: Бинаризация позволяет моделировать нелинейные отношения между признаками и целевой переменной. Это может быть полезно, если влияние признака на целевую переменную зависит от определенных интервалов значений.\n",
    "\n",
    "3. **Использование в алгоритмах, работающих с категориальными данными**: Некоторые алгоритмы машинного обучения, такие как деревья решений, работают лучше с категориальными данными. Бинаризация позволяет преобразовать количественные признаки в бинарные, что упрощает их использование в таких алгоритмах.\n",
    "\n",
    "**Алгоритм бинаризации количественных признаков:**\n",
    "\n",
    "Процесс бинаризации количественных признаков может быть выполнен следующим образом:\n",
    "\n",
    "1. **Выбор порогового значения**: Сначала необходимо выбрать пороговое значение (threshold), которое будет использоваться для разделения непрерывного признака на два бинарных подпризнака. Это пороговое значение может выбираться на основе знаний о данных или с использованием статистических методов.\n",
    "\n",
    "2. **Создание бинарных признаков**: После выбора порога создаются два бинарных признака:\n",
    "   - Первый бинарный признак: принимает значение 1, если значение исходного признака больше порогового значения, и 0 в противном случае.\n",
    "   - Второй бинарный признак: принимает значение 1, если значение исходного признака меньше или равно пороговому значению, и 0 в противном случае.\n",
    "\n",
    "3. **Повторение для каждого признака и порога**: Этот процесс может быть выполнен для каждого количественного признака и разных пороговых значений. В результате каждый количественный признак превращается в набор бинарных признаков, которые могут быть использованы для обучения модели.\n",
    "\n",
    "4. **Учет множества порогов**: В некоторых случаях может потребоваться учитывать несколько пороговых значений для каждого признака, чтобы учесть нелинейные отношения. Это приводит к созданию большего числа бинарных признаков, но может улучшить способность модели аппроксимировать данные.\n",
    "\n",
    "Бинаризация количественных признаков является важным этапом в предобработке данных и зависит от конкретной задачи и метода машинного обучения, который вы планируете использовать."
   ]
  },
  {
   "cell_type": "markdown",
   "id": "825dfcf3",
   "metadata": {},
   "source": [
    "### 6. Поясните порядок поиска закономерностей в форме конъюнкций."
   ]
  },
  {
   "cell_type": "markdown",
   "id": "c785beee",
   "metadata": {},
   "source": [
    "Поиск закономерностей в форме конъюнкций - это процесс анализа данных с целью выявления правил или условий, которые объединяются в форме \"И\" (конъюнкция) для определения, когда выполняется некоторое событие или условие. Этот метод наиболее часто используется в контексте обучения правил (Rule Learning) и ассоциативного анализа. Вот порядок поиска закономерностей в форме конъюнкций:\n",
    "\n",
    "1. **Выбор набора данных**: Начните с выбора набора данных, который содержит информацию о событиях или объектах, которые вы хотите исследовать. Эти данные могут быть структурированными или неструктурированными.\n",
    "\n",
    "2. **Определение цели**: Четко определите, какую цель вы пытаетесь достичь, и что вы хотите найти или предсказать с помощью конъюнкций. Например, вы можете искать закономерности, предсказывающие покупку продукта на основе определенных факторов.\n",
    "\n",
    "3. **Выбор признаков**: Определите набор признаков, которые вы хотите использовать в вашем анализе. Признаки могут быть числовыми, категориальными или текстовыми. Выбор признаков зависит от вашей цели и характера данных.\n",
    "\n",
    "4. **Определение конъюнкций**: Создайте набор условий, которые вы считаете важными для вашей задачи. Каждое условие может быть выражено в виде конъюнкции, состоящей из одного или нескольких признаков и их значений. Например, \"возраст > 30 и доход > 50000\".\n",
    "\n",
    "5. **Анализ данных**: Примените созданные конъюнкции к вашему набору данных и оцените, насколько они выполняются для разных объектов или событий. Это может включать в себя вычисление статистик, таких как точность или поддержка (support), которые показывают, насколько часто конъюнкции выполняются.\n",
    "\n",
    "6. **Отбор и ранжирование конъюнкций**: Отберите наиболее информативные и важные конъюнкции, которые наилучшим образом соответствуют вашей цели. Это может включать в себя установление пороговых значений для точности или поддержки, чтобы отобрать только значимые конъюнкции.\n",
    "\n",
    "7. **Визуализация и интерпретация**: Представьте результаты анализа визуально и интерпретируйте полученные закономерности. Это поможет вам понять, какие условия и признаки связаны с вашей целью.\n",
    "\n",
    "8. **Применение закономерностей**: В зависимости от вашей цели, вы можете использовать найденные закономерности для принятия решений, предсказаний или оптимизации процессов.\n",
    "\n",
    "9. **Мониторинг и обновление**: Закономерности могут меняться со временем, поэтому важно периодически мониторить данные и обновлять конъюнкции, чтобы они оставались актуальными.\n",
    "\n",
    "Этот процесс может применяться в различных областях, включая маркетинг, медицину, финансы и многие другие, где есть интерес к поиску закономерностей в данных для принятия решений или предсказания будущих событий."
   ]
  }
 ],
 "metadata": {
  "kernelspec": {
   "display_name": "Python 3 (ipykernel)",
   "language": "python",
   "name": "python3"
  },
  "language_info": {
   "codemirror_mode": {
    "name": "ipython",
    "version": 3
   },
   "file_extension": ".py",
   "mimetype": "text/x-python",
   "name": "python",
   "nbconvert_exporter": "python",
   "pygments_lexer": "ipython3",
   "version": "3.11.1"
  }
 },
 "nbformat": 4,
 "nbformat_minor": 5
}
