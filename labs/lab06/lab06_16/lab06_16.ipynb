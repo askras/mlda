{
 "cells": [
  {
   "cell_type": "markdown",
   "id": "fff5e57e-6491-4435-90f8-1f6aa02ea42f",
   "metadata": {
    "tags": []
   },
   "source": [
    "# Лабораторная работа №6 Построение модели линейной одномерной регрессии\n",
    "                                                                                                        \n",
    "## Сергеев Никита \n",
    "Вариант 16\n",
    "## Ход работы:\n",
    "### Цель работы\n",
    "\n",
    "изучение принципов построения модели линейной одномерной регрессии.\n",
    "\n",
    "### Задачи \n",
    "\n",
    " - реализовать каонвейер для выполнения всех стадий обработки данных при решении задачи одномерной регрессии;\n",
    " - получение теоретических представлений о задаче регресии;\n",
    " - получение навыков использования пайплайна при решении задачи машинного обучения;\n",
    " - получение навыков рефакторинга кода в задачах машинного обучения. "
   ]
  },
  {
   "cell_type": "markdown",
   "id": "00696458-b4a8-463a-a836-d7d6d8c6546a",
   "metadata": {},
   "source": [
    "## Ход работы:"
   ]
  },
  {
   "cell_type": "markdown",
   "id": "a44d65b5-d2c6-4e27-b4e1-4f0e1f53192e",
   "metadata": {},
   "source": [
    "### Загружаем набор данных"
   ]
  },
  {
   "cell_type": "code",
   "execution_count": 1,
   "id": "38bee776-cb67-492a-832c-99dd93be4aa9",
   "metadata": {
    "tags": []
   },
   "outputs": [],
   "source": [
    "import numpy as np\n",
    "import matplotlib.pyplot as plt\n",
    "import pandas as pd"
   ]
  },
  {
   "cell_type": "code",
   "execution_count": 13,
   "id": "ef9112d6-9d60-45f5-a7bd-36aebd902ed4",
   "metadata": {
    "tags": []
   },
   "outputs": [
    {
     "data": {
      "text/html": [
       "<div>\n",
       "<style scoped>\n",
       "    .dataframe tbody tr th:only-of-type {\n",
       "        vertical-align: middle;\n",
       "    }\n",
       "\n",
       "    .dataframe tbody tr th {\n",
       "        vertical-align: top;\n",
       "    }\n",
       "\n",
       "    .dataframe thead th {\n",
       "        text-align: right;\n",
       "    }\n",
       "</style>\n",
       "<table border=\"1\" class=\"dataframe\">\n",
       "  <thead>\n",
       "    <tr style=\"text-align: right;\">\n",
       "      <th></th>\n",
       "      <th>PassengerId</th>\n",
       "      <th>Survived</th>\n",
       "      <th>Pclass</th>\n",
       "      <th>Name</th>\n",
       "      <th>Sex</th>\n",
       "      <th>Age</th>\n",
       "      <th>SibSp</th>\n",
       "      <th>Parch</th>\n",
       "      <th>Ticket</th>\n",
       "      <th>Fare</th>\n",
       "      <th>Cabin</th>\n",
       "      <th>Embarked</th>\n",
       "    </tr>\n",
       "  </thead>\n",
       "  <tbody>\n",
       "    <tr>\n",
       "      <th>0</th>\n",
       "      <td>1</td>\n",
       "      <td>0</td>\n",
       "      <td>3</td>\n",
       "      <td>Braund, Mr. Owen Harris</td>\n",
       "      <td>male</td>\n",
       "      <td>22.0</td>\n",
       "      <td>1</td>\n",
       "      <td>0</td>\n",
       "      <td>A/5 21171</td>\n",
       "      <td>7.2500</td>\n",
       "      <td>NaN</td>\n",
       "      <td>S</td>\n",
       "    </tr>\n",
       "    <tr>\n",
       "      <th>1</th>\n",
       "      <td>2</td>\n",
       "      <td>1</td>\n",
       "      <td>1</td>\n",
       "      <td>Cumings, Mrs. John Bradley (Florence Briggs Th...</td>\n",
       "      <td>female</td>\n",
       "      <td>38.0</td>\n",
       "      <td>1</td>\n",
       "      <td>0</td>\n",
       "      <td>PC 17599</td>\n",
       "      <td>71.2833</td>\n",
       "      <td>C85</td>\n",
       "      <td>C</td>\n",
       "    </tr>\n",
       "    <tr>\n",
       "      <th>2</th>\n",
       "      <td>3</td>\n",
       "      <td>1</td>\n",
       "      <td>3</td>\n",
       "      <td>Heikkinen, Miss. Laina</td>\n",
       "      <td>female</td>\n",
       "      <td>26.0</td>\n",
       "      <td>0</td>\n",
       "      <td>0</td>\n",
       "      <td>STON/O2. 3101282</td>\n",
       "      <td>7.9250</td>\n",
       "      <td>NaN</td>\n",
       "      <td>S</td>\n",
       "    </tr>\n",
       "    <tr>\n",
       "      <th>3</th>\n",
       "      <td>4</td>\n",
       "      <td>1</td>\n",
       "      <td>1</td>\n",
       "      <td>Futrelle, Mrs. Jacques Heath (Lily May Peel)</td>\n",
       "      <td>female</td>\n",
       "      <td>35.0</td>\n",
       "      <td>1</td>\n",
       "      <td>0</td>\n",
       "      <td>113803</td>\n",
       "      <td>53.1000</td>\n",
       "      <td>C123</td>\n",
       "      <td>S</td>\n",
       "    </tr>\n",
       "    <tr>\n",
       "      <th>4</th>\n",
       "      <td>5</td>\n",
       "      <td>0</td>\n",
       "      <td>3</td>\n",
       "      <td>Allen, Mr. William Henry</td>\n",
       "      <td>male</td>\n",
       "      <td>35.0</td>\n",
       "      <td>0</td>\n",
       "      <td>0</td>\n",
       "      <td>373450</td>\n",
       "      <td>8.0500</td>\n",
       "      <td>NaN</td>\n",
       "      <td>S</td>\n",
       "    </tr>\n",
       "  </tbody>\n",
       "</table>\n",
       "</div>"
      ],
      "text/plain": [
       "   PassengerId  Survived  Pclass   \n",
       "0            1         0       3  \\\n",
       "1            2         1       1   \n",
       "2            3         1       3   \n",
       "3            4         1       1   \n",
       "4            5         0       3   \n",
       "\n",
       "                                                Name     Sex   Age  SibSp   \n",
       "0                            Braund, Mr. Owen Harris    male  22.0      1  \\\n",
       "1  Cumings, Mrs. John Bradley (Florence Briggs Th...  female  38.0      1   \n",
       "2                             Heikkinen, Miss. Laina  female  26.0      0   \n",
       "3       Futrelle, Mrs. Jacques Heath (Lily May Peel)  female  35.0      1   \n",
       "4                           Allen, Mr. William Henry    male  35.0      0   \n",
       "\n",
       "   Parch            Ticket     Fare Cabin Embarked  \n",
       "0      0         A/5 21171   7.2500   NaN        S  \n",
       "1      0          PC 17599  71.2833   C85        C  \n",
       "2      0  STON/O2. 3101282   7.9250   NaN        S  \n",
       "3      0            113803  53.1000  C123        S  \n",
       "4      0            373450   8.0500   NaN        S  "
      ]
     },
     "execution_count": 13,
     "metadata": {},
     "output_type": "execute_result"
    }
   ],
   "source": [
    "dataset = pd.read_csv('./lab06_16/dataset/train.csv')\n",
    "dataset.head()"
   ]
  },
  {
   "cell_type": "markdown",
   "id": "d5f5445d-9f9b-47cc-875d-ff96f4d52065",
   "metadata": {},
   "source": [
    "### Удаляем пустые строки с пустыми значениями класса"
   ]
  },
  {
   "cell_type": "code",
   "execution_count": 14,
   "id": "c5d46aa7-1090-4457-ab12-9031ddab8f32",
   "metadata": {
    "tags": []
   },
   "outputs": [
    {
     "data": {
      "text/html": [
       "<div>\n",
       "<style scoped>\n",
       "    .dataframe tbody tr th:only-of-type {\n",
       "        vertical-align: middle;\n",
       "    }\n",
       "\n",
       "    .dataframe tbody tr th {\n",
       "        vertical-align: top;\n",
       "    }\n",
       "\n",
       "    .dataframe thead th {\n",
       "        text-align: right;\n",
       "    }\n",
       "</style>\n",
       "<table border=\"1\" class=\"dataframe\">\n",
       "  <thead>\n",
       "    <tr style=\"text-align: right;\">\n",
       "      <th></th>\n",
       "      <th>Fare</th>\n",
       "      <th>Pclass</th>\n",
       "    </tr>\n",
       "  </thead>\n",
       "  <tbody>\n",
       "    <tr>\n",
       "      <th>0</th>\n",
       "      <td>7.2500</td>\n",
       "      <td>3</td>\n",
       "    </tr>\n",
       "    <tr>\n",
       "      <th>1</th>\n",
       "      <td>71.2833</td>\n",
       "      <td>1</td>\n",
       "    </tr>\n",
       "    <tr>\n",
       "      <th>2</th>\n",
       "      <td>7.9250</td>\n",
       "      <td>3</td>\n",
       "    </tr>\n",
       "    <tr>\n",
       "      <th>3</th>\n",
       "      <td>53.1000</td>\n",
       "      <td>1</td>\n",
       "    </tr>\n",
       "    <tr>\n",
       "      <th>4</th>\n",
       "      <td>8.0500</td>\n",
       "      <td>3</td>\n",
       "    </tr>\n",
       "  </tbody>\n",
       "</table>\n",
       "</div>"
      ],
      "text/plain": [
       "      Fare  Pclass\n",
       "0   7.2500       3\n",
       "1  71.2833       1\n",
       "2   7.9250       3\n",
       "3  53.1000       1\n",
       "4   8.0500       3"
      ]
     },
     "execution_count": 14,
     "metadata": {},
     "output_type": "execute_result"
    }
   ],
   "source": [
    "dataset = dataset.loc[:, [\"Fare\", \"Pclass\"]]\n",
    "dataset = dataset.dropna(subset=[\"Pclass\"])\n",
    "dataset.head()"
   ]
  },
  {
   "cell_type": "markdown",
   "id": "2ba66387-d026-4e76-a3f7-c297c524811d",
   "metadata": {},
   "source": [
    "### Разделяем на матрицу признаков и зависимую переменную"
   ]
  },
  {
   "cell_type": "code",
   "execution_count": 15,
   "id": "e54db6b1-7e24-4b7e-9173-56a48eb5e018",
   "metadata": {
    "tags": []
   },
   "outputs": [
    {
     "name": "stdout",
     "output_type": "stream",
     "text": [
      "Матрица признаков\n",
      "[3 1 3 1 3]\n",
      "Зависимая переменная\n",
      "[ 7.25   71.2833  7.925  53.1     8.05  ]\n"
     ]
    }
   ],
   "source": [
    "y = dataset.loc[:, \"Fare\"].values\n",
    "X = dataset.loc[:, \"Pclass\"].values\n",
    "print (\"Матрица признаков\"); print(X[:5])\n",
    "print (\"Зависимая переменная\"); print(y[:5])\n",
    "# X = X.reshape(-1, 1)"
   ]
  },
  {
   "cell_type": "markdown",
   "id": "ee66966a-d56b-4820-8f24-0beedeac3cdc",
   "metadata": {},
   "source": [
    "### Обрабатываем пустые значения"
   ]
  },
  {
   "cell_type": "code",
   "execution_count": 16,
   "id": "f2d19129-5ec7-4c0d-82ba-1845959e47eb",
   "metadata": {
    "tags": []
   },
   "outputs": [
    {
     "data": {
      "text/plain": [
       "array([[ 7.25  ],\n",
       "       [71.2833],\n",
       "       [ 7.925 ],\n",
       "       [53.1   ],\n",
       "       [ 8.05  ],\n",
       "       [ 8.4583],\n",
       "       [51.8625],\n",
       "       [21.075 ],\n",
       "       [11.1333],\n",
       "       [30.0708]])"
      ]
     },
     "execution_count": 16,
     "metadata": {},
     "output_type": "execute_result"
    }
   ],
   "source": [
    "from sklearn.impute import SimpleImputer\n",
    "\n",
    "imputer = SimpleImputer(missing_values = np.nan, strategy = 'mean')\n",
    "imputer = imputer.fit(y.reshape(-1, 1)[:, :])\n",
    "y_without_nan = y.reshape(-1, 1).copy()\n",
    "y_without_nan[:, :] = imputer.transform(y.reshape(-1, 1)[:, :])\n",
    "y_without_nan[:10]"
   ]
  },
  {
   "cell_type": "markdown",
   "id": "389870a3-6b41-4011-939b-09dd9f3b5828",
   "metadata": {},
   "source": [
    "### Загрузим и обработаем тестовые данные"
   ]
  },
  {
   "cell_type": "code",
   "execution_count": 19,
   "id": "779456e4-6ea3-4dff-988a-8e470b1049df",
   "metadata": {
    "tags": []
   },
   "outputs": [],
   "source": [
    "dataset_test = pd.read_csv('./lab06_16/dataset/test.csv')\n",
    "dataset_test = dataset_test.loc[:, [\"Fare\", \"Pclass\"]]\n",
    "dataset_test = dataset_test.dropna(subset=[\"Pclass\"])\n",
    "dataset_test = dataset_test.dropna(subset=[\"Fare\"])"
   ]
  },
  {
   "cell_type": "code",
   "execution_count": 20,
   "id": "1a2fb542-d577-4fd6-b253-ab2265de2f89",
   "metadata": {
    "tags": []
   },
   "outputs": [
    {
     "name": "stdout",
     "output_type": "stream",
     "text": [
      "Матрица признаков\n",
      "[3 1 3 1 3]\n",
      "Зависимая переменная\n",
      "[ 7.25   71.2833  7.925  53.1     8.05  ]\n"
     ]
    }
   ],
   "source": [
    "y_test = dataset_test.loc[:, \"Fare\"].values.reshape(-1, 1)\n",
    "X_test = dataset_test.loc[:, \"Pclass\"].values.reshape(-1, 1)\n",
    "print (\"Матрица признаков\"); print(X[:5])\n",
    "print (\"Зависимая переменная\"); print(y[:5])"
   ]
  },
  {
   "cell_type": "code",
   "execution_count": 21,
   "id": "660c0da4-1c70-4f4e-a97d-860ec5273f11",
   "metadata": {
    "tags": []
   },
   "outputs": [
    {
     "data": {
      "text/plain": [
       "array([[ 7.8292],\n",
       "       [ 7.    ],\n",
       "       [ 9.6875],\n",
       "       [ 8.6625],\n",
       "       [12.2875],\n",
       "       [ 9.225 ],\n",
       "       [ 7.6292],\n",
       "       [29.    ],\n",
       "       [ 7.2292],\n",
       "       [24.15  ]])"
      ]
     },
     "execution_count": 21,
     "metadata": {},
     "output_type": "execute_result"
    }
   ],
   "source": [
    "imputer = SimpleImputer(missing_values = np.nan, strategy = 'mean')\n",
    "imputer = imputer.fit(y_test.reshape(-1, 1)[:, :])\n",
    "y_test = y_test.reshape(-1, 1).copy()\n",
    "y_test[:, :] = imputer.transform(y_test.reshape(-1, 1)[:, :])\n",
    "y_test[:10]"
   ]
  },
  {
   "cell_type": "markdown",
   "id": "fc522b4c-4927-4542-8e70-54e217fb2b30",
   "metadata": {},
   "source": [
    "### Обучаем линейную модель регрессии"
   ]
  },
  {
   "cell_type": "code",
   "execution_count": 22,
   "id": "a8c8d447-a8c7-42af-a3ae-7982e5276e34",
   "metadata": {
    "tags": []
   },
   "outputs": [
    {
     "data": {
      "text/html": [
       "<style>#sk-container-id-2 {color: black;}#sk-container-id-2 pre{padding: 0;}#sk-container-id-2 div.sk-toggleable {background-color: white;}#sk-container-id-2 label.sk-toggleable__label {cursor: pointer;display: block;width: 100%;margin-bottom: 0;padding: 0.3em;box-sizing: border-box;text-align: center;}#sk-container-id-2 label.sk-toggleable__label-arrow:before {content: \"▸\";float: left;margin-right: 0.25em;color: #696969;}#sk-container-id-2 label.sk-toggleable__label-arrow:hover:before {color: black;}#sk-container-id-2 div.sk-estimator:hover label.sk-toggleable__label-arrow:before {color: black;}#sk-container-id-2 div.sk-toggleable__content {max-height: 0;max-width: 0;overflow: hidden;text-align: left;background-color: #f0f8ff;}#sk-container-id-2 div.sk-toggleable__content pre {margin: 0.2em;color: black;border-radius: 0.25em;background-color: #f0f8ff;}#sk-container-id-2 input.sk-toggleable__control:checked~div.sk-toggleable__content {max-height: 200px;max-width: 100%;overflow: auto;}#sk-container-id-2 input.sk-toggleable__control:checked~label.sk-toggleable__label-arrow:before {content: \"▾\";}#sk-container-id-2 div.sk-estimator input.sk-toggleable__control:checked~label.sk-toggleable__label {background-color: #d4ebff;}#sk-container-id-2 div.sk-label input.sk-toggleable__control:checked~label.sk-toggleable__label {background-color: #d4ebff;}#sk-container-id-2 input.sk-hidden--visually {border: 0;clip: rect(1px 1px 1px 1px);clip: rect(1px, 1px, 1px, 1px);height: 1px;margin: -1px;overflow: hidden;padding: 0;position: absolute;width: 1px;}#sk-container-id-2 div.sk-estimator {font-family: monospace;background-color: #f0f8ff;border: 1px dotted black;border-radius: 0.25em;box-sizing: border-box;margin-bottom: 0.5em;}#sk-container-id-2 div.sk-estimator:hover {background-color: #d4ebff;}#sk-container-id-2 div.sk-parallel-item::after {content: \"\";width: 100%;border-bottom: 1px solid gray;flex-grow: 1;}#sk-container-id-2 div.sk-label:hover label.sk-toggleable__label {background-color: #d4ebff;}#sk-container-id-2 div.sk-serial::before {content: \"\";position: absolute;border-left: 1px solid gray;box-sizing: border-box;top: 0;bottom: 0;left: 50%;z-index: 0;}#sk-container-id-2 div.sk-serial {display: flex;flex-direction: column;align-items: center;background-color: white;padding-right: 0.2em;padding-left: 0.2em;position: relative;}#sk-container-id-2 div.sk-item {position: relative;z-index: 1;}#sk-container-id-2 div.sk-parallel {display: flex;align-items: stretch;justify-content: center;background-color: white;position: relative;}#sk-container-id-2 div.sk-item::before, #sk-container-id-2 div.sk-parallel-item::before {content: \"\";position: absolute;border-left: 1px solid gray;box-sizing: border-box;top: 0;bottom: 0;left: 50%;z-index: -1;}#sk-container-id-2 div.sk-parallel-item {display: flex;flex-direction: column;z-index: 1;position: relative;background-color: white;}#sk-container-id-2 div.sk-parallel-item:first-child::after {align-self: flex-end;width: 50%;}#sk-container-id-2 div.sk-parallel-item:last-child::after {align-self: flex-start;width: 50%;}#sk-container-id-2 div.sk-parallel-item:only-child::after {width: 0;}#sk-container-id-2 div.sk-dashed-wrapped {border: 1px dashed gray;margin: 0 0.4em 0.5em 0.4em;box-sizing: border-box;padding-bottom: 0.4em;background-color: white;}#sk-container-id-2 div.sk-label label {font-family: monospace;font-weight: bold;display: inline-block;line-height: 1.2em;}#sk-container-id-2 div.sk-label-container {text-align: center;}#sk-container-id-2 div.sk-container {/* jupyter's `normalize.less` sets `[hidden] { display: none; }` but bootstrap.min.css set `[hidden] { display: none !important; }` so we also need the `!important` here to be able to override the default hidden behavior on the sphinx rendered scikit-learn.org. See: https://github.com/scikit-learn/scikit-learn/issues/21755 */display: inline-block !important;position: relative;}#sk-container-id-2 div.sk-text-repr-fallback {display: none;}</style><div id=\"sk-container-id-2\" class=\"sk-top-container\"><div class=\"sk-text-repr-fallback\"><pre>LinearRegression()</pre><b>In a Jupyter environment, please rerun this cell to show the HTML representation or trust the notebook. <br />On GitHub, the HTML representation is unable to render, please try loading this page with nbviewer.org.</b></div><div class=\"sk-container\" hidden><div class=\"sk-item\"><div class=\"sk-estimator sk-toggleable\"><input class=\"sk-toggleable__control sk-hidden--visually\" id=\"sk-estimator-id-2\" type=\"checkbox\" checked><label for=\"sk-estimator-id-2\" class=\"sk-toggleable__label sk-toggleable__label-arrow\">LinearRegression</label><div class=\"sk-toggleable__content\"><pre>LinearRegression()</pre></div></div></div></div></div>"
      ],
      "text/plain": [
       "LinearRegression()"
      ]
     },
     "execution_count": 22,
     "metadata": {},
     "output_type": "execute_result"
    }
   ],
   "source": [
    "from sklearn.linear_model import LinearRegression\n",
    "regressor = LinearRegression()\n",
    "y_without_nan = y_without_nan.reshape(-1, 1)\n",
    "regressor.fit(y_without_nan, X)"
   ]
  },
  {
   "cell_type": "markdown",
   "id": "f9ae226f-acf1-4325-b47c-9d400d285257",
   "metadata": {},
   "source": [
    "### Предсказание, обработка и визуализация результатов"
   ]
  },
  {
   "cell_type": "code",
   "execution_count": 25,
   "id": "e3ae3671-a6c9-4e78-a571-804eb7a9384e",
   "metadata": {
    "tags": []
   },
   "outputs": [
    {
     "name": "stdout",
     "output_type": "stream",
     "text": [
      "[2.57863786 2.57863786 2.58788297 2.57863786 2.57863786 2.57863786\n",
      " 2.57863786 2.58788297 2.57863786 2.57863786 2.57863786 2.59712807\n",
      " 2.59712807 2.58788297 2.59712807 2.58788297 2.58788297 2.57863786\n",
      " 2.57863786 2.57863786 2.59712807 2.57863786 2.59712807 2.59712807\n",
      " 2.59712807 2.57863786 2.59712807 2.57863786 2.59712807 2.57863786\n",
      " 2.58788297 2.58788297 2.57863786 2.57863786 2.59712807 2.57863786\n",
      " 2.57863786 2.57863786 2.57863786 2.57863786 2.57863786 2.59712807\n",
      " 2.57863786 2.58788297 2.59712807 2.57863786 2.59712807 2.57863786\n",
      " 2.59712807 2.57863786 2.59712807 2.58788297 2.58788297 2.59712807\n",
      " 2.58788297 2.57863786 2.57863786 2.57863786 2.57863786 2.59712807\n",
      " 2.57863786 2.58788297 2.57863786 2.57863786 2.59712807 2.58788297\n",
      " 2.57863786 2.59712807 2.59712807 2.59712807 2.57863786 2.57863786\n",
      " 2.57863786 2.59712807 2.59712807 2.59712807 2.57863786 2.59712807\n",
      " 2.58788297 2.57863786 2.57863786 2.59712807 2.59712807 2.57863786\n",
      " 2.58788297 2.57863786 2.57863786 2.57863786 2.57863786 2.58788297\n",
      " 2.57863786 2.57863786 2.59712807 2.57863786 2.59712807 2.57863786\n",
      " 2.59712807 2.57863786 2.57863786 2.57863786 2.59712807 2.58788297\n",
      " 2.57863786 2.57863786 2.57863786 2.57863786 2.57863786 2.57863786\n",
      " 2.57863786 2.58788297 2.58788297 2.57863786 2.59712807 2.57863786\n",
      " 2.59712807 2.57863786 2.57863786 2.57863786 2.59712807 2.58788297\n",
      " 2.58788297 2.57863786 2.59712807 2.57863786 2.57863786 2.57863786\n",
      " 2.57863786 2.57863786 2.58788297 2.57863786 2.57863786 2.59712807\n",
      " 2.57863786 2.57863786 2.57863786 2.57863786 2.57863786 2.58788297\n",
      " 2.57863786 2.57863786 2.57863786 2.59712807 2.59712807 2.58788297\n",
      " 2.59712807 2.57863786 2.59712807 2.57863786 2.59712807 2.58788297\n",
      " 2.59712807 2.57863786 2.57863786 2.57863786 2.57863786 2.59712807\n",
      " 2.57863786 2.59712807 2.57863786 2.57863786 2.57863786 2.58788297\n",
      " 2.57863786 2.58788297 2.57863786 2.59712807 2.57863786 2.59712807\n",
      " 2.57863786 2.57863786 2.57863786 2.57863786 2.57863786 2.57863786\n",
      " 2.58788297 2.58788297 2.59712807 2.58788297 2.59712807 2.58788297\n",
      " 2.59712807 2.59712807 2.57863786 2.59712807 2.58788297 2.58788297\n",
      " 2.57863786 2.57863786 2.58788297 2.58788297 2.59712807 2.57863786\n",
      " 2.58788297 2.58788297 2.57863786 2.59712807 2.57863786 2.58788297\n",
      " 2.57863786 2.57863786 2.57863786 2.59712807 2.58788297 2.58788297\n",
      " 2.59712807 2.57863786 2.58788297 2.59712807 2.57863786 2.57863786\n",
      " 2.57863786 2.58788297 2.58788297 2.57863786 2.59712807 2.57863786\n",
      " 2.59712807 2.59712807 2.57863786 2.58788297 2.57863786 2.58788297\n",
      " 2.57863786 2.59712807 2.57863786 2.57863786 2.57863786 2.57863786\n",
      " 2.58788297 2.58788297 2.59712807 2.57863786 2.57863786 2.59712807\n",
      " 2.57863786 2.59712807 2.57863786 2.58788297 2.59712807 2.59712807\n",
      " 2.58788297 2.59712807 2.57863786 2.57863786 2.59712807 2.58788297\n",
      " 2.58788297 2.58788297 2.57863786 2.58788297 2.57863786 2.59712807\n",
      " 2.57863786 2.57863786 2.57863786 2.57863786 2.57863786 2.58788297\n",
      " 2.57863786 2.57863786 2.57863786 2.58788297 2.57863786 2.58788297\n",
      " 2.57863786 2.59712807 2.57863786 2.57863786 2.57863786 2.59712807\n",
      " 2.57863786 2.59712807 2.57863786 2.57863786 2.58788297 2.58788297\n",
      " 2.58788297 2.58788297 2.58788297 2.57863786 2.57863786 2.57863786\n",
      " 2.57863786 2.57863786 2.57863786 2.57863786 2.59712807 2.57863786\n",
      " 2.57863786 2.59712807 2.57863786 2.57863786 2.59712807 2.57863786\n",
      " 2.57863786 2.58788297 2.57863786 2.59712807 2.57863786 2.57863786\n",
      " 2.58788297 2.58788297 2.57863786 2.57863786 2.59712807 2.59712807\n",
      " 2.57863786 2.59712807 2.57863786 2.57863786 2.57863786 2.57863786\n",
      " 2.57863786 2.59712807 2.57863786 2.59712807 2.58788297 2.57863786\n",
      " 2.58788297 2.57863786 2.57863786 2.58788297 2.59712807 2.59712807\n",
      " 2.57863786 2.58788297 2.59712807 2.58788297 2.58788297 2.58788297\n",
      " 2.59712807 2.57863786 2.57863786 2.57863786 2.59712807 2.58788297\n",
      " 2.57863786 2.58788297 2.57863786 2.58788297 2.57863786 2.57863786\n",
      " 2.59712807 2.57863786 2.57863786 2.58788297 2.57863786 2.58788297\n",
      " 2.58788297 2.59712807 2.58788297 2.58788297 2.58788297 2.57863786\n",
      " 2.59712807 2.59712807 2.57863786 2.57863786 2.57863786 2.57863786\n",
      " 2.58788297 2.58788297 2.57863786 2.59712807 2.57863786 2.57863786\n",
      " 2.57863786 2.59712807 2.58788297 2.58788297 2.59712807 2.59712807\n",
      " 2.58788297 2.59712807 2.59712807 2.57863786 2.58788297 2.59712807\n",
      " 2.57863786 2.57863786 2.57863786 2.57863786 2.57863786 2.58788297\n",
      " 2.58788297 2.57863786 2.58788297 2.57863786 2.57863786 2.59712807\n",
      " 2.59712807 2.57863786 2.58788297 2.57863786 2.59712807 2.57863786\n",
      " 2.59712807 2.57863786 2.57863786 2.59712807 2.58788297 2.59712807\n",
      " 2.59712807 2.59712807 2.58788297 2.58788297 2.59712807 2.57863786\n",
      " 2.57863786 2.57863786 2.59712807 2.57863786 2.57863786 2.59712807\n",
      " 2.57863786 2.57863786 2.57863786]\n"
     ]
    },
    {
     "data": {
      "image/png": "[encoded data removed]",
      "text/plain": [
       "<Figure size 640x480 with 1 Axes>"
      ]
     },
     "metadata": {},
     "output_type": "display_data"
    },
    {
     "data": {
      "image/png": "[encoded data removed]",
      "text/plain": [
       "<Figure size 640x480 with 1 Axes>"
      ]
     },
     "metadata": {},
     "output_type": "display_data"
    }
   ],
   "source": [
    "y_pred = regressor.predict(X_test)\n",
    "print(y_pred)\n",
    "plt.scatter(X, y_without_nan, color = 'red')\n",
    "plt.plot(X, regressor.predict(X.reshape(-1, 1)), color = 'blue')\n",
    "plt.title('Fare vs Pclass (Training set)')\n",
    "plt.xlabel('Pclass')\n",
    "plt.ylabel('Fare')\n",
    "plt.show()\n",
    "plt.scatter(X_test, y_test, color = 'red')\n",
    "plt.plot(X, regressor.predict(X.reshape(-1, 1)), color = 'blue')\n",
    "plt.title('Fare vs Pclass (Test set)')\n",
    "plt.xlabel('Pclass')\n",
    "plt.ylabel('Fare')\n",
    "plt.show()"
   ]
  },
  {
   "cell_type": "markdown",
   "id": "c87a84e6-7c3a-4b59-aca2-3d832e417d1a",
   "metadata": {},
   "source": [
    "### Использование модели"
   ]
  },
  {
   "cell_type": "code",
   "execution_count": 26,
   "id": "b03ffec2-cb8d-4f1d-bc4f-b9d2aef1af1d",
   "metadata": {
    "tags": []
   },
   "outputs": [
    {
     "data": {
      "text/plain": [
       "array([1.68186295])"
      ]
     },
     "execution_count": 26,
     "metadata": {},
     "output_type": "execute_result"
    }
   ],
   "source": [
    "Fare = [[100]]\n",
    "\n",
    "regressor.predict(Fare)\n"
   ]
  },
  {
   "cell_type": "code",
   "execution_count": 27,
   "id": "2c3fe626-c145-4f16-831c-370ddebdd609",
   "metadata": {
    "tags": []
   },
   "outputs": [
    {
     "data": {
      "text/plain": [
       "array([1.68186295])"
      ]
     },
     "execution_count": 27,
     "metadata": {},
     "output_type": "execute_result"
    }
   ],
   "source": [
    "a = regressor.coef_\n",
    "b = regressor.intercept_\n",
    "Fare = 100\n",
    "\n",
    "Pclass  = a * Fare + b \n",
    "Pclass"
   ]
  },
  {
   "cell_type": "markdown",
   "id": "e12f0018-e481-41f3-93f4-4349f87ba889",
   "metadata": {},
   "source": [
    "## Контрольные вопросы"
   ]
  },
  {
   "cell_type": "markdown",
   "id": "7133de1b-1f69-4267-9c2d-4b2426b32dfa",
   "metadata": {},
   "source": [
    "**1. Почему при реализации линейной модели регрессии нет необходимости выполнять масштабирование признаков?**\n",
    "\n",
    "- При реализации линейной модели регрессии нет необходимости выполнять масштабирование признаков, потому что линейная регрессия сама по себе не зависит от масштаба признаков. Это происходит из-за того, что коэффициенты регрессии (веса) в итоговой модели масштабируются так, чтобы учесть разные масштабы признаков. Если бы вы использовали модели, которые чувствительны к масштабу, например, метод ближайших соседей, то масштабирование признаков могло бы быть важным.\n",
    "\n",
    "\n",
    "**2. Почему при реализации модели линейной регрессии в качестве функции потерь используется квадратичное отклонение, а не модуль отклонения?**\n",
    "\n",
    "- В линейной регрессии используется квадратичное отклонение (среднеквадратичная ошибка, MSE) как функция потерь, а не модуль отклонения (среднее абсолютное отклонение, MAE), потому что MSE обладает математическими свойствами, которые делают его более подходящим для обучения и оптимизации модели линейной регрессии. Он является дифференцируемым и выпуклым, что упрощает задачу оптимизации параметров модели. MAE может использоваться, если вы хотите создать модель, которая более устойчива к выбросам, но в большинстве случаев MSE предпочтительнее.\n",
    "\n",
    "\n",
    "**3. Что именно реализовано в методе fit(X, y) класса LinearRegression?**\n",
    "\n",
    "Метод fit(X, y) класса LinearRegression выполняет обучение модели на обучающих данных. Он принимает матрицу признаков X и вектор целевых значений y как входные данные. Внутри метода происходит вычисление оптимальных весов (коэффициентов) для линейной модели, чтобы минимизировать функцию потерь (MSE) на предоставленных данных. После вызова метода fit, модель готова для предсказаний.\n",
    "\n",
    "\n",
    "**4. Поясните назначение метода predict класса LinearRegression.**\n",
    "\n",
    "- Метод predict класса LinearRegression используется для выполнения предсказаний на новых данных. Он принимает матрицу признаков X_new в качестве входных данных и возвращает предсказанные значения регрессии для этих данных. Этот метод использует обученные веса, которые были вычислены при вызове fit, чтобы выполнить предсказания.\n",
    "\n",
    "\n",
    "**5. По какой подвыборке необходимо оценивать точность модели машинного обучения: тестовой или тренировочной?**\n",
    "\n",
    "- Точность модели машинного обучения оценивается на тестовой подвыборке. Это делается для того, чтобы проверить, как хорошо модель обобщает данные, которые она ранее не видела. Оценка на тренировочной подвыборке может дать завышенную оценку точности, так как модель могла запомнить обучающие данные и не способна будет обобщать на новые данные. Тестовая выборка служит для проверки обобщающей способности модели."
   ]
  },
  {
   "cell_type": "code",
   "execution_count": null,
   "id": "388598a2-67c0-4e28-8258-b1f28aff95be",
   "metadata": {},
   "outputs": [],
   "source": []
  }
 ],
 "metadata": {
  "kernelspec": {
   "display_name": "Python 3 (ipykernel)",
   "language": "python",
   "name": "python3"
  },
  "language_info": {
   "codemirror_mode": {
    "name": "ipython",
    "version": 3
   },
   "file_extension": ".py",
   "mimetype": "text/x-python",
   "name": "python",
   "nbconvert_exporter": "python",
   "pygments_lexer": "ipython3",
   "version": "3.11.1"
  }
 },
 "nbformat": 4,
 "nbformat_minor": 5
}
