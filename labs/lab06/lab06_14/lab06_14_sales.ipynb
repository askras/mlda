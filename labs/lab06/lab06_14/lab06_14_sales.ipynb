{
 "cells": [
  {
   "cell_type": "markdown",
   "id": "cf3e7823",
   "metadata": {},
   "source": [
    "# Построение модели линейной одномерной регрессии"
   ]
  },
  {
   "cell_type": "markdown",
   "id": "bf78176e",
   "metadata": {},
   "source": [
    "**Вариант:** 14\n",
    "\n",
    "**Цель работы:** изучение принципов построения модели линейной одномерной регрессии.\n",
    "\n",
    "**Задачи:**\n",
    "* реализовать каонвейер для выполнения всех стадий обработки данных при решении задачи одномерной регрессии;\n",
    "* получение теоретических представлений о задаче регресии;\n",
    "* получение навыков использования пайплайна при решении задачи машинного обучения;\n",
    "* получение навыков рефакторинга кода в задачах машинного обучения."
   ]
  },
  {
   "cell_type": "markdown",
   "id": "14dd181a",
   "metadata": {},
   "source": [
    "## Объем продаж"
   ]
  },
  {
   "cell_type": "markdown",
   "id": "8324c6ce",
   "metadata": {},
   "source": [
    "Мной был выбран набор данных под названием \"Sales\" по ссылке https://www.kaggle.com/datasets/nadezhda2019/sales. Эти данные являются результатом анализа объема продаж (SALES) в магазине по объему рекламы (ADV) и цены батончика (PRICE)."
   ]
  },
  {
   "cell_type": "markdown",
   "id": "3216c6a0",
   "metadata": {},
   "source": [
    "### Подключение библиотек"
   ]
  },
  {
   "cell_type": "code",
   "execution_count": 153,
   "id": "e5c51a5d",
   "metadata": {},
   "outputs": [],
   "source": [
    "import numpy as np\n",
    "import matplotlib.pyplot as plt\n",
    "import pandas as pd"
   ]
  },
  {
   "cell_type": "markdown",
   "id": "b479919b",
   "metadata": {},
   "source": [
    "### Загрузка данных и разделение на матрицу признаков и зависимую переменную"
   ]
  },
  {
   "cell_type": "code",
   "execution_count": 154,
   "id": "f72b15f9",
   "metadata": {},
   "outputs": [
    {
     "data": {
      "text/html": [
       "<div>\n",
       "<style scoped>\n",
       "    .dataframe tbody tr th:only-of-type {\n",
       "        vertical-align: middle;\n",
       "    }\n",
       "\n",
       "    .dataframe tbody tr th {\n",
       "        vertical-align: top;\n",
       "    }\n",
       "\n",
       "    .dataframe thead th {\n",
       "        text-align: right;\n",
       "    }\n",
       "</style>\n",
       "<table border=\"1\" class=\"dataframe\">\n",
       "  <thead>\n",
       "    <tr style=\"text-align: right;\">\n",
       "      <th></th>\n",
       "      <th>SALES</th>\n",
       "      <th>PRICE</th>\n",
       "      <th>ADV</th>\n",
       "    </tr>\n",
       "  </thead>\n",
       "  <tbody>\n",
       "    <tr>\n",
       "      <th>0</th>\n",
       "      <td>4141</td>\n",
       "      <td>59</td>\n",
       "      <td>200</td>\n",
       "    </tr>\n",
       "    <tr>\n",
       "      <th>1</th>\n",
       "      <td>3842</td>\n",
       "      <td>59</td>\n",
       "      <td>200</td>\n",
       "    </tr>\n",
       "    <tr>\n",
       "      <th>2</th>\n",
       "      <td>3056</td>\n",
       "      <td>59</td>\n",
       "      <td>200</td>\n",
       "    </tr>\n",
       "    <tr>\n",
       "      <th>3</th>\n",
       "      <td>3519</td>\n",
       "      <td>59</td>\n",
       "      <td>200</td>\n",
       "    </tr>\n",
       "    <tr>\n",
       "      <th>4</th>\n",
       "      <td>4226</td>\n",
       "      <td>59</td>\n",
       "      <td>400</td>\n",
       "    </tr>\n",
       "  </tbody>\n",
       "</table>\n",
       "</div>"
      ],
      "text/plain": [
       "   SALES  PRICE  ADV\n",
       "0   4141     59  200\n",
       "1   3842     59  200\n",
       "2   3056     59  200\n",
       "3   3519     59  200\n",
       "4   4226     59  400"
      ]
     },
     "execution_count": 154,
     "metadata": {},
     "output_type": "execute_result"
    }
   ],
   "source": [
    "dataset_1 = pd.read_csv('./datasets/sales.csv')\n",
    "dataset_1.head()"
   ]
  },
  {
   "cell_type": "markdown",
   "id": "f00c8957",
   "metadata": {},
   "source": [
    "В данном наборе указано всего 3 цены батончика: 59, 79 и 99. Таким же образом, есть только 3 цены рекламы: 200, 400 и 600. Поэтому в данном случае введем новую переменную coeff, высчитывающий коеффициент деления значения из столбца ADV на соответсвующее значение столбца PRICE. Сразу заметим, что при одинаковых значениях двух этих столбцов, значения в столбце SALES меняются, соответсвенно при одном и том же значении из столбца coeff параметр SALES будет разным, а значит и график будет достаточно \"некрасивым\"."
   ]
  },
  {
   "cell_type": "code",
   "execution_count": 155,
   "id": "8627aeee",
   "metadata": {},
   "outputs": [
    {
     "data": {
      "text/html": [
       "<div>\n",
       "<style scoped>\n",
       "    .dataframe tbody tr th:only-of-type {\n",
       "        vertical-align: middle;\n",
       "    }\n",
       "\n",
       "    .dataframe tbody tr th {\n",
       "        vertical-align: top;\n",
       "    }\n",
       "\n",
       "    .dataframe thead th {\n",
       "        text-align: right;\n",
       "    }\n",
       "</style>\n",
       "<table border=\"1\" class=\"dataframe\">\n",
       "  <thead>\n",
       "    <tr style=\"text-align: right;\">\n",
       "      <th></th>\n",
       "      <th>SALES</th>\n",
       "      <th>PRICE</th>\n",
       "      <th>ADV</th>\n",
       "      <th>coeff</th>\n",
       "    </tr>\n",
       "  </thead>\n",
       "  <tbody>\n",
       "    <tr>\n",
       "      <th>0</th>\n",
       "      <td>4141</td>\n",
       "      <td>59</td>\n",
       "      <td>200</td>\n",
       "      <td>3.389831</td>\n",
       "    </tr>\n",
       "    <tr>\n",
       "      <th>1</th>\n",
       "      <td>3842</td>\n",
       "      <td>59</td>\n",
       "      <td>200</td>\n",
       "      <td>3.389831</td>\n",
       "    </tr>\n",
       "    <tr>\n",
       "      <th>2</th>\n",
       "      <td>3056</td>\n",
       "      <td>59</td>\n",
       "      <td>200</td>\n",
       "      <td>3.389831</td>\n",
       "    </tr>\n",
       "    <tr>\n",
       "      <th>3</th>\n",
       "      <td>3519</td>\n",
       "      <td>59</td>\n",
       "      <td>200</td>\n",
       "      <td>3.389831</td>\n",
       "    </tr>\n",
       "    <tr>\n",
       "      <th>4</th>\n",
       "      <td>4226</td>\n",
       "      <td>59</td>\n",
       "      <td>400</td>\n",
       "      <td>6.779661</td>\n",
       "    </tr>\n",
       "  </tbody>\n",
       "</table>\n",
       "</div>"
      ],
      "text/plain": [
       "   SALES  PRICE  ADV     coeff\n",
       "0   4141     59  200  3.389831\n",
       "1   3842     59  200  3.389831\n",
       "2   3056     59  200  3.389831\n",
       "3   3519     59  200  3.389831\n",
       "4   4226     59  400  6.779661"
      ]
     },
     "execution_count": 155,
     "metadata": {},
     "output_type": "execute_result"
    }
   ],
   "source": [
    "import pandas as pd\n",
    "\n",
    "dataset = pd.read_csv('./datasets/sales.csv')\n",
    "\n",
    "dataset['coeff'] = dataset['ADV'] / dataset['PRICE']\n",
    "\n",
    "# Просмотрим измененный набор данных\n",
    "dataset.head()\n"
   ]
  },
  {
   "cell_type": "code",
   "execution_count": 156,
   "id": "5f1094ce",
   "metadata": {},
   "outputs": [
    {
     "name": "stdout",
     "output_type": "stream",
     "text": [
      "Матрица признаков\n",
      "[[ 3.38983051]\n",
      " [ 3.38983051]\n",
      " [ 3.38983051]\n",
      " [ 3.38983051]\n",
      " [ 6.77966102]\n",
      " [ 6.77966102]\n",
      " [ 6.77966102]\n",
      " [ 6.77966102]\n",
      " [10.16949153]\n",
      " [10.16949153]\n",
      " [10.16949153]\n",
      " [10.16949153]\n",
      " [ 2.53164557]\n",
      " [ 2.53164557]\n",
      " [ 2.53164557]\n",
      " [ 2.53164557]\n",
      " [ 5.06329114]\n",
      " [ 5.06329114]\n",
      " [ 5.06329114]\n",
      " [ 5.06329114]\n",
      " [ 7.59493671]\n",
      " [ 7.59493671]\n",
      " [ 7.59493671]\n",
      " [ 7.59493671]]\n",
      "Зависимая переменная\n",
      "[4141 3842 3056 3519 4226 4630 3507 3754 5000 5120 4011 5015 1916  675\n",
      " 3636 3224 2295 2730 2618 4421 4113 3746 3532 3825]\n"
     ]
    }
   ],
   "source": [
    "X = dataset.iloc[:, 3:4].values\n",
    "y = dataset.iloc[:, 0].values\n",
    "print (\"Матрица признаков\"); print(X[:24])\n",
    "print (\"Зависимая переменная\"); print(y[:24])\n",
    "\n",
    "# на данном примере будем наблюдать изменение объема продаж в зависимости от \n",
    "# объема рекламы для батончика, стоимость которого 59 и 79 денежных единиц"
   ]
  },
  {
   "cell_type": "markdown",
   "id": "cbc47e0a",
   "metadata": {},
   "source": [
    "### Разделение выборки на тестовую и тренировочную"
   ]
  },
  {
   "cell_type": "code",
   "execution_count": 157,
   "id": "66d278dd",
   "metadata": {},
   "outputs": [],
   "source": [
    "from sklearn.model_selection import train_test_split\n",
    "X_train, X_test, y_train, y_test = train_test_split(X, y, test_size = 1/4, random_state = 0) "
   ]
  },
  {
   "cell_type": "markdown",
   "id": "4f7fae53",
   "metadata": {},
   "source": [
    "### Обучение линейной модели регрессии"
   ]
  },
  {
   "cell_type": "code",
   "execution_count": 158,
   "id": "96de43f5",
   "metadata": {},
   "outputs": [
    {
     "data": {
      "text/html": [
       "<style>#sk-container-id-16 {color: black;}#sk-container-id-16 pre{padding: 0;}#sk-container-id-16 div.sk-toggleable {background-color: white;}#sk-container-id-16 label.sk-toggleable__label {cursor: pointer;display: block;width: 100%;margin-bottom: 0;padding: 0.3em;box-sizing: border-box;text-align: center;}#sk-container-id-16 label.sk-toggleable__label-arrow:before {content: \"▸\";float: left;margin-right: 0.25em;color: #696969;}#sk-container-id-16 label.sk-toggleable__label-arrow:hover:before {color: black;}#sk-container-id-16 div.sk-estimator:hover label.sk-toggleable__label-arrow:before {color: black;}#sk-container-id-16 div.sk-toggleable__content {max-height: 0;max-width: 0;overflow: hidden;text-align: left;background-color: #f0f8ff;}#sk-container-id-16 div.sk-toggleable__content pre {margin: 0.2em;color: black;border-radius: 0.25em;background-color: #f0f8ff;}#sk-container-id-16 input.sk-toggleable__control:checked~div.sk-toggleable__content {max-height: 200px;max-width: 100%;overflow: auto;}#sk-container-id-16 input.sk-toggleable__control:checked~label.sk-toggleable__label-arrow:before {content: \"▾\";}#sk-container-id-16 div.sk-estimator input.sk-toggleable__control:checked~label.sk-toggleable__label {background-color: #d4ebff;}#sk-container-id-16 div.sk-label input.sk-toggleable__control:checked~label.sk-toggleable__label {background-color: #d4ebff;}#sk-container-id-16 input.sk-hidden--visually {border: 0;clip: rect(1px 1px 1px 1px);clip: rect(1px, 1px, 1px, 1px);height: 1px;margin: -1px;overflow: hidden;padding: 0;position: absolute;width: 1px;}#sk-container-id-16 div.sk-estimator {font-family: monospace;background-color: #f0f8ff;border: 1px dotted black;border-radius: 0.25em;box-sizing: border-box;margin-bottom: 0.5em;}#sk-container-id-16 div.sk-estimator:hover {background-color: #d4ebff;}#sk-container-id-16 div.sk-parallel-item::after {content: \"\";width: 100%;border-bottom: 1px solid gray;flex-grow: 1;}#sk-container-id-16 div.sk-label:hover label.sk-toggleable__label {background-color: #d4ebff;}#sk-container-id-16 div.sk-serial::before {content: \"\";position: absolute;border-left: 1px solid gray;box-sizing: border-box;top: 0;bottom: 0;left: 50%;z-index: 0;}#sk-container-id-16 div.sk-serial {display: flex;flex-direction: column;align-items: center;background-color: white;padding-right: 0.2em;padding-left: 0.2em;position: relative;}#sk-container-id-16 div.sk-item {position: relative;z-index: 1;}#sk-container-id-16 div.sk-parallel {display: flex;align-items: stretch;justify-content: center;background-color: white;position: relative;}#sk-container-id-16 div.sk-item::before, #sk-container-id-16 div.sk-parallel-item::before {content: \"\";position: absolute;border-left: 1px solid gray;box-sizing: border-box;top: 0;bottom: 0;left: 50%;z-index: -1;}#sk-container-id-16 div.sk-parallel-item {display: flex;flex-direction: column;z-index: 1;position: relative;background-color: white;}#sk-container-id-16 div.sk-parallel-item:first-child::after {align-self: flex-end;width: 50%;}#sk-container-id-16 div.sk-parallel-item:last-child::after {align-self: flex-start;width: 50%;}#sk-container-id-16 div.sk-parallel-item:only-child::after {width: 0;}#sk-container-id-16 div.sk-dashed-wrapped {border: 1px dashed gray;margin: 0 0.4em 0.5em 0.4em;box-sizing: border-box;padding-bottom: 0.4em;background-color: white;}#sk-container-id-16 div.sk-label label {font-family: monospace;font-weight: bold;display: inline-block;line-height: 1.2em;}#sk-container-id-16 div.sk-label-container {text-align: center;}#sk-container-id-16 div.sk-container {/* jupyter's `normalize.less` sets `[hidden] { display: none; }` but bootstrap.min.css set `[hidden] { display: none !important; }` so we also need the `!important` here to be able to override the default hidden behavior on the sphinx rendered scikit-learn.org. See: https://github.com/scikit-learn/scikit-learn/issues/21755 */display: inline-block !important;position: relative;}#sk-container-id-16 div.sk-text-repr-fallback {display: none;}</style><div id=\"sk-container-id-16\" class=\"sk-top-container\"><div class=\"sk-text-repr-fallback\"><pre>LinearRegression()</pre><b>In a Jupyter environment, please rerun this cell to show the HTML representation or trust the notebook. <br />On GitHub, the HTML representation is unable to render, please try loading this page with nbviewer.org.</b></div><div class=\"sk-container\" hidden><div class=\"sk-item\"><div class=\"sk-estimator sk-toggleable\"><input class=\"sk-toggleable__control sk-hidden--visually\" id=\"sk-estimator-id-16\" type=\"checkbox\" checked><label for=\"sk-estimator-id-16\" class=\"sk-toggleable__label sk-toggleable__label-arrow\">LinearRegression</label><div class=\"sk-toggleable__content\"><pre>LinearRegression()</pre></div></div></div></div></div>"
      ],
      "text/plain": [
       "LinearRegression()"
      ]
     },
     "execution_count": 158,
     "metadata": {},
     "output_type": "execute_result"
    }
   ],
   "source": [
    "from sklearn.linear_model import LinearRegression\n",
    "regressor = LinearRegression()\n",
    "regressor.fit(X_train, y_train)"
   ]
  },
  {
   "cell_type": "markdown",
   "id": "8be15cd8",
   "metadata": {},
   "source": [
    "### Предсказание, обработка и визуализация результатов"
   ]
  },
  {
   "cell_type": "code",
   "execution_count": 159,
   "id": "48bc19d6",
   "metadata": {},
   "outputs": [
    {
     "name": "stdout",
     "output_type": "stream",
     "text": [
      "[5000.27503286 4068.94118161 2052.30549225 3153.12956121 2547.7625579\n",
      " 2052.30549225 2783.10466408 3153.12956121 5000.27503286]\n"
     ]
    }
   ],
   "source": [
    "y_pred = regressor.predict(X_test)\n",
    "print(y_pred)"
   ]
  },
  {
   "cell_type": "code",
   "execution_count": 160,
   "id": "57271a9a",
   "metadata": {},
   "outputs": [
    {
     "data": {
      "image/png": "[encoded data removed]",
      "text/plain": [
       "<Figure size 640x480 with 1 Axes>"
      ]
     },
     "metadata": {},
     "output_type": "display_data"
    }
   ],
   "source": [
    "plt.scatter(X_train, y_train, color = 'red')\n",
    "plt.plot(X_train, regressor.predict(X_train), color = 'blue')\n",
    "plt.title('Sales vs coeff (Training set)')\n",
    "plt.xlabel('coeff')\n",
    "plt.ylabel('Sales')\n",
    "plt.show()"
   ]
  },
  {
   "cell_type": "code",
   "execution_count": 161,
   "id": "516f54be",
   "metadata": {},
   "outputs": [
    {
     "data": {
      "image/png": "[encoded data removed]",
      "text/plain": [
       "<Figure size 640x480 with 1 Axes>"
      ]
     },
     "metadata": {},
     "output_type": "display_data"
    }
   ],
   "source": [
    "plt.scatter(X_test, y_test, color = 'red')\n",
    "plt.plot(X_train, regressor.predict(X_train), color = 'blue')\n",
    "plt.title('Sales vs coeff (Test set)')\n",
    "plt.xlabel('ADV')\n",
    "plt.ylabel('coeff')\n",
    "plt.show()"
   ]
  },
  {
   "cell_type": "markdown",
   "id": "43807697",
   "metadata": {},
   "source": [
    "### Использование модели"
   ]
  },
  {
   "cell_type": "code",
   "execution_count": 162,
   "id": "d53f546b",
   "metadata": {},
   "outputs": [
    {
     "data": {
      "text/plain": [
       "array([3774.01879648])"
      ]
     },
     "execution_count": 162,
     "metadata": {},
     "output_type": "execute_result"
    }
   ],
   "source": [
    "coeff = [[6.77966102]]\n",
    "\n",
    "regressor.predict(coeff)"
   ]
  },
  {
   "cell_type": "markdown",
   "id": "d619c833",
   "metadata": {},
   "source": [
    "### Параметры модели"
   ]
  },
  {
   "cell_type": "code",
   "execution_count": 163,
   "id": "235d21ad",
   "metadata": {},
   "outputs": [],
   "source": [
    "a = regressor.coef_\n",
    "b = regressor.intercept_"
   ]
  },
  {
   "cell_type": "code",
   "execution_count": 164,
   "id": "e5421cb2",
   "metadata": {},
   "outputs": [
    {
     "data": {
      "text/plain": [
       "array([3774.01879648])"
      ]
     },
     "execution_count": 164,
     "metadata": {},
     "output_type": "execute_result"
    }
   ],
   "source": [
    "coeff = 6.77966102\n",
    "\n",
    "\n",
    "SALES  = a * coeff + b \n",
    "SALES"
   ]
  },
  {
   "cell_type": "markdown",
   "id": "8986cf7a",
   "metadata": {},
   "source": [
    "## Контольные вопросы"
   ]
  },
  {
   "cell_type": "markdown",
   "id": "fc818835",
   "metadata": {},
   "source": [
    "1. Почему при реализации линейной модели регрессии нет необходимости выполнять масштабирование признаков?\n",
    "\n",
    "При реализации модели линейной регрессии нет необходимости выполнять масштабирование признаков, потому что эта модель основана на линейной комбинации признаков. Масштабирование признаков полезно в моделях, которые основаны на расстояниях или различиях между признаками, как, например, метод k-ближайших соседей (KNN) или метод опорных векторов (SVM). В случае линейной регрессии, коэффициенты регрессии адаптируются к значениям признаков, включая их масштаб, поэтому масштабирование не является обязательным.\n",
    "\n",
    "2. Почему при реализации модели линейной регрессии в качестве функции потерь используется квадратичное отклонение, а не модуль отклонения?\n",
    "\n",
    "Модель линейной регрессии использует квадратичное отклонение (Mean Squared Error, MSE) в качестве функции потерь, а не модуль отклонения (Mean Absolute Error, MAE), потому что квадратичное отклонение более подходит для задачи обучения с учителем и линейной регрессии. Квадратичное отклонение считает большие ошибки более пагубными, чем маленькие, и эта функция потерь имеет аналитическое решение, что делает ее вычисление более эффективным.\n",
    "\n",
    "3. Что именно реализовано в методе fit(X, y) класса LinearRegression?\n",
    "\n",
    "Метод `fit(X, y)` класса LinearRegression реализует процесс обучения модели. Внутри метода выполняется нахождение оптимальных весов (коэффициентов) модели, которые минимизируют функцию потерь (как правило, MSE) на предоставленных обучающих данных `X` и соответствующих метках `y`. Модель подбирает коэффициенты так, чтобы аппроксимировать линейную зависимость между признаками и метками в данных.\n",
    "\n",
    "4. Поясните назначение метода predict класса LinearRegression.\n",
    "\n",
    "Метод `predict(X)` класса LinearRegression предназначен для выполнения прогнозов на новых данных. После обучения модели при помощи метода `fit`, вы можете использовать метод `predict` для предсказания значений целевой переменной на новых или тестовых данных, передавая их в качестве аргумента `X`. Модель применяет найденные веса к переданным данным и возвращает прогнозы.\n",
    "\n",
    "5. По какой подвыборке необходимо оценивать точность модели машинного обучения: тестовой или тренировочной?\n",
    "\n",
    "Для оценки точности модели машинного обучения обычно используют тестовую выборку, а не тренировочную. Тестовая выборка представляет собой данные, которые модель ранее не видела, и, следовательно, оценка точности на тестовой выборке дает более объективную оценку способности модели к обобщению. Оценка точности на тренировочной выборке может дать завышенные результаты, так как модель уже знакома с этими данными. Тестовая выборка позволяет проверить, насколько хорошо модель обобщает знания, полученные на тренировочных данных, на новые, неизвестные данные."
   ]
  }
 ],
 "metadata": {
  "kernelspec": {
   "display_name": "Python 3 (ipykernel)",
   "language": "python",
   "name": "python3"
  },
  "language_info": {
   "codemirror_mode": {
    "name": "ipython",
    "version": 3
   },
   "file_extension": ".py",
   "mimetype": "text/x-python",
   "name": "python",
   "nbconvert_exporter": "python",
   "pygments_lexer": "ipython3",
   "version": "3.10.9"
  }
 },
 "nbformat": 4,
 "nbformat_minor": 5
}
