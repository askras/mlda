{
 "cells": [
  {
   "cell_type": "markdown",
   "id": "419ede7a-43c2-4b13-bdec-28d10bdb05f1",
   "metadata": {},
   "source": [
    "## Построение модели линейной одномерной регрессии\n",
    "\n",
    "### Вариант 18\n",
    "##### Чередова Александра\n",
    "### Цель работы\n",
    "\n",
    "изучение принципов построения модели линейной одномерной регрессии.\n",
    "\n",
    "### Задачи \n",
    "\n",
    " - реализовать конвейер для выполнения всех стадий обработки данных при решении задачи одномерной регрессии;\n",
    " - получение теоретических представлений о задаче регресии;\n",
    " - получение навыков использования пайплайна при решении задачи машинного обучения;\n",
    " - получение навыков рефакторинга кода в задачах машинного обучения."
   ]
  },
  {
   "cell_type": "code",
   "execution_count": 232,
   "id": "89fb52a9-dd49-4c07-b116-a03ebc614774",
   "metadata": {
    "tags": []
   },
   "outputs": [],
   "source": [
    "import numpy as np\n",
    "import matplotlib.pyplot as plt\n",
    "import pandas as pd\n",
    "from sklearn.metrics import mean_absolute_error"
   ]
  },
  {
   "cell_type": "code",
   "execution_count": 221,
   "id": "039fb70a-f389-4e1e-b328-96186115b130",
   "metadata": {
    "tags": []
   },
   "outputs": [
    {
     "name": "stdout",
     "output_type": "stream",
     "text": [
      "Матрица признаков\n",
      "[0.124  0.686  0.118  0.397  0.109  0.33   0.157  0.155  0.104  0.0702\n",
      " 0.107  0.283  0.179  0.117  0.108  0.246  0.188  0.147  0.182  0.162\n",
      " 0.115  0.129  0.0784 0.311  0.114  0.0889 0.113  0.0775 0.0801 0.14\n",
      " 0.097  0.122  0.32   0.16   0.0955 0.104  0.621  0.281  0.16   0.117\n",
      " 0.0963]\n",
      "Зависимая переменная\n",
      "[0.89   0.842  0.537  0.881  0.589  0.617  0.104  0.162  0.48   0.638\n",
      " 0.891  0.971  0.833  0.591  0.711  0.823  0.302  0.361  0.719  0.632\n",
      " 0.715  0.702  0.57   0.489  0.422  0.442  0.947  0.867  0.861  0.408\n",
      " 0.829  0.42   0.866  0.787  0.121  0.0317 0.729  0.887  0.596  0.523\n",
      " 0.447 ]\n"
     ]
    }
   ],
   "source": [
    "#### Загрузка данных и разделение на матрицу признаков и зависимую переменную\n",
    "\n",
    "dataset = pd.read_csv(\"music/Music-genre.csv\")\n",
    "dataset.head()\n",
    "\n",
    "dataset = dataset.dropna()\n",
    "dataset = dataset[1:45000:1000]\n",
    "# dataset = dataset[(dataset.music_genre == \"Classical\") | \n",
    "#               (dataset.music_genre == \"Rock\") ]\n",
    "\n",
    "attribute_1 = \"liveness\"\n",
    "attribute_2 = \"energy\"\n",
    "\n",
    "X = dataset.loc[:, attribute_1].values\n",
    "y = dataset.loc[:, attribute_2].values\n",
    "# X = dataset['mode'].replace({'Minor': 0, 'Major': 1})\n",
    "# random_indices = np.random.choice(dataset.index, size=10000, replace=False)\n",
    "# dataset.iloc[random_indices]\n",
    "\n",
    "\n",
    "print (\"Матрица признаков\"); print(X)\n",
    "print (\"Зависимая переменная\"); print(y)\n",
    "X = X.reshape(-1, 1)"
   ]
  },
  {
   "cell_type": "code",
   "execution_count": 222,
   "id": "861e5ad2-4d98-4d71-b6c2-0acb7fe12328",
   "metadata": {
    "tags": []
   },
   "outputs": [
    {
     "data": {
      "text/plain": [
       "array([[0.124 ],\n",
       "       [0.686 ],\n",
       "       [0.118 ],\n",
       "       [0.397 ],\n",
       "       [0.109 ],\n",
       "       [0.33  ],\n",
       "       [0.157 ],\n",
       "       [0.155 ],\n",
       "       [0.104 ],\n",
       "       [0.0702],\n",
       "       [0.107 ],\n",
       "       [0.283 ],\n",
       "       [0.179 ],\n",
       "       [0.117 ],\n",
       "       [0.108 ],\n",
       "       [0.246 ],\n",
       "       [0.188 ],\n",
       "       [0.147 ],\n",
       "       [0.182 ],\n",
       "       [0.162 ],\n",
       "       [0.115 ],\n",
       "       [0.129 ],\n",
       "       [0.0784],\n",
       "       [0.311 ],\n",
       "       [0.114 ],\n",
       "       [0.0889],\n",
       "       [0.113 ],\n",
       "       [0.0775],\n",
       "       [0.0801],\n",
       "       [0.14  ],\n",
       "       [0.097 ],\n",
       "       [0.122 ],\n",
       "       [0.32  ],\n",
       "       [0.16  ],\n",
       "       [0.0955],\n",
       "       [0.104 ],\n",
       "       [0.621 ],\n",
       "       [0.281 ],\n",
       "       [0.16  ],\n",
       "       [0.117 ],\n",
       "       [0.0963]])"
      ]
     },
     "execution_count": 222,
     "metadata": {},
     "output_type": "execute_result"
    }
   ],
   "source": [
    "#### Обработка пропущенных значений\n",
    "\n",
    "from sklearn.impute import SimpleImputer\n",
    "\n",
    "imputer = SimpleImputer(missing_values = np.nan, strategy = 'mean')\n",
    "imputer = imputer.fit(X[:, :])\n",
    "X_without_nan = X.copy()\n",
    "X_without_nan[:, :] = imputer.transform(X[:, :])\n",
    "X_without_nan"
   ]
  },
  {
   "cell_type": "code",
   "execution_count": 223,
   "id": "3da272a4-42f4-4721-92a7-c6e8196cfc64",
   "metadata": {
    "tags": []
   },
   "outputs": [],
   "source": [
    "#### Разделение выборки на тестовую и тренировочную\n",
    "\n",
    "from sklearn.model_selection import train_test_split\n",
    "\n",
    "# y = dataset['music_genre'].replace({'Rock': 0, 'Classical': 1})\n",
    "# ['Electronic' nan 'Jazz' 'Alternative' 'Country' 'Rap' 'Blues' 'Rock' 'Classical' 'Hip-Hop']\n",
    "X_train, X_test, y_train, y_test = train_test_split(X, y, test_size = 1/4, random_state = 0) "
   ]
  },
  {
   "cell_type": "code",
   "execution_count": 224,
   "id": "23aae26a-e095-4b17-a8d3-4a993bd6271b",
   "metadata": {
    "tags": []
   },
   "outputs": [
    {
     "data": {
      "text/html": [
       "<style>#sk-container-id-31 {color: black;}#sk-container-id-31 pre{padding: 0;}#sk-container-id-31 div.sk-toggleable {background-color: white;}#sk-container-id-31 label.sk-toggleable__label {cursor: pointer;display: block;width: 100%;margin-bottom: 0;padding: 0.3em;box-sizing: border-box;text-align: center;}#sk-container-id-31 label.sk-toggleable__label-arrow:before {content: \"▸\";float: left;margin-right: 0.25em;color: #696969;}#sk-container-id-31 label.sk-toggleable__label-arrow:hover:before {color: black;}#sk-container-id-31 div.sk-estimator:hover label.sk-toggleable__label-arrow:before {color: black;}#sk-container-id-31 div.sk-toggleable__content {max-height: 0;max-width: 0;overflow: hidden;text-align: left;background-color: #f0f8ff;}#sk-container-id-31 div.sk-toggleable__content pre {margin: 0.2em;color: black;border-radius: 0.25em;background-color: #f0f8ff;}#sk-container-id-31 input.sk-toggleable__control:checked~div.sk-toggleable__content {max-height: 200px;max-width: 100%;overflow: auto;}#sk-container-id-31 input.sk-toggleable__control:checked~label.sk-toggleable__label-arrow:before {content: \"▾\";}#sk-container-id-31 div.sk-estimator input.sk-toggleable__control:checked~label.sk-toggleable__label {background-color: #d4ebff;}#sk-container-id-31 div.sk-label input.sk-toggleable__control:checked~label.sk-toggleable__label {background-color: #d4ebff;}#sk-container-id-31 input.sk-hidden--visually {border: 0;clip: rect(1px 1px 1px 1px);clip: rect(1px, 1px, 1px, 1px);height: 1px;margin: -1px;overflow: hidden;padding: 0;position: absolute;width: 1px;}#sk-container-id-31 div.sk-estimator {font-family: monospace;background-color: #f0f8ff;border: 1px dotted black;border-radius: 0.25em;box-sizing: border-box;margin-bottom: 0.5em;}#sk-container-id-31 div.sk-estimator:hover {background-color: #d4ebff;}#sk-container-id-31 div.sk-parallel-item::after {content: \"\";width: 100%;border-bottom: 1px solid gray;flex-grow: 1;}#sk-container-id-31 div.sk-label:hover label.sk-toggleable__label {background-color: #d4ebff;}#sk-container-id-31 div.sk-serial::before {content: \"\";position: absolute;border-left: 1px solid gray;box-sizing: border-box;top: 0;bottom: 0;left: 50%;z-index: 0;}#sk-container-id-31 div.sk-serial {display: flex;flex-direction: column;align-items: center;background-color: white;padding-right: 0.2em;padding-left: 0.2em;position: relative;}#sk-container-id-31 div.sk-item {position: relative;z-index: 1;}#sk-container-id-31 div.sk-parallel {display: flex;align-items: stretch;justify-content: center;background-color: white;position: relative;}#sk-container-id-31 div.sk-item::before, #sk-container-id-31 div.sk-parallel-item::before {content: \"\";position: absolute;border-left: 1px solid gray;box-sizing: border-box;top: 0;bottom: 0;left: 50%;z-index: -1;}#sk-container-id-31 div.sk-parallel-item {display: flex;flex-direction: column;z-index: 1;position: relative;background-color: white;}#sk-container-id-31 div.sk-parallel-item:first-child::after {align-self: flex-end;width: 50%;}#sk-container-id-31 div.sk-parallel-item:last-child::after {align-self: flex-start;width: 50%;}#sk-container-id-31 div.sk-parallel-item:only-child::after {width: 0;}#sk-container-id-31 div.sk-dashed-wrapped {border: 1px dashed gray;margin: 0 0.4em 0.5em 0.4em;box-sizing: border-box;padding-bottom: 0.4em;background-color: white;}#sk-container-id-31 div.sk-label label {font-family: monospace;font-weight: bold;display: inline-block;line-height: 1.2em;}#sk-container-id-31 div.sk-label-container {text-align: center;}#sk-container-id-31 div.sk-container {/* jupyter's `normalize.less` sets `[hidden] { display: none; }` but bootstrap.min.css set `[hidden] { display: none !important; }` so we also need the `!important` here to be able to override the default hidden behavior on the sphinx rendered scikit-learn.org. See: https://github.com/scikit-learn/scikit-learn/issues/21755 */display: inline-block !important;position: relative;}#sk-container-id-31 div.sk-text-repr-fallback {display: none;}</style><div id=\"sk-container-id-31\" class=\"sk-top-container\"><div class=\"sk-text-repr-fallback\"><pre>LinearRegression()</pre><b>In a Jupyter environment, please rerun this cell to show the HTML representation or trust the notebook. <br />On GitHub, the HTML representation is unable to render, please try loading this page with nbviewer.org.</b></div><div class=\"sk-container\" hidden><div class=\"sk-item\"><div class=\"sk-estimator sk-toggleable\"><input class=\"sk-toggleable__control sk-hidden--visually\" id=\"sk-estimator-id-31\" type=\"checkbox\" checked><label for=\"sk-estimator-id-31\" class=\"sk-toggleable__label sk-toggleable__label-arrow\">LinearRegression</label><div class=\"sk-toggleable__content\"><pre>LinearRegression()</pre></div></div></div></div></div>"
      ],
      "text/plain": [
       "LinearRegression()"
      ]
     },
     "execution_count": 224,
     "metadata": {},
     "output_type": "execute_result"
    }
   ],
   "source": [
    "#### Обучение линейной модели регрессии\n",
    "\n",
    "from sklearn.linear_model import LinearRegression\n",
    "regressor = LinearRegression()\n",
    "regressor.fit(X_train, y_train)"
   ]
  },
  {
   "cell_type": "code",
   "execution_count": 226,
   "id": "95044b10-175b-4551-ac6f-55f4553bca73",
   "metadata": {
    "tags": []
   },
   "outputs": [
    {
     "name": "stdout",
     "output_type": "stream",
     "text": [
      "[0.54386765 0.55367357 0.57705193 0.55692057 0.55562177 0.56536275\n",
      " 0.5364645  0.66991596 0.88941275 0.54912778 0.53815294]\n"
     ]
    },
    {
     "data": {
      "image/png": "[encoded data removed]",
      "text/plain": [
       "<Figure size 640x480 with 1 Axes>"
      ]
     },
     "metadata": {},
     "output_type": "display_data"
    },
    {
     "data": {
      "image/png": "[encoded data removed]",
      "text/plain": [
       "<Figure size 640x480 with 1 Axes>"
      ]
     },
     "metadata": {},
     "output_type": "display_data"
    }
   ],
   "source": [
    "#### Предсказание, обработка и визуализация результатов\n",
    "\n",
    "y_pred = regressor.predict(X_test)\n",
    "print(y_pred)\n",
    "\n",
    "\n",
    "\n",
    "# plt.title('danceability vs speechiness (Training set)')\n",
    "# plt.xlabel('speechiness')\n",
    "# plt.ylabel('danceability')\n",
    "\n",
    "\n",
    "plt.scatter(X_train, y_train, color = 'red')\n",
    "plt.plot(X_train, regressor.predict(X_train), color = 'blue')\n",
    "plt.title('energy vs liveness (Training set)')\n",
    "plt.xlabel('liveness')\n",
    "plt.ylabel('energy')\n",
    "plt.show()\n",
    "\n",
    "plt.scatter(X_test, y_test, color = 'green')\n",
    "plt.plot(X_train, regressor.predict(X_train), color = 'red')\n",
    "plt.title('energy vs liveness (Test set)')\n",
    "plt.xlabel('liveness')\n",
    "plt.ylabel('energy')\n",
    "plt.show()"
   ]
  },
  {
   "cell_type": "code",
   "execution_count": 234,
   "id": "2fbf7678-2db2-4d27-8fda-38f1835bbe2d",
   "metadata": {
    "tags": []
   },
   "outputs": [
    {
     "name": "stdout",
     "output_type": "stream",
     "text": [
      "Mean Absolute Error: 0.245\n"
     ]
    }
   ],
   "source": [
    "mae = mean_absolute_error(y_test, y_pred)\n",
    "print(f'Mean Absolute Error: {mae:.3f}')"
   ]
  },
  {
   "cell_type": "markdown",
   "id": "e31b731e-282a-4dc8-87a0-18a6f9a8f483",
   "metadata": {},
   "source": [
    "#### Использование модели\n",
    "##### Оптимальные параметры определены, можно использовать модель"
   ]
  },
  {
   "cell_type": "code",
   "execution_count": 204,
   "id": "784c3e32-2e6d-4c4f-a573-c431b961e884",
   "metadata": {
    "tags": []
   },
   "outputs": [
    {
     "data": {
      "text/plain": [
       "array([0.73477595])"
      ]
     },
     "execution_count": 204,
     "metadata": {},
     "output_type": "execute_result"
    }
   ],
   "source": [
    "energy = [[0.77]]\n",
    "\n",
    "regressor.predict(energy)"
   ]
  },
  {
   "cell_type": "code",
   "execution_count": 206,
   "id": "0a4f77e7-4586-4ba1-b322-69557b7a5dc8",
   "metadata": {
    "tags": []
   },
   "outputs": [
    {
     "data": {
      "text/plain": [
       "array([0.72799069])"
      ]
     },
     "execution_count": 206,
     "metadata": {},
     "output_type": "execute_result"
    }
   ],
   "source": [
    "liveness = [[0.73]]\n",
    "\n",
    "regressor.predict(liveness)"
   ]
  },
  {
   "cell_type": "code",
   "execution_count": 207,
   "id": "a2b6ee35-7217-4b2b-94b5-eabc99cad5ac",
   "metadata": {
    "tags": []
   },
   "outputs": [],
   "source": [
    "#### Параметры модели\n",
    "\n",
    "a = regressor.coef_\n",
    "b = regressor.intercept_"
   ]
  },
  {
   "cell_type": "code",
   "execution_count": 211,
   "id": "af2e49b7-4341-47b7-932a-0a543e9c5c34",
   "metadata": {
    "tags": []
   },
   "outputs": [
    {
     "data": {
      "text/plain": [
       "array([0.72459806])"
      ]
     },
     "execution_count": 211,
     "metadata": {},
     "output_type": "execute_result"
    }
   ],
   "source": [
    "# Второй способ\n",
    "energy = 0.71 \n",
    "\n",
    "danceability  = a * energy + b \n",
    "danceability"
   ]
  },
  {
   "cell_type": "code",
   "execution_count": 213,
   "id": "0b9c9594-cca6-4056-893b-5fd5195552ca",
   "metadata": {
    "tags": []
   },
   "outputs": [
    {
     "data": {
      "text/plain": [
       "array([0.72707435])"
      ]
     },
     "execution_count": 213,
     "metadata": {},
     "output_type": "execute_result"
    }
   ],
   "source": [
    "danceability = 0.72\n",
    "\n",
    "energy  = a * energy + b \n",
    "energy"
   ]
  },
  {
   "cell_type": "code",
   "execution_count": null,
   "id": "7eee7454-0b0a-485c-a413-ba2c629de74e",
   "metadata": {},
   "outputs": [],
   "source": []
  },
  {
   "cell_type": "markdown",
   "id": "05c3afd7-bca8-4e6b-a626-855f43a397b0",
   "metadata": {},
   "source": [
    "1. Почему при реализации линейной модели регрессии нет необходимости выполнять масштабирование признаков?\n",
    "\n",
    "- При реализации линейной модели регрессии нет необходимости выполнять масштабирование признаков, потому что линейная регрессия сама по себе не зависит от масштаба признаков. Это происходит из-за того, что коэффициенты регрессии (веса) в итоговой модели масштабируются так, чтобы учесть разные масштабы признаков. Если бы вы использовали модели, которые чувствительны к масштабу, например, метод ближайших соседей, то масштабирование признаков могло бы быть важным.\n",
    "\n",
    "\n",
    "2. Почему при реализации модели линейной регрессии в качестве функции потерь используется квадратичное отклонение, а не модуль отклонения?\n",
    "\n",
    "- В линейной регрессии используется квадратичное отклонение (среднеквадратичная ошибка, MSE) как функция потерь, а не модуль отклонения (среднее абсолютное отклонение, MAE), потому что MSE обладает математическими свойствами, которые делают его более подходящим для обучения и оптимизации модели линейной регрессии. Он является дифференцируемым и выпуклым, что упрощает задачу оптимизации параметров модели. MAE может использоваться, если вы хотите создать модель, которая более устойчива к выбросам, но в большинстве случаев MSE предпочтительнее.\n",
    "\n",
    "\n",
    "3. Что именно реализовано в методе `fit(X, y)` класса LinearRegression?\n",
    "\n",
    "- Метод `fit(X, y)` класса LinearRegression выполняет обучение модели на обучающих данных. Он принимает матрицу признаков `X` и вектор целевых значений `y` как входные данные. Внутри метода происходит вычисление оптимальных весов (коэффициентов) для линейной модели, чтобы минимизировать функцию потерь (MSE) на предоставленных данных. После вызова метода `fit`, модель готова для предсказаний.\n",
    "\n",
    "\n",
    "4. Поясните назначение метода `predict` класса `LinearRegression`.\n",
    "\n",
    "- Метод `predict` класса LinearRegression используется для выполнения предсказаний на новых данных. Он принимает матрицу признаков `X_new` в качестве входных данных и возвращает предсказанные значения регрессии для этих данных. Этот метод использует обученные веса, которые были вычислены при вызове `fit`, чтобы выполнить предсказания.\n",
    "\n",
    "\n",
    "5. По какой подвыборке необходимо оценивать точность модели машинного обучения: тестовой или тренировочной?\n",
    "\n",
    "- Точность модели машинного обучения оценивается на тестовой подвыборке. Это делается для того, чтобы проверить, как хорошо модель обобщает данные, которые она ранее не видела. Оценка на тренировочной подвыборке может дать завышенную оценку точности, так как модель могла запомнить обучающие данные и не способна будет обобщать на новые данные. Тестовая выборка служит для проверки обобщающей способности модели."
   ]
  },
  {
   "cell_type": "code",
   "execution_count": null,
   "id": "dbf12bf4-f294-48c3-b6c9-ee107bedcd16",
   "metadata": {},
   "outputs": [],
   "source": []
  },
  {
   "cell_type": "code",
   "execution_count": null,
   "id": "504a33b4-d526-4768-9b39-acf7d3e4ef31",
   "metadata": {},
   "outputs": [],
   "source": []
  }
 ],
 "metadata": {
  "kernelspec": {
   "display_name": "Python 3 (ipykernel)",
   "language": "python",
   "name": "python3"
  },
  "language_info": {
   "codemirror_mode": {
    "name": "ipython",
    "version": 3
   },
   "file_extension": ".py",
   "mimetype": "text/x-python",
   "name": "python",
   "nbconvert_exporter": "python",
   "pygments_lexer": "ipython3",
   "version": "3.11.1"
  }
 },
 "nbformat": 4,
 "nbformat_minor": 5
}
