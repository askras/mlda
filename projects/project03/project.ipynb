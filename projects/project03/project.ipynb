{
 "cells": [
  {
   "cell_type": "markdown",
   "id": "e3b45181-dd77-455a-8d3c-3c5f0cda2a78",
   "metadata": {},
   "source": [
    "# Проектная работа\n",
    "\n",
    "Анисимов Максим ИУ10-56"
   ]
  },
  {
   "cell_type": "markdown",
   "id": "7673360c-0c84-4140-8ade-521390a0761b",
   "metadata": {},
   "source": [
    "### Type\n",
    "\n",
    "Регрессия\n",
    "\n",
    "### dataset\n",
    "\n",
    "Boston Housing Data Set\n",
    "\n",
    "### dataset_url\n",
    "\n",
    "https://www.kaggle.com/datasets/schirmerchad/bostonhoustingmlnd\n",
    "\n",
    "### method\n",
    "\n",
    "Линейная регрессия"
   ]
  },
  {
   "cell_type": "markdown",
   "id": "705e44de-5d41-4131-a969-70346c366aa4",
   "metadata": {},
   "source": [
    "## Регрессия\n",
    "Регрессия — это статистический метод, используемый для изучения отношений между зависимой переменной (целевой переменной) и одной или несколькими независимыми переменными (признаками). Этот метод часто используется для прогнозирования или описания значения зависимой переменной на основе значений одной или нескольких независимых переменных.\n",
    "\n",
    "Основная цель регрессии — понять характер связи между переменными и использовать эту информацию для предсказания будущих значений зависимой переменной при изменении независимых переменных. Математически, регрессия представляется уравнением, которое описывает линейную или нелинейную связь между переменными.\n",
    "\n",
    "Два основных типа регрессии:\n",
    "\n",
    "1) Линейная регрессия:\n",
    "\n",
    "    - Используется, когда существует линейная связь между зависимой и независимыми переменными.\n",
    "    - Цель состоит в поиске линии (или гиперплоскости в пространствах с более чем одной независимой переменной), которая наилучшим образом соответствует данным.\n",
    "1) Логистическая регрессия:\n",
    "\n",
    "    - Используется, когда зависимая переменная представляет собой категориальную (бинарную или многокатегориальную) переменную.\n",
    "    - Используется для прогнозирования вероятности принадлежности к какому-то классу.\n",
    "Регрессионные методы широко применяются в различных областях, включая экономику, финансы, биологию, медицину, социологию и многие другие."
   ]
  },
  {
   "cell_type": "markdown",
   "id": "2b383016-5719-41a1-8364-bef5dfe27723",
   "metadata": {},
   "source": [
    "## О наборе данных\n",
    "\n",
    "Набор данных для этого проекта взят из хранилища машинного обучения UCI. Данные о жилье в Бостоне были собраны в 1978 году, и каждая из 506 записей представляет собой агрегированные данные о 14 характеристиках домов из различных пригородов Бостона, штат Массачусетс."
   ]
  },
  {
   "cell_type": "markdown",
   "id": "4648f5e7-8912-4d5d-afd9-81811ef1ab8e",
   "metadata": {},
   "source": [
    "## Линейная регрессия\n",
    "Линейная регрессия — это метод в статистике и машинном обучении, используемый для оценки линейной зависимости между зависимой переменной (целевой переменной) и одной или несколькими независимыми переменными (признаками). Основная идея линейной регрессии заключается в поиске линии (или гиперплоскости в пространствах с более чем одной независимой переменной), которая лучше всего соответствует набору данных.\n",
    "\n",
    "### Принцип работы линейной регрессии:\n",
    "1) Линейная модель:\n",
    "    - Модель линейной регрессии предполагает, что зависимость между переменными является линейной, то есть может быть представлена уравнением прямой или гиперплоскости в пространствах с несколькими признаками.\n",
    "    \n",
    "2) Минимизация ошибки:\n",
    "    - Цель — минимизировать сумму квадратов разностей между реальными и предсказанными значениями. Это называется методом наименьших квадратов.\n",
    "\n",
    "3) Коэффициенты регрессии:\n",
    "    - Алгоритм находит коэффициенты (веса) при каждой независимой переменной так, чтобы минимизировать ошибку модели.\n",
    "    \n",
    "4) Предсказание:\n",
    "    - После обучения модели можно использовать ее для предсказания значений зависимой переменной на основе новых данных."
   ]
  },
  {
   "cell_type": "markdown",
   "id": "b8b91638-9391-47b3-a959-3674d72000c3",
   "metadata": {},
   "source": [
    "### Уравнение линейной регрессии:\n",
    "Для простой линейной регрессии (одна независимая переменная) уравнение выглядит следующим образом:\n",
    "\n",
    "$Y = \\mathrm{\\beta}_{0} + \\mathrm{\\beta}_{1}X + \\varepsilon$\n",
    "где:\n",
    "- $Y$ — зависимая переменная (целевая переменная),\n",
    "- $X$ — независимая переменная (признак),\n",
    "- $\\mathrm{\\beta}_{0}$ — интерсепт (свободный член), коэффициент при $\\mathrm{X}_{0}$ = 1,\n",
    "- $\\mathrm{\\beta}_{1}$ — коэффициент при $X$,\n",
    "- $\\varepsilon$ — ошибка, неучтенные факторы, случайная компонента."
   ]
  },
  {
   "cell_type": "markdown",
   "id": "0644216a-10b3-4e76-aaa3-dfb1b894137e",
   "metadata": {},
   "source": [
    "#### Пример:\n",
    "Предположим, у нас есть данные о площади квартир ($X$) и их стоимости ($Y$). Мы хотим построить модель линейной регрессии.\n",
    "\n",
    "Стоимость = $\\mathrm{\\beta}_{0} + \\mathrm{\\beta}_{1} * Площадь + \\varepsilon$\n",
    "\n",
    "Модель будет пытаться подобрать значения $\\mathrm{\\beta}_{0}$ и $\\mathrm{\\beta}_{1}$, чтобы минимизировать ошибку предсказания стоимости квартир.\n",
    "\n",
    "Линейная регрессия является одним из наиболее простых и широко используемых методов в машинном обучении и статистике."
   ]
  },
  {
   "cell_type": "code",
   "execution_count": 4,
   "id": "76963c47-a137-457b-b309-e515ebe91c4d",
   "metadata": {},
   "outputs": [
    {
     "name": "stdout",
     "output_type": "stream",
     "text": [
      "Requirement already satisfied: scikit-learn in c:\\users\\maksi\\miniconda3\\lib\\site-packages (1.3.1)\n",
      "Requirement already satisfied: scipy>=1.5.0 in c:\\users\\maksi\\miniconda3\\lib\\site-packages (from scikit-learn) (1.10.1)\n",
      "Requirement already satisfied: joblib>=1.1.1 in c:\\users\\maksi\\miniconda3\\lib\\site-packages (from scikit-learn) (1.3.2)\n",
      "Requirement already satisfied: threadpoolctl>=2.0.0 in c:\\users\\maksi\\miniconda3\\lib\\site-packages (from scikit-learn) (3.2.0)\n",
      "Requirement already satisfied: numpy<2.0,>=1.17.3 in c:\\users\\maksi\\miniconda3\\lib\\site-packages (from scikit-learn) (1.24.2)\n"
     ]
    }
   ],
   "source": [
    "!pip install scikit-learn"
   ]
  },
  {
   "cell_type": "code",
   "execution_count": 5,
   "id": "de7a9744-2198-49c3-a8a1-03fbfeb956a3",
   "metadata": {},
   "outputs": [
    {
     "name": "stdout",
     "output_type": "stream",
     "text": [
      "Mean Squared Error: 10014671648.126432\n",
      "R-squared: -2.0671266889278557\n",
      "Coefficients:\n",
      "RM: 146586.36839774143\n",
      "LSTAT: -11880.191752567462\n",
      "PTRATIO: -8736.506222401085\n",
      "Intercept: -123300.84320057544\n"
     ]
    }
   ],
   "source": [
    "import pandas as pd\n",
    "from sklearn.model_selection import train_test_split\n",
    "from sklearn.linear_model import LinearRegression\n",
    "from sklearn.metrics import mean_squared_error, r2_score\n",
    "\n",
    "# Your data\n",
    "data = \"\"\"RM,LSTAT,PTRATIO,MEDV\n",
    "6.575,4.98,15.3,504000.0\n",
    "6.421,9.14,17.8,453600.0\n",
    "7.185,4.03,17.8,728700.0\n",
    "6.998,2.94,18.7,701400.0\n",
    "7.147,5.33,18.7,760200.0\n",
    "6.43,5.21,18.7,602700.0\n",
    "6.012,12.43,15.2,480900.0\n",
    "6.172,19.15,15.2,569100.0\n",
    "5.631,29.93,15.2,346500.0\n",
    "6.004,17.1,15.2,396900.0\n",
    "6.377,20.45,15.2,315000.0\n",
    "6.009,13.27,15.2,396900.0\n",
    "5.889,15.71,15.2,455700.0\n",
    "5.949,8.26,21.0,428400.0\n",
    "6.096,10.26,21.0,382200.0\n",
    "5.834,8.47,21.0,417900.0\n",
    "5.935,6.58,21.0,485100.0\n",
    "5.99,14.67,21.0,367500.0\n",
    "5.456,11.69,21.0,424200.0\n",
    "5.727,11.28,21.0,382200.0\n",
    "5.57,21.02,21.0,285600.0\"\"\"\n",
    "\n",
    "# Convert data to DataFrame\n",
    "df = pd.read_csv(pd.io.common.StringIO(data))\n",
    "\n",
    "# Split data into features (X) and target variable (y)\n",
    "X = df.drop('MEDV', axis=1)\n",
    "y = df['MEDV']\n",
    "\n",
    "# Split the data into training and test sets\n",
    "X_train, X_test, y_train, y_test = train_test_split(X, y, test_size=0.2, random_state=42)\n",
    "\n",
    "# Create a linear regression model\n",
    "model = LinearRegression()\n",
    "\n",
    "# Train the model on the training set\n",
    "model.fit(X_train, y_train)\n",
    "\n",
    "# Make predictions on the test set\n",
    "y_pred = model.predict(X_test)\n",
    "\n",
    "# Evaluate the model performance\n",
    "mse = mean_squared_error(y_test, y_pred)\n",
    "r2 = r2_score(y_test, y_pred)\n",
    "\n",
    "# Display the results\n",
    "print(f'Mean Squared Error: {mse}')\n",
    "print(f'R-squared: {r2}')\n",
    "\n",
    "# Display the coefficients of the model\n",
    "print('Coefficients:')\n",
    "for feature, coef in zip(X.columns, model.coef_):\n",
    "    print(f'{feature}: {coef}')\n",
    "\n",
    "# Display the intercept\n",
    "print(f'Intercept: {model.intercept_}')\n"
   ]
  },
  {
   "cell_type": "markdown",
   "id": "c5b0e0f7-afaa-45dd-a47f-9ee0e868e99c",
   "metadata": {},
   "source": [
    "1) Среднеквадратичная ошибка (MSE):\n",
    "    - Среднеквадратичная ошибка - это мера того, насколько хорошо прогнозы модели соответствуют фактическим значениям. Рассчитывается как среднее квадратов разностей между предсказанными и фактическими значениями.\n",
    "    - В нашем случае MSE довольно высока (1,001 * $10^{10}$), что указывает на большие ошибки в прогнозах модели.\n",
    "\n",
    "2) R-квадрат ($R^2$):\n",
    "    - R-квадрат - это статистическая мера того, насколько хорошо модель объясняет изменчивость зависимой переменной (целевой переменной).\n",
    "    - Значения R-квадрата варьируются от 0 до 1, где 1 указывает на идеальное соответствие. Отрицательное значение R-квадрата говорит о том, что модель плохо соответствует данным.\n",
    "    - В нашем случае R-квадрат отрицателен (-2,067). Это не хороший знак и обычно указывает на то, что модель не подходит для данных.\n",
    "\n",
    "3) Коэффициенты:\n",
    "    - Коэффициенты представляют веса, присвоенные каждому признаку моделью. Они указывают на силу и направление связи между каждым признаком и целевой переменной.\n",
    "    - Например, коэффициент для RM положителен (146586.37), что указывает на то, что увеличение среднего количества комнат (RM) связано с увеличением целевой переменной (MEDV).\n",
    "    - Напротив, коэффициенты для LSTAT и PTRATIO отрицательны, что указывает на то, что увеличение процента населения с низким статусом (LSTAT) и соотношения учеников и учителей (PTRATIO) связано с уменьшением MEDV.\n",
    "    - Интерсепт - это значение целевой переменной, когда все признаки равны нулю.\n",
    "    \n",
    "Высокая MSE и отрицательный R-квадрат указывают на то, что модель линейной регрессии может не подходить для прогнозирования целевой переменной (MEDV) на основе предоставленных признаков (RM, LSTAT, PTRATIO)"
   ]
  },
  {
   "cell_type": "code",
   "execution_count": 6,
   "id": "9de71906-ace5-4dc4-a08f-a1b81da474d5",
   "metadata": {},
   "outputs": [
    {
     "name": "stdout",
     "output_type": "stream",
     "text": [
      "Mean Squared Error: 6789025559.265895\n",
      "R-squared: 0.6910934003098509\n",
      "Coefficients:\n",
      "RM: 87322.20361861192\n",
      "LSTAT: -10620.637315223681\n",
      "PTRATIO: -19324.41029649926\n",
      "Intercept: 408027.6541680779\n"
     ]
    }
   ],
   "source": [
    "import pandas as pd\n",
    "from sklearn.model_selection import train_test_split\n",
    "from sklearn.linear_model import LinearRegression\n",
    "from sklearn.metrics import mean_squared_error, r2_score\n",
    "\n",
    "# Your data\n",
    "data = pd.read_csv('dataset/housing.csv')\n",
    "\n",
    "# Convert data to DataFrame\n",
    "df = data\n",
    "\n",
    "# Split data into features (X) and target variable (y)\n",
    "X = df.drop('MEDV', axis=1)\n",
    "y = df['MEDV']\n",
    "\n",
    "# Split the data into training and test sets\n",
    "X_train, X_test, y_train, y_test = train_test_split(X, y, test_size=0.2, random_state=42)\n",
    "\n",
    "# Create a linear regression model\n",
    "model = LinearRegression()\n",
    "\n",
    "# Train the model on the training set\n",
    "model.fit(X_train, y_train)\n",
    "\n",
    "# Make predictions on the test set\n",
    "y_pred = model.predict(X_test)\n",
    "\n",
    "# Evaluate the model performance\n",
    "mse = mean_squared_error(y_test, y_pred)\n",
    "r2 = r2_score(y_test, y_pred)\n",
    "\n",
    "# Display the results\n",
    "print(f'Mean Squared Error: {mse}')\n",
    "print(f'R-squared: {r2}')\n",
    "\n",
    "# Display the coefficients of the model\n",
    "print('Coefficients:')\n",
    "for feature, coef in zip(X.columns, model.coef_):\n",
    "    print(f'{feature}: {coef}')\n",
    "\n",
    "# Display the intercept\n",
    "print(f'Intercept: {model.intercept_}')\n"
   ]
  },
  {
   "cell_type": "markdown",
   "id": "5be39eb3-4084-4ec0-8e17-95cb7831345b",
   "metadata": {},
   "source": [
    "1) Среднеквадратичная ошибка (MSE):\n",
    "    - MSE по-прежнему является мерой того, насколько хорошо прогнозы модели соответствуют фактическим значениям. Однако в данном случае она уже меньше (6,789,025,559), что свидетельствует о более низких ошибках в прогнозах по сравнению с предыдущим случаем.\n",
    "    \n",
    "2) R-квадрат ($R^2$):\n",
    "    - R-квадрат теперь положителен (0,691), что указывает на то, что модель лучше соответствует данным, чем в предыдущем случае. Значение близкое к 1 говорит о том, что модель хорошо объясняет изменчивость целевой переменной.\n",
    "    \n",
    "3) Коэффициенты:\n",
    "    - Коэффициенты указывают на силу и направление связи между каждым признаком и целевой переменной.\n",
    "    - Коэффициент для RM по-прежнему положителен (87,322), что указывает на положительную связь между средним количеством комнат и целевой переменной.\n",
    "    - Коэффициенты для LSTAT и PTRATIO также остались отрицательными, что указывает на то, что увеличение процента населения с низким статусом и соотношения учеников и учителей связано с уменьшением целевой переменной.\n",
    "    - Интерсепт (Intercept) - это значение целевой переменной, когда все признаки равны нулю.\n",
    "    \n",
    "Таким образом, с уменьшением MSE и увеличением R-квадрата, ваша модель лучше объясняет изменчивость целевой переменной (MEDV)."
   ]
  },
  {
   "cell_type": "code",
   "execution_count": 2,
   "id": "cef63ea3-e763-446a-af0d-669fa7638795",
   "metadata": {},
   "outputs": [
    {
     "data": {
      "image/png": "[encoded data removed]",
      "text/plain": [
       "<Figure size 640x480 with 1 Axes>"
      ]
     },
     "metadata": {},
     "output_type": "display_data"
    },
    {
     "name": "stdout",
     "output_type": "stream",
     "text": [
      "Mean Squared Error: 6789025559.265895\n",
      "R-squared: 0.6910934003098509\n",
      "\n",
      "Coefficients:\n",
      "     Feature    Coefficient\n",
      "0         RM   87322.203619\n",
      "1      LSTAT  -10620.637315\n",
      "2    PTRATIO  -19324.410296\n",
      "0  Intercept  408027.654168\n"
     ]
    }
   ],
   "source": [
    "import pandas as pd\n",
    "from sklearn.model_selection import train_test_split\n",
    "from sklearn.linear_model import LinearRegression\n",
    "from sklearn.metrics import mean_squared_error, r2_score\n",
    "import matplotlib.pyplot as plt\n",
    "\n",
    "# Загрузка данных из файла\n",
    "data = pd.read_csv('dataset/housing.csv')\n",
    "\n",
    "# Разделение данных на признаки (X) и целевую переменную (y)\n",
    "X = data[['RM', 'LSTAT', 'PTRATIO']]\n",
    "y = data['MEDV']\n",
    "\n",
    "# Разделение данных на тренировочный и тестовый наборы\n",
    "X_train, X_test, y_train, y_test = train_test_split(X, y, test_size=0.2, random_state=42)\n",
    "\n",
    "# Инициализация модели линейной регрессии\n",
    "model = LinearRegression()\n",
    "\n",
    "# Обучение модели на тренировочных данных\n",
    "model.fit(X_train, y_train)\n",
    "\n",
    "# Получение предсказаний на тестовых данных\n",
    "y_pred = model.predict(X_test)\n",
    "\n",
    "# Оценка результатов\n",
    "mse = mean_squared_error(y_test, y_pred)\n",
    "r2 = r2_score(y_test, y_pred)\n",
    "\n",
    "# Вывод коэффициентов регрессии\n",
    "coefficients = pd.DataFrame({'Feature': X.columns, 'Coefficient': model.coef_})\n",
    "intercept = pd.DataFrame({'Feature': ['Intercept'], 'Coefficient': [model.intercept_]})\n",
    "\n",
    "# Визуализация предсказанных vs. реальных значений\n",
    "plt.scatter(y_test, y_pred)\n",
    "plt.xlabel(\"Real Values\")\n",
    "plt.ylabel(\"Predicted Values\")\n",
    "plt.title(\"Real vs. Predicted Values\")\n",
    "plt.show()\n",
    "\n",
    "# Вывод результатов\n",
    "print(f\"Mean Squared Error: {mse}\")\n",
    "print(f\"R-squared: {r2}\")\n",
    "print(\"\\nCoefficients:\")\n",
    "print(pd.concat([coefficients, intercept]))\n"
   ]
  },
  {
   "cell_type": "markdown",
   "id": "fb9aea8d-d250-44fd-bc17-5baa9451ea40",
   "metadata": {},
   "source": [
    "1) $\\color{black}{\\text{Mean Squared Error (MSE):}}$ Это метрика, которая измеряет среднеквадратичное отклонение предсказанных значений от фактических. Чем меньше значение MSE, тем лучше. В данном случае, MSE равно 6,789,025,559.27, что означает, что среднеквадратичное отклонение предсказанных значений от фактических в квадрате составляет примерно 6,789,025,559.27.\n",
    "\n",
    "2) $\\color{black}{\\text{R-squared ($R^2$):}}$ Это коэффициент детерминации, который представляет собой долю дисперсии зависимой переменной, объясненную моделью. Значение $R^2$ находится в пределах от 0 до 1, где 1 означает, что модель идеально объясняет изменчивость данных. В данном случае, $R^2$ равно 0.691, что означает, что модель объясняет примерно 69.1% изменчивости зависимой переменной.\n",
    "\n",
    "3) $\\color{black}{\\text{Coefficients (Коэффициенты):}}$ Каждый коэффициент представляет вклад соответствующего признака в предсказание.\n",
    "\n",
    "    - RM (среднее количество комнат на дом): Положительный коэффициент (87,322) говорит о том, что увеличение среднего количества комнат на доме положительно влияет на цену.\n",
    "\n",
    "    - LSTAT (процент населения низкого статуса): Отрицательный коэффициент (-10,620) говорит о том, что увеличение процента населения низкого статуса негативно влияет на цену.\n",
    "\n",
    "    - PTRATIO (соотношение учеников и учителей): Отрицательный коэффициент (-19,324) указывает на то, что увеличение соотношения учеников и учителей также негативно влияет на цену.\n",
    "\n",
    "    - Intercept (Перехват): Это свободный член, который представляет базовое значение цены, когда все остальные признаки равны нулю.\n",
    "\n",
    "В целом, модель предсказывает цену дома, исходя из этих трех признаков. Каждый коэффициент указывает на направление и силу влияния соответствующего признака на цену дома."
   ]
  },
  {
   "cell_type": "code",
   "execution_count": null,
   "id": "6229eaa8-8335-4ded-9bdb-203c4c1201fc",
   "metadata": {},
   "outputs": [],
   "source": []
  }
 ],
 "metadata": {
  "kernelspec": {
   "display_name": "Python 3 (ipykernel)",
   "language": "python",
   "name": "python3"
  },
  "language_info": {
   "codemirror_mode": {
    "name": "ipython",
    "version": 3
   },
   "file_extension": ".py",
   "mimetype": "text/x-python",
   "name": "python",
   "nbconvert_exporter": "python",
   "pygments_lexer": "ipython3",
   "version": "3.10.9"
  }
 },
 "nbformat": 4,
 "nbformat_minor": 5
}
