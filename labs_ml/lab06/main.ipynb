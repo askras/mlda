{
 "cells": [
  {
   "cell_type": "markdown",
   "id": "c938a517-c3a6-4288-abe4-99a6e27f0dc6",
   "metadata": {},
   "source": [
    "### Теоретические сведения\n",
    "\n",
    "<!-- #region -->\n",
    "Для решения задачи одномерной регрессии удобно использовать универсальный пайплайн предварительной обработки данных. \n",
    "К имеющемусяя шаблонному коду необходимо добавить код для обучения модели, интерпретации и визуализации результатов.\n",
    "Линейная регрессия – метод восстановления зависимости между двумя переменными. \n",
    "Пусть задана модель регрессии – параметрическое семейство функций $𝑔(x, \\alpha)$, где $\\alpha \\in ℝ^p$  – вектор параметров модели. \n",
    "Определим функционал качества аппроксимации целевой зависимости на выборке $𝑋^ℓ^ как сумму квадратов ошибок\n",
    "\n",
    "\\begin{equation}\n",
    "\\label{1}\\tag{1}\n",
    "Q(\\alpha, X^l) = \\sum\\limits_{i=1}^{l}(g(x_i, \\alpha) - y_i)^2.\n",
    "\\end{equation}\n",
    "\n",
    "Обучение по методу наименьших квадратов (МНК) состоит в том, чтобы найти вектор параметров 𝛼∗, при котором достигается минимум среднего\n",
    "квадрата ошибки на заданной обучающей выборке $𝑋^l$:\n",
    "\n",
    "\\begin{equation}\n",
    "\\label{2}\\tag{2}\n",
    "\\alpha^{*} = \\arg\\min\\limits_{\\alpha \\in  ℝ^p} Q(\\alpha, X^l).\n",
    "\\end{equation}\n",
    "\n",
    "Стандартный способ решения этой оптимизационной задачи – воспользоваться необходимым условием минимума. \n",
    "Если функция $𝑔(x, \\alpha)$ достаточное число раз дифференцируема по $\\alpha$, то в точке минимума выполняется система $𝑝$ уравнений относительно $𝑝$ неизвестных\n",
    "\n",
    "\\begin{equation}\n",
    "\\label{3}\\tag{3}\n",
    "\\cfrac{\\partial Q}{\\partial \\alpha}(\\alpha, X^l) = 2 \\sum\\limits_{i=1}^{l} (g(x_i, \\alpha) - y_i)\\cfrac{\\partial g}{\\partial \\alpha} (x_i, \\alpha) = 0.\n",
    "\\end{equation}\n",
    "\n",
    "\n",
    "С использованием библиотек машинного обучения формулы (1) – (2) можно реализовать автоматически, но следует понимать, что конкретно\n",
    "реализует каждый метод\n",
    "\n",
    "\n",
    "<!-- #endregion -->\n",
    "\n",
    "### Методика и порядок выполнения работы\n",
    "Перед выполнением индивидуального задания рекомендуется выполнить все пункты учебной задачи.\n",
    "\n",
    "\n",
    "### Учебная задача\n",
    "\n",
    "В рамках учебной задачи необходимо построить пайплайн, реализующий решение задачи линейной одномерной регрессии.\n",
    "\n",
    "\n",
    "#### Подключение библиотек"
   ]
  },
  {
   "cell_type": "code",
   "execution_count": 1,
   "id": "cb3cc326-e284-418c-9a13-39658f4e0de5",
   "metadata": {
    "tags": []
   },
   "outputs": [],
   "source": [
    "import numpy as np\n",
    "import matplotlib.pyplot as plt\n",
    "import pandas as pd"
   ]
  },
  {
   "cell_type": "code",
   "execution_count": 2,
   "id": "053340f3-c231-44ad-948f-ce3571ba4cf7",
   "metadata": {
    "tags": []
   },
   "outputs": [
    {
     "name": "stdout",
     "output_type": "stream",
     "text": [
      "Матрица признаков\n",
      "[[1.1]\n",
      " [1.3]\n",
      " [1.5]\n",
      " [2. ]\n",
      " [2.2]]\n",
      "Зависимая переменная\n",
      "[39343. 46205. 37731. 43525. 39891.]\n"
     ]
    }
   ],
   "source": [
    "#### Загрузка данных и разделение на матрицу признаков и зависимую переменную\n",
    "\n",
    "dataset = pd.read_csv('./datasets/Salary_Data.csv')\n",
    "dataset.head()\n",
    "\n",
    "X = dataset.iloc[:, :-1].values\n",
    "y = dataset.iloc[:, 1].values\n",
    "print (\"Матрица признаков\"); print(X[:5])\n",
    "print (\"Зависимая переменная\"); print(y[:5])\n"
   ]
  },
  {
   "cell_type": "code",
   "execution_count": 3,
   "id": "b8aaec96-e78a-4c9d-995d-8e02d72cee76",
   "metadata": {
    "tags": []
   },
   "outputs": [
    {
     "data": {
      "text/plain": [
       "array([[ 1.1],\n",
       "       [ 1.3],\n",
       "       [ 1.5],\n",
       "       [ 2. ],\n",
       "       [ 2.2],\n",
       "       [ 2.9],\n",
       "       [ 3. ],\n",
       "       [ 3.2],\n",
       "       [ 3.2],\n",
       "       [ 3.7],\n",
       "       [ 3.9],\n",
       "       [ 4. ],\n",
       "       [ 4. ],\n",
       "       [ 4.1],\n",
       "       [ 4.5],\n",
       "       [ 4.9],\n",
       "       [ 5.1],\n",
       "       [ 5.3],\n",
       "       [ 5.9],\n",
       "       [ 6. ],\n",
       "       [ 6.8],\n",
       "       [ 7.1],\n",
       "       [ 7.9],\n",
       "       [ 8.2],\n",
       "       [ 8.7],\n",
       "       [ 9. ],\n",
       "       [ 9.5],\n",
       "       [ 9.6],\n",
       "       [10.3],\n",
       "       [10.5]])"
      ]
     },
     "execution_count": 3,
     "metadata": {},
     "output_type": "execute_result"
    }
   ],
   "source": [
    "#### Обработка пропущенных значений (если требуется)\n",
    "\n",
    "from sklearn.impute import SimpleImputer\n",
    "\n",
    "imputer = SimpleImputer(missing_values = np.nan, strategy = 'mean')\n",
    "imputer = imputer.fit(X[:, :])\n",
    "X_without_nan = X.copy()\n",
    "X_without_nan[:, :] = imputer.transform(X[:, :])\n",
    "X_without_nan"
   ]
  },
  {
   "cell_type": "code",
   "execution_count": 4,
   "id": "43658bb2-a92a-461c-9648-387223f9f4b0",
   "metadata": {
    "tags": []
   },
   "outputs": [],
   "source": [
    "#### Разделение выборки на тестовую и тренировочную\n",
    "\n",
    "from sklearn.model_selection import train_test_split\n",
    "X_train, X_test, y_train, y_test = train_test_split(X, y, test_size = 1/4, random_state = 0) \n",
    "\n",
    "\n"
   ]
  },
  {
   "cell_type": "code",
   "execution_count": 11,
   "id": "f4199bb9-e95d-4023-9611-1ce432cb803c",
   "metadata": {
    "tags": []
   },
   "outputs": [
    {
     "data": {
      "text/html": [
       "<style>#sk-container-id-3 {color: black;}#sk-container-id-3 pre{padding: 0;}#sk-container-id-3 div.sk-toggleable {background-color: white;}#sk-container-id-3 label.sk-toggleable__label {cursor: pointer;display: block;width: 100%;margin-bottom: 0;padding: 0.3em;box-sizing: border-box;text-align: center;}#sk-container-id-3 label.sk-toggleable__label-arrow:before {content: \"▸\";float: left;margin-right: 0.25em;color: #696969;}#sk-container-id-3 label.sk-toggleable__label-arrow:hover:before {color: black;}#sk-container-id-3 div.sk-estimator:hover label.sk-toggleable__label-arrow:before {color: black;}#sk-container-id-3 div.sk-toggleable__content {max-height: 0;max-width: 0;overflow: hidden;text-align: left;background-color: #f0f8ff;}#sk-container-id-3 div.sk-toggleable__content pre {margin: 0.2em;color: black;border-radius: 0.25em;background-color: #f0f8ff;}#sk-container-id-3 input.sk-toggleable__control:checked~div.sk-toggleable__content {max-height: 200px;max-width: 100%;overflow: auto;}#sk-container-id-3 input.sk-toggleable__control:checked~label.sk-toggleable__label-arrow:before {content: \"▾\";}#sk-container-id-3 div.sk-estimator input.sk-toggleable__control:checked~label.sk-toggleable__label {background-color: #d4ebff;}#sk-container-id-3 div.sk-label input.sk-toggleable__control:checked~label.sk-toggleable__label {background-color: #d4ebff;}#sk-container-id-3 input.sk-hidden--visually {border: 0;clip: rect(1px 1px 1px 1px);clip: rect(1px, 1px, 1px, 1px);height: 1px;margin: -1px;overflow: hidden;padding: 0;position: absolute;width: 1px;}#sk-container-id-3 div.sk-estimator {font-family: monospace;background-color: #f0f8ff;border: 1px dotted black;border-radius: 0.25em;box-sizing: border-box;margin-bottom: 0.5em;}#sk-container-id-3 div.sk-estimator:hover {background-color: #d4ebff;}#sk-container-id-3 div.sk-parallel-item::after {content: \"\";width: 100%;border-bottom: 1px solid gray;flex-grow: 1;}#sk-container-id-3 div.sk-label:hover label.sk-toggleable__label {background-color: #d4ebff;}#sk-container-id-3 div.sk-serial::before {content: \"\";position: absolute;border-left: 1px solid gray;box-sizing: border-box;top: 0;bottom: 0;left: 50%;z-index: 0;}#sk-container-id-3 div.sk-serial {display: flex;flex-direction: column;align-items: center;background-color: white;padding-right: 0.2em;padding-left: 0.2em;position: relative;}#sk-container-id-3 div.sk-item {position: relative;z-index: 1;}#sk-container-id-3 div.sk-parallel {display: flex;align-items: stretch;justify-content: center;background-color: white;position: relative;}#sk-container-id-3 div.sk-item::before, #sk-container-id-3 div.sk-parallel-item::before {content: \"\";position: absolute;border-left: 1px solid gray;box-sizing: border-box;top: 0;bottom: 0;left: 50%;z-index: -1;}#sk-container-id-3 div.sk-parallel-item {display: flex;flex-direction: column;z-index: 1;position: relative;background-color: white;}#sk-container-id-3 div.sk-parallel-item:first-child::after {align-self: flex-end;width: 50%;}#sk-container-id-3 div.sk-parallel-item:last-child::after {align-self: flex-start;width: 50%;}#sk-container-id-3 div.sk-parallel-item:only-child::after {width: 0;}#sk-container-id-3 div.sk-dashed-wrapped {border: 1px dashed gray;margin: 0 0.4em 0.5em 0.4em;box-sizing: border-box;padding-bottom: 0.4em;background-color: white;}#sk-container-id-3 div.sk-label label {font-family: monospace;font-weight: bold;display: inline-block;line-height: 1.2em;}#sk-container-id-3 div.sk-label-container {text-align: center;}#sk-container-id-3 div.sk-container {/* jupyter's `normalize.less` sets `[hidden] { display: none; }` but bootstrap.min.css set `[hidden] { display: none !important; }` so we also need the `!important` here to be able to override the default hidden behavior on the sphinx rendered scikit-learn.org. See: https://github.com/scikit-learn/scikit-learn/issues/21755 */display: inline-block !important;position: relative;}#sk-container-id-3 div.sk-text-repr-fallback {display: none;}</style><div id=\"sk-container-id-3\" class=\"sk-top-container\"><div class=\"sk-text-repr-fallback\"><pre>LinearRegression()</pre><b>In a Jupyter environment, please rerun this cell to show the HTML representation or trust the notebook. <br />On GitHub, the HTML representation is unable to render, please try loading this page with nbviewer.org.</b></div><div class=\"sk-container\" hidden><div class=\"sk-item\"><div class=\"sk-estimator sk-toggleable\"><input class=\"sk-toggleable__control sk-hidden--visually\" id=\"sk-estimator-id-3\" type=\"checkbox\" checked><label for=\"sk-estimator-id-3\" class=\"sk-toggleable__label sk-toggleable__label-arrow\">LinearRegression</label><div class=\"sk-toggleable__content\"><pre>LinearRegression()</pre></div></div></div></div></div>"
      ],
      "text/plain": [
       "LinearRegression()"
      ]
     },
     "execution_count": 11,
     "metadata": {},
     "output_type": "execute_result"
    }
   ],
   "source": [
    "#### Обучение линейной модели регрессии\n",
    "\n",
    "from sklearn.linear_model import LinearRegression\n",
    "regressor = LinearRegression()\n",
    "regressor.fit(X_train, y_train)\n",
    "\n"
   ]
  },
  {
   "cell_type": "code",
   "execution_count": 7,
   "id": "e7416e35-9f21-4745-9bad-ed51306c96c1",
   "metadata": {
    "tags": []
   },
   "outputs": [
    {
     "name": "stdout",
     "output_type": "stream",
     "text": [
      "[ 41056.25705466 123597.70938378  65443.50433372  63567.56223533\n",
      " 116093.94099022 108590.17259667 117031.91203942  64505.53328452]\n"
     ]
    },
    {
     "data": {
      "image/png": "[encoded data removed]",
      "text/plain": [
       "<Figure size 640x480 with 1 Axes>"
      ]
     },
     "metadata": {},
     "output_type": "display_data"
    },
    {
     "data": {
      "image/png": "[encoded data removed]",
      "text/plain": [
       "<Figure size 640x480 with 1 Axes>"
      ]
     },
     "metadata": {},
     "output_type": "display_data"
    }
   ],
   "source": [
    "#### Предсказание, обработка и визуализация результатов\n",
    "\n",
    "y_pred = regressor.predict(X_test)\n",
    "print(y_pred)\n",
    "\n",
    "plt.scatter(X_train, y_train, color = 'red')\n",
    "plt.plot(X_train, regressor.predict(X_train), color = 'blue')\n",
    "plt.title('Salary vs Experience (Training set)')\n",
    "plt.xlabel('Years of Experience')\n",
    "plt.ylabel('Salary')\n",
    "plt.show()\n",
    "\n",
    "plt.scatter(X_test, y_test, color = 'red')\n",
    "plt.plot(X_train, regressor.predict(X_train), color = 'blue')\n",
    "plt.title('Salary vs Experience (Test set)')\n",
    "plt.xlabel('Years of Experience')\n",
    "plt.ylabel('Salary')\n",
    "plt.show()\n",
    "\n"
   ]
  },
  {
   "cell_type": "code",
   "execution_count": 8,
   "id": "6587f378-91d0-4fb1-b923-6bffd9242f89",
   "metadata": {
    "tags": []
   },
   "outputs": [
    {
     "data": {
      "text/plain": [
       "array([69195.38853049])"
      ]
     },
     "execution_count": 8,
     "metadata": {},
     "output_type": "execute_result"
    }
   ],
   "source": [
    "#### Использование модели\n",
    "#### Оптимальные параметры определены, можно использовать модель\n",
    "\n",
    "\n",
    "Years = [[4.5]]\n",
    "\n",
    "regressor.predict(Years)\n",
    "\n",
    "\n"
   ]
  },
  {
   "cell_type": "code",
   "execution_count": 9,
   "id": "775041ac-9776-42bd-b3a1-4f72cec34933",
   "metadata": {
    "tags": []
   },
   "outputs": [],
   "source": [
    "#### Параметры модели\n",
    "\n",
    "a = regressor.coef_\n",
    "b = regressor.intercept_"
   ]
  },
  {
   "cell_type": "code",
   "execution_count": 10,
   "id": "b02b1c37-803e-4825-93d8-52fd632b63b5",
   "metadata": {
    "tags": []
   },
   "outputs": [
    {
     "data": {
      "text/plain": [
       "array([69195.38853049])"
      ]
     },
     "execution_count": 10,
     "metadata": {},
     "output_type": "execute_result"
    }
   ],
   "source": [
    "\n",
    "# Можно использовать и так\n",
    "Year = 4.5\n",
    "\n",
    "\n",
    "Salary  = a * Year + b \n",
    "Salary\n",
    "\n"
   ]
  },
  {
   "cell_type": "markdown",
   "id": "22a8e075-d9f9-4704-b962-8af625d57cfe",
   "metadata": {},
   "source": [
    "### Индивидуальное задание\n",
    "\n",
    "1. Подберите набор данных на ресурсах [2, 3] и согласуйте свой выбор с преподавателем и другими студентами группы, так\n",
    "как работа над одинаковыми наборами данных недопустима.\n",
    "\n",
    "2. Выполните построение модели классификации на основе линейной регрессии. В ходе решения задачи необходимо решить следующие подзадачи:\n",
    " \n",
    "\n",
    "\n",
    "### Содержание отчета и его форма\n",
    "\n",
    "Отчет по лабораторной работе должен содержать:\n",
    "\n",
    "1. Номер и название лабораторной работы; задачи лабораторной работы.\n",
    "\n",
    "2. Реализация каждого пункта подраздела «Индивидуальное задание» с приведением исходного кода программы, диаграмм и графиков для визуализации данных.\n",
    "\n",
    "3. Ответы на контрольные вопросы.\n",
    "\n",
    "4. Листинг программного кода с комментариями, показывающие порядок выполнения лабораторной работы, и результаты, полученные в ходе её выполнения.\n",
    "\n",
    "\n",
    "### Контрольные вопросы\n",
    "\n",
    "1. Почему при реализации линейной модели регрессии нет необходимости выполнять масштабирование признаков?\n",
    "2. Почему при реализации модели линейной регрессии в качестве функции потерь используется квадратичное отклонение, а не модуль отклонения?\n",
    "3. Что именно реализовано в методе fit(X, y) класса LinearRegression?\n",
    "4. Поясните назначение метода predict класса LinearRegression.\n",
    "5. По какой подвыборке необходимо оценивать точность модели машинного обучения: тестовой или тренировочной?\n",
    "\n",
    "\n",
    "### Список литературы\n",
    "\n",
    "1. Дж. Плас: Python для сложных задач. Наука о данных и машинное обучение. Питер.,2018, 576 с.\n",
    "\n",
    "2. [Репозиторий наборов данных для машинного обучения (Центр машинного обучения и интеллектуальных систем)](https://archive.ics.uci.edu/datasets)\n",
    "\n",
    "3. [Репозиторий наборов данных для машинного обучения (Kaggle)](https://www.kaggle.com/datasets/)\n"
   ]
  },
  {
   "cell_type": "code",
   "execution_count": null,
   "id": "0e5247c8-7b3e-4a6c-9af0-f12db65eedaf",
   "metadata": {},
   "outputs": [],
   "source": []
  }
 ],
 "metadata": {
  "kernelspec": {
   "display_name": "Python 3 (ipykernel)",
   "language": "python",
   "name": "python3"
  },
  "language_info": {
   "codemirror_mode": {
    "name": "ipython",
    "version": 3
   },
   "file_extension": ".py",
   "mimetype": "text/x-python",
   "name": "python",
   "nbconvert_exporter": "python",
   "pygments_lexer": "ipython3",
   "version": "3.11.1"
  }
 },
 "nbformat": 4,
 "nbformat_minor": 5
}
