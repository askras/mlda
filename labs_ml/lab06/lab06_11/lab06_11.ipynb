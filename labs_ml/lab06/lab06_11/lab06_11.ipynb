{
 "cells": [
  {
   "cell_type": "markdown",
   "id": "bc0cefb8",
   "metadata": {},
   "source": [
    "# Лабороторная работа №6. Ласточкин Иван. 11 вариант"
   ]
  },
  {
   "cell_type": "markdown",
   "id": "02dd3fb0",
   "metadata": {},
   "source": [
    "## Цель работы"
   ]
  },
  {
   "cell_type": "markdown",
   "id": "3f83943e",
   "metadata": {},
   "source": [
    "Изучение принципов построения модели линейной одномерной регрессии."
   ]
  },
  {
   "cell_type": "markdown",
   "id": "0160c91f",
   "metadata": {},
   "source": [
    "## Общие сведения"
   ]
  },
  {
   "cell_type": "markdown",
   "id": "eb6ba149",
   "metadata": {},
   "source": [
    "[Мой датасет](https://www.kaggle.com/datasets/yasserh/student-marks-dataset) представляет собой информацию об оценках студентов включая данные о времени, затраченном на учебу, и количестве курсов, которые они изучают. В наборе данных содержится информация о 100 студентах, где каждый студент имеет три характеристики:\n",
    "\n",
    "1. **number_courses**: Количество курсов, которые студент изучает.\n",
    "2. **time_study**: Время, которое студент тратит на учебу.\n",
    "3. **Marks**: Оценка студента.\n",
    "\n",
    "Эти данные могут быть использованы для построения модели, предсказывающей оценки студентов на основе их времени, затраченного на учебу, и количества изучаемых курсов. Путем анализа этого датасета и построения модели можно попытаться выявить взаимосвязи между учебным временем, количеством курсов и полученными оценками, что может быть полезным для понимания факторов, влияющих на успеваемость студентов."
   ]
  },
  {
   "cell_type": "markdown",
   "id": "0fcbb72e",
   "metadata": {},
   "source": [
    "## Ход работы"
   ]
  },
  {
   "cell_type": "code",
   "execution_count": 14,
   "id": "d807e361",
   "metadata": {},
   "outputs": [],
   "source": [
    "import numpy as np\n",
    "import matplotlib.pyplot as plt\n",
    "import pandas as pd"
   ]
  },
  {
   "cell_type": "code",
   "execution_count": 15,
   "id": "f3feae1e",
   "metadata": {},
   "outputs": [
    {
     "data": {
      "text/html": [
       "<div>\n",
       "<style scoped>\n",
       "    .dataframe tbody tr th:only-of-type {\n",
       "        vertical-align: middle;\n",
       "    }\n",
       "\n",
       "    .dataframe tbody tr th {\n",
       "        vertical-align: top;\n",
       "    }\n",
       "\n",
       "    .dataframe thead th {\n",
       "        text-align: right;\n",
       "    }\n",
       "</style>\n",
       "<table border=\"1\" class=\"dataframe\">\n",
       "  <thead>\n",
       "    <tr style=\"text-align: right;\">\n",
       "      <th></th>\n",
       "      <th>number_courses</th>\n",
       "      <th>time_study</th>\n",
       "      <th>Marks</th>\n",
       "    </tr>\n",
       "  </thead>\n",
       "  <tbody>\n",
       "    <tr>\n",
       "      <th>0</th>\n",
       "      <td>3</td>\n",
       "      <td>4.508</td>\n",
       "      <td>19.202</td>\n",
       "    </tr>\n",
       "    <tr>\n",
       "      <th>1</th>\n",
       "      <td>4</td>\n",
       "      <td>0.096</td>\n",
       "      <td>7.734</td>\n",
       "    </tr>\n",
       "    <tr>\n",
       "      <th>2</th>\n",
       "      <td>4</td>\n",
       "      <td>3.133</td>\n",
       "      <td>13.811</td>\n",
       "    </tr>\n",
       "    <tr>\n",
       "      <th>3</th>\n",
       "      <td>6</td>\n",
       "      <td>7.909</td>\n",
       "      <td>53.018</td>\n",
       "    </tr>\n",
       "    <tr>\n",
       "      <th>4</th>\n",
       "      <td>8</td>\n",
       "      <td>7.811</td>\n",
       "      <td>55.299</td>\n",
       "    </tr>\n",
       "  </tbody>\n",
       "</table>\n",
       "</div>"
      ],
      "text/plain": [
       "   number_courses  time_study   Marks\n",
       "0               3       4.508  19.202\n",
       "1               4       0.096   7.734\n",
       "2               4       3.133  13.811\n",
       "3               6       7.909  53.018\n",
       "4               8       7.811  55.299"
      ]
     },
     "execution_count": 15,
     "metadata": {},
     "output_type": "execute_result"
    }
   ],
   "source": [
    "dataset = pd.read_csv('/Users/vane4ka/Downloads/Student_Marks.csv')\n",
    "dataset.head()"
   ]
  },
  {
   "cell_type": "code",
   "execution_count": 16,
   "id": "caef5bea",
   "metadata": {},
   "outputs": [
    {
     "name": "stdout",
     "output_type": "stream",
     "text": [
      "Матрица признаков\n",
      "[[4.508]\n",
      " [0.096]\n",
      " [3.133]\n",
      " [7.909]\n",
      " [7.811]]\n",
      "Зависимая переменная\n",
      "[19.202  7.734 13.811 53.018 55.299]\n"
     ]
    }
   ],
   "source": [
    "X = dataset.iloc[:, 1:2].values\n",
    "y = dataset.iloc[:, 2].values\n",
    "print (\"Матрица признаков\"); print(X[:5])\n",
    "print (\"Зависимая переменная\"); print(y[:5])"
   ]
  },
  {
   "cell_type": "code",
   "execution_count": 17,
   "id": "e1965a3a",
   "metadata": {},
   "outputs": [
    {
     "data": {
      "text/plain": [
       "array([[4.508],\n",
       "       [0.096],\n",
       "       [3.133],\n",
       "       [7.909],\n",
       "       [7.811],\n",
       "       [3.211],\n",
       "       [6.063],\n",
       "       [3.413],\n",
       "       [4.41 ],\n",
       "       [6.173],\n",
       "       [7.353],\n",
       "       [0.423],\n",
       "       [4.218],\n",
       "       [4.274],\n",
       "       [2.908],\n",
       "       [4.26 ],\n",
       "       [5.719],\n",
       "       [6.08 ],\n",
       "       [7.711],\n",
       "       [3.977],\n",
       "       [4.733],\n",
       "       [6.126],\n",
       "       [2.051],\n",
       "       [4.875],\n",
       "       [3.635],\n",
       "       [1.407],\n",
       "       [0.508],\n",
       "       [4.378],\n",
       "       [0.156],\n",
       "       [1.299],\n",
       "       [3.864],\n",
       "       [1.923],\n",
       "       [0.932],\n",
       "       [6.594],\n",
       "       [4.083],\n",
       "       [7.543],\n",
       "       [2.966],\n",
       "       [7.283],\n",
       "       [6.533],\n",
       "       [7.775],\n",
       "       [0.14 ],\n",
       "       [2.754],\n",
       "       [3.591],\n",
       "       [1.557],\n",
       "       [1.954],\n",
       "       [2.061],\n",
       "       [3.797],\n",
       "       [4.779],\n",
       "       [5.635],\n",
       "       [3.913],\n",
       "       [6.703],\n",
       "       [4.13 ],\n",
       "       [0.771],\n",
       "       [6.049],\n",
       "       [7.591],\n",
       "       [2.913],\n",
       "       [7.641],\n",
       "       [7.649],\n",
       "       [6.198],\n",
       "       [7.468],\n",
       "       [0.376],\n",
       "       [2.438],\n",
       "       [3.606],\n",
       "       [4.869],\n",
       "       [0.13 ],\n",
       "       [2.142],\n",
       "       [5.473],\n",
       "       [0.55 ],\n",
       "       [1.395],\n",
       "       [3.948],\n",
       "       [3.736],\n",
       "       [2.518],\n",
       "       [4.633],\n",
       "       [1.629],\n",
       "       [6.954],\n",
       "       [0.803],\n",
       "       [6.379],\n",
       "       [5.985],\n",
       "       [7.451],\n",
       "       [0.805],\n",
       "       [7.957],\n",
       "       [2.262],\n",
       "       [7.41 ],\n",
       "       [3.197],\n",
       "       [1.982],\n",
       "       [6.201],\n",
       "       [4.067],\n",
       "       [1.033],\n",
       "       [1.803],\n",
       "       [6.376],\n",
       "       [4.182],\n",
       "       [2.73 ],\n",
       "       [5.027],\n",
       "       [6.471],\n",
       "       [3.919],\n",
       "       [3.561],\n",
       "       [0.301],\n",
       "       [7.163],\n",
       "       [0.309],\n",
       "       [6.335]])"
      ]
     },
     "execution_count": 17,
     "metadata": {},
     "output_type": "execute_result"
    }
   ],
   "source": [
    "from sklearn.impute import SimpleImputer\n",
    "\n",
    "imputer = SimpleImputer(missing_values = np.nan, strategy = 'mean')\n",
    "imputer = imputer.fit(X[:, :])\n",
    "X_without_nan = X.copy()\n",
    "X_without_nan[:, :] = imputer.transform(X[:, :])\n",
    "X_without_nan\n"
   ]
  },
  {
   "cell_type": "code",
   "execution_count": 18,
   "id": "1c54bdc4",
   "metadata": {},
   "outputs": [],
   "source": [
    "from sklearn.model_selection import train_test_split\n",
    "X_train, X_test, y_train, y_test = train_test_split(X, y, test_size = 1/4, random_state = 0) "
   ]
  },
  {
   "cell_type": "code",
   "execution_count": 19,
   "id": "2e010f81",
   "metadata": {},
   "outputs": [
    {
     "data": {
      "text/html": [
       "<style>#sk-container-id-2 {color: black;}#sk-container-id-2 pre{padding: 0;}#sk-container-id-2 div.sk-toggleable {background-color: white;}#sk-container-id-2 label.sk-toggleable__label {cursor: pointer;display: block;width: 100%;margin-bottom: 0;padding: 0.3em;box-sizing: border-box;text-align: center;}#sk-container-id-2 label.sk-toggleable__label-arrow:before {content: \"▸\";float: left;margin-right: 0.25em;color: #696969;}#sk-container-id-2 label.sk-toggleable__label-arrow:hover:before {color: black;}#sk-container-id-2 div.sk-estimator:hover label.sk-toggleable__label-arrow:before {color: black;}#sk-container-id-2 div.sk-toggleable__content {max-height: 0;max-width: 0;overflow: hidden;text-align: left;background-color: #f0f8ff;}#sk-container-id-2 div.sk-toggleable__content pre {margin: 0.2em;color: black;border-radius: 0.25em;background-color: #f0f8ff;}#sk-container-id-2 input.sk-toggleable__control:checked~div.sk-toggleable__content {max-height: 200px;max-width: 100%;overflow: auto;}#sk-container-id-2 input.sk-toggleable__control:checked~label.sk-toggleable__label-arrow:before {content: \"▾\";}#sk-container-id-2 div.sk-estimator input.sk-toggleable__control:checked~label.sk-toggleable__label {background-color: #d4ebff;}#sk-container-id-2 div.sk-label input.sk-toggleable__control:checked~label.sk-toggleable__label {background-color: #d4ebff;}#sk-container-id-2 input.sk-hidden--visually {border: 0;clip: rect(1px 1px 1px 1px);clip: rect(1px, 1px, 1px, 1px);height: 1px;margin: -1px;overflow: hidden;padding: 0;position: absolute;width: 1px;}#sk-container-id-2 div.sk-estimator {font-family: monospace;background-color: #f0f8ff;border: 1px dotted black;border-radius: 0.25em;box-sizing: border-box;margin-bottom: 0.5em;}#sk-container-id-2 div.sk-estimator:hover {background-color: #d4ebff;}#sk-container-id-2 div.sk-parallel-item::after {content: \"\";width: 100%;border-bottom: 1px solid gray;flex-grow: 1;}#sk-container-id-2 div.sk-label:hover label.sk-toggleable__label {background-color: #d4ebff;}#sk-container-id-2 div.sk-serial::before {content: \"\";position: absolute;border-left: 1px solid gray;box-sizing: border-box;top: 0;bottom: 0;left: 50%;z-index: 0;}#sk-container-id-2 div.sk-serial {display: flex;flex-direction: column;align-items: center;background-color: white;padding-right: 0.2em;padding-left: 0.2em;position: relative;}#sk-container-id-2 div.sk-item {position: relative;z-index: 1;}#sk-container-id-2 div.sk-parallel {display: flex;align-items: stretch;justify-content: center;background-color: white;position: relative;}#sk-container-id-2 div.sk-item::before, #sk-container-id-2 div.sk-parallel-item::before {content: \"\";position: absolute;border-left: 1px solid gray;box-sizing: border-box;top: 0;bottom: 0;left: 50%;z-index: -1;}#sk-container-id-2 div.sk-parallel-item {display: flex;flex-direction: column;z-index: 1;position: relative;background-color: white;}#sk-container-id-2 div.sk-parallel-item:first-child::after {align-self: flex-end;width: 50%;}#sk-container-id-2 div.sk-parallel-item:last-child::after {align-self: flex-start;width: 50%;}#sk-container-id-2 div.sk-parallel-item:only-child::after {width: 0;}#sk-container-id-2 div.sk-dashed-wrapped {border: 1px dashed gray;margin: 0 0.4em 0.5em 0.4em;box-sizing: border-box;padding-bottom: 0.4em;background-color: white;}#sk-container-id-2 div.sk-label label {font-family: monospace;font-weight: bold;display: inline-block;line-height: 1.2em;}#sk-container-id-2 div.sk-label-container {text-align: center;}#sk-container-id-2 div.sk-container {/* jupyter's `normalize.less` sets `[hidden] { display: none; }` but bootstrap.min.css set `[hidden] { display: none !important; }` so we also need the `!important` here to be able to override the default hidden behavior on the sphinx rendered scikit-learn.org. See: https://github.com/scikit-learn/scikit-learn/issues/21755 */display: inline-block !important;position: relative;}#sk-container-id-2 div.sk-text-repr-fallback {display: none;}</style><div id=\"sk-container-id-2\" class=\"sk-top-container\"><div class=\"sk-text-repr-fallback\"><pre>LinearRegression()</pre><b>In a Jupyter environment, please rerun this cell to show the HTML representation or trust the notebook. <br />On GitHub, the HTML representation is unable to render, please try loading this page with nbviewer.org.</b></div><div class=\"sk-container\" hidden><div class=\"sk-item\"><div class=\"sk-estimator sk-toggleable\"><input class=\"sk-toggleable__control sk-hidden--visually\" id=\"sk-estimator-id-2\" type=\"checkbox\" checked><label for=\"sk-estimator-id-2\" class=\"sk-toggleable__label sk-toggleable__label-arrow\">LinearRegression</label><div class=\"sk-toggleable__content\"><pre>LinearRegression()</pre></div></div></div></div></div>"
      ],
      "text/plain": [
       "LinearRegression()"
      ]
     },
     "execution_count": 19,
     "metadata": {},
     "output_type": "execute_result"
    }
   ],
   "source": [
    "from sklearn.linear_model import LinearRegression\n",
    "regressor = LinearRegression()\n",
    "regressor.fit(X_train, y_train)"
   ]
  },
  {
   "cell_type": "code",
   "execution_count": 20,
   "id": "ac955f90",
   "metadata": {},
   "outputs": [
    {
     "name": "stdout",
     "output_type": "stream",
     "text": [
      "[ 4.92351402 24.55272899 19.40136996 18.18798775  6.55054926 37.81168735\n",
      " 33.66412633 11.10624793 43.98890588 21.7619499  35.48419965 29.84748773\n",
      " 43.21675356 25.69441135 20.9456746  23.43310813 13.43373563 22.17008756\n",
      " 38.49007831 26.44450217 10.70914103 22.01014172 45.74279471 16.00941514\n",
      " 13.48888937]\n"
     ]
    }
   ],
   "source": [
    "y_pred = regressor.predict(X_test)\n",
    "print(y_pred)"
   ]
  },
  {
   "cell_type": "code",
   "execution_count": 21,
   "id": "95d2c10c",
   "metadata": {},
   "outputs": [
    {
     "data": {
      "image/png": "[encoded data removed]",
      "text/plain": [
       "<Figure size 640x480 with 1 Axes>"
      ]
     },
     "metadata": {},
     "output_type": "display_data"
    }
   ],
   "source": [
    "plt.scatter(X_train, y_train, color = 'purple')\n",
    "plt.plot(X_train, regressor.predict(X_train), color = 'green')\n",
    "plt.title('Marks vs Time Study (Training set)')\n",
    "plt.xlabel('Time Study')\n",
    "plt.ylabel('Marks')\n",
    "plt.show()"
   ]
  },
  {
   "cell_type": "code",
   "execution_count": 22,
   "id": "0dcff0a2",
   "metadata": {},
   "outputs": [
    {
     "data": {
      "image/png": "[encoded data removed]",
      "text/plain": [
       "<Figure size 640x480 with 1 Axes>"
      ]
     },
     "metadata": {},
     "output_type": "display_data"
    }
   ],
   "source": [
    "plt.scatter(X_test, y_test, color = 'orange')\n",
    "plt.plot(X_train, regressor.predict(X_train), color = 'brown')\n",
    "plt.title('Marks vs Time Study (Test set)')\n",
    "plt.xlabel('Time Study')\n",
    "plt.ylabel('Marks')\n",
    "plt.show()"
   ]
  },
  {
   "cell_type": "code",
   "execution_count": 23,
   "id": "2447e807",
   "metadata": {},
   "outputs": [
    {
     "data": {
      "text/plain": [
       "array([46.24469372])"
      ]
     },
     "execution_count": 23,
     "metadata": {},
     "output_type": "execute_result"
    }
   ],
   "source": [
    "Time = [[8]]\n",
    "\n",
    "regressor.predict(Time)\n"
   ]
  },
  {
   "cell_type": "code",
   "execution_count": 24,
   "id": "d40f9530",
   "metadata": {},
   "outputs": [],
   "source": [
    "a = regressor.coef_\n",
    "b = regressor.intercept_"
   ]
  },
  {
   "cell_type": "code",
   "execution_count": 25,
   "id": "e878d849",
   "metadata": {},
   "outputs": [
    {
     "data": {
      "text/plain": [
       "array([46.24469372])"
      ]
     },
     "execution_count": 25,
     "metadata": {},
     "output_type": "execute_result"
    }
   ],
   "source": [
    "# Можно использовать и так\n",
    "Time = 8\n",
    "\n",
    "\n",
    "Mark  = a * Time + b \n",
    "Mark"
   ]
  },
  {
   "cell_type": "markdown",
   "id": "5004c1ea",
   "metadata": {},
   "source": [
    "## Контрольные вопросы "
   ]
  },
  {
   "cell_type": "markdown",
   "id": "f77721d1",
   "metadata": {},
   "source": [
    "1. **Почему при реализации линейной модели регрессии нет необходимости выполнять масштабирование признаков?**\n",
    "   В линейной регрессии коэффициенты (веса) перед признаками вычисляются на основе отношения ковариации и дисперсии признаков. Поскольку изменение масштаба признаков просто изменит масштаб коэффициентов, но не изменит их отношения, масштабирование признаков обычно не требуется для линейных моделей.\n",
    "\n",
    "\n",
    "2. **Почему при реализации модели линейной регрессии в качестве функции потерь используется квадратичное отклонение, а не модуль отклонения?**\n",
    "   Квадратичное отклонение (Mean Squared Error, MSE) используется в линейной регрессии как функция потерь, так как она измеряет среднеквадратичное отклонение предсказанных значений от фактических. Это обеспечивает гладкую дифференцируемую функцию, что упрощает вычисления и обучение модели. Оптимизация MSE позволяет находить коэффициенты модели, минимизирующие сумму квадратов отклонений между предсказаниями и реальными значениями.\n",
    "\n",
    "\n",
    "3. **Что именно реализовано в методе fit(X, y) класса LinearRegression?**\n",
    "   Метод fit(X, y) в классе LinearRegression используется для обучения модели. Он принимает матрицу признаков X и вектор целевой переменной y и вычисляет коэффициенты (веса) модели, минимизируя сумму квадратов отклонений между предсказаниями и фактическими значениями.\n",
    "\n",
    "\n",
    "4. **Поясните назначение метода predict класса LinearRegression.**\n",
    "   Метод predict принимает матрицу признаков X и возвращает предсказанные значения целевой переменной на основе обученной модели. Он использует рассчитанные коэффициенты, чтобы выполнить предсказания для новых данных.\n",
    "\n",
    "\n",
    "5. **По какой подвыборке необходимо оценивать точность модели машинного обучения: тестовой или тренировочной?**\n",
    "   Точность модели машинного обучения оценивается на тестовой подвыборке, которая не участвовала в обучении модели. Это позволяет оценить, насколько хорошо модель обобщает данные, которые она ранее не видела, и избежать переобучения, когда модель слишком адаптирована к тренировочным данным и не способна хорошо работать на новых данных. Тестовая подвыборка помогает оценить обобщающую способность модели."
   ]
  }
 ],
 "metadata": {
  "kernelspec": {
   "display_name": "Python 3 (ipykernel)",
   "language": "python",
   "name": "python3"
  },
  "language_info": {
   "codemirror_mode": {
    "name": "ipython",
    "version": 3
   },
   "file_extension": ".py",
   "mimetype": "text/x-python",
   "name": "python",
   "nbconvert_exporter": "python",
   "pygments_lexer": "ipython3",
   "version": "3.9.18"
  }
 },
 "nbformat": 4,
 "nbformat_minor": 5
}
