{
 "cells": [
  {
   "cell_type": "markdown",
   "id": "9a0d7b6b-817e-4aa5-be89-7bd535925071",
   "metadata": {},
   "source": [
    "# Лабораторная работа №5\n",
    "## Построение модели линейной одномерной регрессии\n",
    "## Вариант №13\n",
    "\n",
    "\n",
    "\n",
    "### Цель работы\n",
    "\n",
    "Bзучение принципов построения модели линейной одномерной регрессии.\n",
    "\n",
    "### Задачи \n",
    "\n",
    " - реализовать конвейер для выполнения всех стадий обработки данных при решении задачи одномерной регрессии;\n",
    " - получение теоретических представлений о задаче регресии;\n",
    " - получение навыков использования пайплайна при решении задачи машинного обучения;\n",
    " - получение навыков рефакторинга кода в задачах машинного обучения."
   ]
  },
  {
   "cell_type": "markdown",
   "id": "a64797b4-b6bc-48a6-98db-4fe5519dd933",
   "metadata": {
    "tags": []
   },
   "source": [
    "### Индивидуальное задание\n",
    "\n",
    "1. Подберите набор данных на ресурсах [2, 3] и согласуйте свой выбор с преподавателем и другими студентами группы, так\n",
    "как работа над одинаковыми наборами данных недопустима.\n",
    "\n",
    "https://www.kaggle.com/datasets/whenamancodes/students-performance-in-exams"
   ]
  },
  {
   "cell_type": "markdown",
   "id": "7ad2d9a5-3f2b-4867-bdac-ac8da8c6c218",
   "metadata": {
    "tags": []
   },
   "source": [
    "2. Выполните построение модели классификации на основе линейной регрессии. В ходе решения задачи необходимо решить следующие подзадачи:\n",
    " "
   ]
  },
  {
   "cell_type": "markdown",
   "id": "1b569676-f3d3-46dc-8eba-9849ebf96196",
   "metadata": {},
   "source": [
    "#### Подключение библиотек"
   ]
  },
  {
   "cell_type": "code",
   "execution_count": 11,
   "id": "c2b3e975-37a6-485a-aea9-96cbc765c42d",
   "metadata": {
    "tags": []
   },
   "outputs": [],
   "source": [
    "import numpy as np\n",
    "import matplotlib.pyplot as plt\n",
    "import pandas as pd"
   ]
  },
  {
   "cell_type": "markdown",
   "id": "7325dc2e-e8bd-405e-9670-6821e2d8381c",
   "metadata": {},
   "source": [
    "#### Загрузка данных и разделение на матрицу признаков и зависимую переменную"
   ]
  },
  {
   "cell_type": "code",
   "execution_count": 36,
   "id": "4507034b-34bd-444a-a439-c10401bc7169",
   "metadata": {
    "tags": []
   },
   "outputs": [
    {
     "data": {
      "text/html": [
       "<div>\n",
       "<style scoped>\n",
       "    .dataframe tbody tr th:only-of-type {\n",
       "        vertical-align: middle;\n",
       "    }\n",
       "\n",
       "    .dataframe tbody tr th {\n",
       "        vertical-align: top;\n",
       "    }\n",
       "\n",
       "    .dataframe thead th {\n",
       "        text-align: right;\n",
       "    }\n",
       "</style>\n",
       "<table border=\"1\" class=\"dataframe\">\n",
       "  <thead>\n",
       "    <tr style=\"text-align: right;\">\n",
       "      <th></th>\n",
       "      <th>reading score</th>\n",
       "      <th>writing score</th>\n",
       "    </tr>\n",
       "  </thead>\n",
       "  <tbody>\n",
       "    <tr>\n",
       "      <th>316</th>\n",
       "      <td>67</td>\n",
       "      <td>64</td>\n",
       "    </tr>\n",
       "    <tr>\n",
       "      <th>210</th>\n",
       "      <td>69</td>\n",
       "      <td>68</td>\n",
       "    </tr>\n",
       "    <tr>\n",
       "      <th>903</th>\n",
       "      <td>61</td>\n",
       "      <td>58</td>\n",
       "    </tr>\n",
       "    <tr>\n",
       "      <th>42</th>\n",
       "      <td>79</td>\n",
       "      <td>82</td>\n",
       "    </tr>\n",
       "    <tr>\n",
       "      <th>729</th>\n",
       "      <td>36</td>\n",
       "      <td>37</td>\n",
       "    </tr>\n",
       "    <tr>\n",
       "      <th>43</th>\n",
       "      <td>70</td>\n",
       "      <td>70</td>\n",
       "    </tr>\n",
       "    <tr>\n",
       "      <th>155</th>\n",
       "      <td>44</td>\n",
       "      <td>47</td>\n",
       "    </tr>\n",
       "    <tr>\n",
       "      <th>100</th>\n",
       "      <td>61</td>\n",
       "      <td>62</td>\n",
       "    </tr>\n",
       "    <tr>\n",
       "      <th>224</th>\n",
       "      <td>94</td>\n",
       "      <td>97</td>\n",
       "    </tr>\n",
       "    <tr>\n",
       "      <th>652</th>\n",
       "      <td>100</td>\n",
       "      <td>97</td>\n",
       "    </tr>\n",
       "  </tbody>\n",
       "</table>\n",
       "</div>"
      ],
      "text/plain": [
       "     reading score  writing score\n",
       "316             67             64\n",
       "210             69             68\n",
       "903             61             58\n",
       "42              79             82\n",
       "729             36             37\n",
       "43              70             70\n",
       "155             44             47\n",
       "100             61             62\n",
       "224             94             97\n",
       "652            100             97"
      ]
     },
     "execution_count": 36,
     "metadata": {},
     "output_type": "execute_result"
    }
   ],
   "source": [
    "dataset = pd.read_csv('exams.csv')\n",
    "dataset = dataset[['reading score', 'writing score']]\n",
    "dataset = dataset.sample(200)\n",
    "dataset.sample(10)"
   ]
  },
  {
   "cell_type": "code",
   "execution_count": 37,
   "id": "9ea06f6a-0889-4497-ae95-778439015b37",
   "metadata": {
    "tags": []
   },
   "outputs": [
    {
     "name": "stdout",
     "output_type": "stream",
     "text": [
      "Матрица признаков\n",
      "[[48]\n",
      " [78]\n",
      " [76]\n",
      " [72]\n",
      " [82]]\n",
      "Зависимая переменная\n",
      "[42 75 74 76 80]\n"
     ]
    }
   ],
   "source": [
    "X = dataset.iloc[:, :-1].values\n",
    "y = dataset.iloc[:, 1].values\n",
    "print (\"Матрица признаков\"); print(X[:5])\n",
    "print (\"Зависимая переменная\"); print(y[:5])"
   ]
  },
  {
   "cell_type": "markdown",
   "id": "757990cf-a042-40e1-9ef4-97e5f0150842",
   "metadata": {},
   "source": [
    "#### Разделение выборки на тестовую и тренировочную"
   ]
  },
  {
   "cell_type": "code",
   "execution_count": 48,
   "id": "a20da6d2-d744-4fbc-bad0-e0ce79f72e00",
   "metadata": {
    "tags": []
   },
   "outputs": [],
   "source": [
    "from sklearn.model_selection import train_test_split\n",
    "X_train, X_test, y_train, y_test = train_test_split(X, y, test_size = 1/5, random_state = 0) "
   ]
  },
  {
   "cell_type": "markdown",
   "id": "75fecd29-bcc1-42f4-a870-83099df5e2a8",
   "metadata": {},
   "source": [
    "#### Обучение линейной модели регрессии"
   ]
  },
  {
   "cell_type": "code",
   "execution_count": 49,
   "id": "8da9379a-6148-4a08-88e9-3e633a7c5f6f",
   "metadata": {
    "tags": []
   },
   "outputs": [
    {
     "data": {
      "text/html": [
       "<style>#sk-container-id-5 {color: black;}#sk-container-id-5 pre{padding: 0;}#sk-container-id-5 div.sk-toggleable {background-color: white;}#sk-container-id-5 label.sk-toggleable__label {cursor: pointer;display: block;width: 100%;margin-bottom: 0;padding: 0.3em;box-sizing: border-box;text-align: center;}#sk-container-id-5 label.sk-toggleable__label-arrow:before {content: \"▸\";float: left;margin-right: 0.25em;color: #696969;}#sk-container-id-5 label.sk-toggleable__label-arrow:hover:before {color: black;}#sk-container-id-5 div.sk-estimator:hover label.sk-toggleable__label-arrow:before {color: black;}#sk-container-id-5 div.sk-toggleable__content {max-height: 0;max-width: 0;overflow: hidden;text-align: left;background-color: #f0f8ff;}#sk-container-id-5 div.sk-toggleable__content pre {margin: 0.2em;color: black;border-radius: 0.25em;background-color: #f0f8ff;}#sk-container-id-5 input.sk-toggleable__control:checked~div.sk-toggleable__content {max-height: 200px;max-width: 100%;overflow: auto;}#sk-container-id-5 input.sk-toggleable__control:checked~label.sk-toggleable__label-arrow:before {content: \"▾\";}#sk-container-id-5 div.sk-estimator input.sk-toggleable__control:checked~label.sk-toggleable__label {background-color: #d4ebff;}#sk-container-id-5 div.sk-label input.sk-toggleable__control:checked~label.sk-toggleable__label {background-color: #d4ebff;}#sk-container-id-5 input.sk-hidden--visually {border: 0;clip: rect(1px 1px 1px 1px);clip: rect(1px, 1px, 1px, 1px);height: 1px;margin: -1px;overflow: hidden;padding: 0;position: absolute;width: 1px;}#sk-container-id-5 div.sk-estimator {font-family: monospace;background-color: #f0f8ff;border: 1px dotted black;border-radius: 0.25em;box-sizing: border-box;margin-bottom: 0.5em;}#sk-container-id-5 div.sk-estimator:hover {background-color: #d4ebff;}#sk-container-id-5 div.sk-parallel-item::after {content: \"\";width: 100%;border-bottom: 1px solid gray;flex-grow: 1;}#sk-container-id-5 div.sk-label:hover label.sk-toggleable__label {background-color: #d4ebff;}#sk-container-id-5 div.sk-serial::before {content: \"\";position: absolute;border-left: 1px solid gray;box-sizing: border-box;top: 0;bottom: 0;left: 50%;z-index: 0;}#sk-container-id-5 div.sk-serial {display: flex;flex-direction: column;align-items: center;background-color: white;padding-right: 0.2em;padding-left: 0.2em;position: relative;}#sk-container-id-5 div.sk-item {position: relative;z-index: 1;}#sk-container-id-5 div.sk-parallel {display: flex;align-items: stretch;justify-content: center;background-color: white;position: relative;}#sk-container-id-5 div.sk-item::before, #sk-container-id-5 div.sk-parallel-item::before {content: \"\";position: absolute;border-left: 1px solid gray;box-sizing: border-box;top: 0;bottom: 0;left: 50%;z-index: -1;}#sk-container-id-5 div.sk-parallel-item {display: flex;flex-direction: column;z-index: 1;position: relative;background-color: white;}#sk-container-id-5 div.sk-parallel-item:first-child::after {align-self: flex-end;width: 50%;}#sk-container-id-5 div.sk-parallel-item:last-child::after {align-self: flex-start;width: 50%;}#sk-container-id-5 div.sk-parallel-item:only-child::after {width: 0;}#sk-container-id-5 div.sk-dashed-wrapped {border: 1px dashed gray;margin: 0 0.4em 0.5em 0.4em;box-sizing: border-box;padding-bottom: 0.4em;background-color: white;}#sk-container-id-5 div.sk-label label {font-family: monospace;font-weight: bold;display: inline-block;line-height: 1.2em;}#sk-container-id-5 div.sk-label-container {text-align: center;}#sk-container-id-5 div.sk-container {/* jupyter's `normalize.less` sets `[hidden] { display: none; }` but bootstrap.min.css set `[hidden] { display: none !important; }` so we also need the `!important` here to be able to override the default hidden behavior on the sphinx rendered scikit-learn.org. See: https://github.com/scikit-learn/scikit-learn/issues/21755 */display: inline-block !important;position: relative;}#sk-container-id-5 div.sk-text-repr-fallback {display: none;}</style><div id=\"sk-container-id-5\" class=\"sk-top-container\"><div class=\"sk-text-repr-fallback\"><pre>LinearRegression()</pre><b>In a Jupyter environment, please rerun this cell to show the HTML representation or trust the notebook. <br />On GitHub, the HTML representation is unable to render, please try loading this page with nbviewer.org.</b></div><div class=\"sk-container\" hidden><div class=\"sk-item\"><div class=\"sk-estimator sk-toggleable\"><input class=\"sk-toggleable__control sk-hidden--visually\" id=\"sk-estimator-id-5\" type=\"checkbox\" checked><label for=\"sk-estimator-id-5\" class=\"sk-toggleable__label sk-toggleable__label-arrow\">LinearRegression</label><div class=\"sk-toggleable__content\"><pre>LinearRegression()</pre></div></div></div></div></div>"
      ],
      "text/plain": [
       "LinearRegression()"
      ]
     },
     "execution_count": 49,
     "metadata": {},
     "output_type": "execute_result"
    }
   ],
   "source": [
    "from sklearn.linear_model import LinearRegression\n",
    "regressor = LinearRegression()\n",
    "regressor.fit(X_train, y_train)"
   ]
  },
  {
   "cell_type": "markdown",
   "id": "4a168fd0-7cdf-447f-ba55-dabf44408bb9",
   "metadata": {},
   "source": [
    "#### Предсказание, обработка и визуализация результатов"
   ]
  },
  {
   "cell_type": "code",
   "execution_count": 50,
   "id": "181dab75-a129-46b3-a724-c2efb814142c",
   "metadata": {
    "tags": []
   },
   "outputs": [
    {
     "name": "stdout",
     "output_type": "stream",
     "text": [
      "[57.67563027 89.83151091 50.41462497 81.53321913 72.19764088 60.78748969\n",
      " 64.93663558 83.60779207 81.53321913 56.6383438  69.08578147 75.3095003\n",
      " 69.08578147 44.19090614 56.6383438  49.3773385  68.04849499 77.38407324\n",
      " 69.08578147 93.9806568  61.82477616 51.45191144 61.82477616 46.26547908\n",
      " 59.75020322 78.42135971 58.71291674 75.3095003  77.38407324 76.34678677\n",
      " 83.60779207 79.45864619 77.38407324 78.42135971 68.04849499 46.26547908\n",
      " 79.45864619 81.53321913 84.64507855 96.05522974]\n"
     ]
    }
   ],
   "source": [
    "y_pred = regressor.predict(X_test)\n",
    "print(y_pred)"
   ]
  },
  {
   "cell_type": "code",
   "execution_count": 51,
   "id": "fab5f604-08e3-4f5f-a4ce-008db703df23",
   "metadata": {
    "tags": []
   },
   "outputs": [
    {
     "data": {
      "image/png": "[encoded data removed]",
      "text/plain": [
       "<Figure size 640x480 with 1 Axes>"
      ]
     },
     "metadata": {},
     "output_type": "display_data"
    }
   ],
   "source": [
    "plt.scatter(X_train, y_train, color = 'red')\n",
    "plt.plot(X_train, regressor.predict(X_train), color = 'blue')\n",
    "plt.title('Reading vs Writing Score (Training set)')\n",
    "plt.xlabel('Reading Score')\n",
    "plt.ylabel('Writing Score')\n",
    "plt.show()"
   ]
  },
  {
   "cell_type": "code",
   "execution_count": 52,
   "id": "4e1d1c6f-ebca-4ff4-ab21-93a46aa72621",
   "metadata": {
    "tags": []
   },
   "outputs": [
    {
     "data": {
      "image/png": "[encoded data removed]",
      "text/plain": [
       "<Figure size 640x480 with 1 Axes>"
      ]
     },
     "metadata": {},
     "output_type": "display_data"
    }
   ],
   "source": [
    "plt.scatter(X_test, y_test, color = 'red')\n",
    "plt.plot(X_train, regressor.predict(X_train), color = 'blue')\n",
    "plt.title('Reading vs Writing Score (Test set)')\n",
    "plt.xlabel('Reading Score')\n",
    "plt.ylabel('Writing Score')\n",
    "plt.show()"
   ]
  },
  {
   "cell_type": "markdown",
   "id": "3e45dcfc-16d4-4ba0-a3db-29d0a0f3a6ec",
   "metadata": {},
   "source": [
    "#### Использование модели\n",
    "Оптимальные параметры определены, можно использовать модель"
   ]
  },
  {
   "cell_type": "code",
   "execution_count": 59,
   "id": "33441d59-df9d-429f-a29e-8818210a2e56",
   "metadata": {
    "tags": []
   },
   "outputs": [
    {
     "data": {
      "text/plain": [
       "array([63.8993491 , 74.27221383, 95.01794327])"
      ]
     },
     "execution_count": 59,
     "metadata": {},
     "output_type": "execute_result"
    }
   ],
   "source": [
    "ReadingScores = [[65], [75], [95]]\n",
    "regressor.predict(ReadingScores)"
   ]
  },
  {
   "cell_type": "code",
   "execution_count": 60,
   "id": "496c67aa-29a3-4067-85e1-608879fe81b8",
   "metadata": {
    "tags": []
   },
   "outputs": [
    {
     "data": {
      "text/plain": [
       "array([63.8993491])"
      ]
     },
     "execution_count": 60,
     "metadata": {},
     "output_type": "execute_result"
    }
   ],
   "source": [
    "a = regressor.coef_\n",
    "b = regressor.intercept_\n",
    "\n",
    "reading_score = 65\n",
    "predicted_writing_score = a * reading_score + b\n",
    "predicted_writing_score"
   ]
  },
  {
   "cell_type": "markdown",
   "id": "c1cc15cb-b3bd-430a-8c94-bc4028ee4785",
   "metadata": {},
   "source": [
    "### Контрольные вопросы\n",
    "\n",
    "1. Почему при реализации линейной модели регрессии нет необходимости выполнять масштабирование признаков?\n",
    "\n",
    "\n",
    "Линейная регрессия не требует масштабирования признаков, потому что веса (коэффициенты) при признаках в линейной модели регрессии можно адаптировать к различным масштабам признаков. В этом суть линейности.\n",
    "\n",
    "Если в линейной регрессии у нас есть признаки $X_1, X_2, \\ldots, X_n$ и соответствующие им веса $w_1, w_2, \\ldots, w_n$, то предсказание делается по формуле:\n",
    "\n",
    "$ \\text{Предсказание} = w_1 \\cdot X_1 + w_2 \\cdot X_2 + \\ldots + w_n \\cdot X_n + b $\n",
    "\n",
    "Если признаки имеют разные масштабы, то соответствующие им веса будут адаптироваться так, чтобы учесть этот масштаб. Таким образом, изменение масштаба признаков не влияет на результат линейной регрессии в том смысле, что предсказание будет адекватным и для признаков разных порядков величин.\n",
    "\n",
    "Это отличается от некоторых других методов машинного обучения, таких как метод опорных векторов (SVM) или метод ближайших соседей (KNN), которые могут быть чувствительны к различиям в масштабе признаков."
   ]
  },
  {
   "cell_type": "markdown",
   "id": "56469991-e62f-4394-8d57-31ecd6408236",
   "metadata": {},
   "source": [
    "2. Почему при реализации модели линейной регрессии в качестве функции потерь используется квадратичное отклонение, а не модуль отклонения?\n",
    "\n",
    "\n",
    "Использование квадратичного отклонения (Mean Squared Error, MSE) в качестве функции потерь при обучении модели линейной регрессии имеет несколько причин:\n",
    "\n",
    "1. **Дифференцируемость:** Функция потерь должна быть дифференцируемой для эффективного применения методов оптимизации, таких как градиентный спуск. Квадратичная функция потерь дифференцируема по весам, что облегчает обучение модели.\n",
    "\n",
    "2. **Удобство математического анализа:** Квадратичная функция потерь обеспечивает математически удобные свойства, такие как легкость в анализе и вычислении градиента. Это упрощает процесс обучения и оптимизации модели.\n",
    "\n",
    "3. **Связь с методом максимального правдоподобия:** Использование квадратичного отклонения в модели линейной регрессии тесно связано с предположением о нормальном распределении ошибок. При использовании метода максимального правдоподобия для оценки параметров модели, минимизация среднеквадратичной ошибки эквивалентна максимизации правдоподобия.\n",
    "\n",
    "В то время как квадратичное отклонение широко используется, иногда модуль отклонения (Mean Absolute Error, MAE) также может применяться в задачах регрессии, особенно если есть аутлаеры (выбросы), которые могут сильно влиять на MSE. MAE более устойчив к выбросам, так как он не увеличивает штраф за большие ошибки так сильно, как это делает MSE."
   ]
  },
  {
   "cell_type": "markdown",
   "id": "3994713f-75dd-4872-abc7-b582b9f6b862",
   "metadata": {},
   "source": [
    "3. Что именно реализовано в методе fit(X, y) класса LinearRegression?\n",
    "\n",
    "Метод `fit(X, y)` в классе `LinearRegression` реализует процесс обучения модели линейной регрессии на основе переданных обучающих данных. Вот, что происходит внутри этого метода:\n",
    "\n",
    "1. **Подготовка данных:** Метод получает обучающие данные `X` (матрица признаков) и `y` (вектор целевых переменных).\n",
    "\n",
    "2. **Добавление единичного признака (intercept):** Если необходимо, модель может автоматически добавить единичный признак (intercept), чтобы учесть смещение (bias) в линейной модели.\n",
    "\n",
    "3. **Вычисление параметров модели:** Происходит вычисление параметров модели (весов) с использованием метода наименьших квадратов (Ordinary Least Squares, OLS) или других методов оптимизации. Это включает в себя вычисление коэффициентов (весов) для каждого признака.\n",
    "\n",
    "4. **Сохранение параметров:** Полученные параметры модели (веса) сохраняются для дальнейшего использования в предсказаниях.\n",
    "\n",
    "5. **Обучение завершено:** Модель теперь обучена на предоставленных данных, и ее параметры настроены таким образом, чтобы минимизировать среднеквадратичную ошибку (Mean Squared Error, MSE) или другую функцию потерь.\n",
    "\n",
    "После выполнения метода `fit`, модель готова к использованию для предсказаний на новых данных."
   ]
  },
  {
   "cell_type": "markdown",
   "id": "f28732d1-59a7-4d8a-88b6-b3cfb23b67fc",
   "metadata": {},
   "source": [
    "4. Поясните назначение метода predict класса LinearRegression.\n",
    "\n",
    "Метод `predict` в классе `LinearRegression` предназначен для получения предсказаний целевых переменных на новых данных на основе обученных весов (параметров) модели линейной регрессии. Вот как он работает:\n",
    "\n",
    "1. **Подготовка данных:** Метод получает новые данные `X`, на которых нужно сделать предсказания.\n",
    "\n",
    "2. **Применение обученных весов:** Используя обученные веса (коэффициенты), полученные в результате обучения модели, метод вычисляет предсказания целевых переменных для каждого наблюдения в новых данных.\n",
    "\n",
    "3. **Возврат предсказаний:** Результатом работы метода является вектор предсказанных значений целевой переменной для каждого наблюдения в новых данных.\n",
    "\n",
    "Пример использования метода `predict`:\n",
    "\n",
    "```python\n",
    "from sklearn.linear_model import LinearRegression\n",
    "\n",
    "# Создание объекта модели\n",
    "model = LinearRegression()\n",
    "\n",
    "# Обучение модели на обучающих данных\n",
    "model.fit(X_train, y_train)\n",
    "\n",
    "# Получение предсказаний на новых данных\n",
    "predictions = model.predict(X_new)\n",
    "```\n",
    "\n",
    "Теперь переменная `predictions` содержит предсказанные значения целевой переменной на основе обученной модели."
   ]
  },
  {
   "cell_type": "markdown",
   "id": "91976e75-4fa9-4c74-85f7-f598bf767482",
   "metadata": {},
   "source": [
    "5. По какой подвыборке необходимо оценивать точность модели машинного обучения: тестовой или тренировочной?\n",
    "\n",
    "Оценка точности модели машинного обучения должна производиться на тестовой подвыборке. Важно разделять данные на обучающую и тестовую выборки, чтобы оценить производительность модели на данных, которые она ранее не видела.\n",
    "\n",
    "**Обучающая выборка:** На этой подвыборке модель \"учится\" на основе предоставленных данных. Она настраивает свои параметры (веса) таким образом, чтобы минимизировать функцию потерь.\n",
    "\n",
    "**Тестовая выборка:** После обучения модели ее эффективность оценивается на тестовой выборке. Это позволяет проверить, насколько хорошо модель обобщает знания на новых данных, которые не использовались в процессе обучения. Тестовая выборка предоставляет объективную оценку производительности модели в реальных условиях.\n",
    "\n",
    "Использование тестовой выборки помогает выявить, насколько модель способна делать точные предсказания на новых, ранее не встреченных данных, и предотвратить переобучение (overfitting) — явление, при котором модель хорошо справляется с обучающими данными, но плохо обобщает на новые данные."
   ]
  }
 ],
 "metadata": {
  "kernelspec": {
   "display_name": "Python 3 (ipykernel)",
   "language": "python",
   "name": "python3"
  },
  "language_info": {
   "codemirror_mode": {
    "name": "ipython",
    "version": 3
   },
   "file_extension": ".py",
   "mimetype": "text/x-python",
   "name": "python",
   "nbconvert_exporter": "python",
   "pygments_lexer": "ipython3",
   "version": "3.11.3"
  }
 },
 "nbformat": 4,
 "nbformat_minor": 5
}
