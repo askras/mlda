{
 "cells": [
  {
   "cell_type": "markdown",
   "id": "04f9b7f9-e86b-44ed-b013-12c418cba995",
   "metadata": {},
   "source": [
    "# Лабораторная работа №6\n",
    "\n",
    "Барышев Михаил ИУ10-56, Вариант - 5"
   ]
  },
  {
   "cell_type": "markdown",
   "id": "8ebd5a5e-4eef-4f0a-a86a-aa62d07f18f7",
   "metadata": {},
   "source": [
    "## Цель работы\n",
    "\n",
    "изучение принципов построения модели линейной одномерной регрессии.\n",
    "\n",
    "## Задачи\n",
    " - реализовать каонвейер для выполнения всех стадий обработки данных при решении задачи одномерной регрессии;\n",
    " - получение теоретических представлений о задаче регресии;\n",
    " - получение навыков использования пайплайна при решении задачи машинного обучения;\n",
    " - получение навыков рефакторинга кода в задачах машинного обучения.\n",
    " \n",
    "## База данных\n",
    " - Additional Information\n",
    "\n",
    "    The energy dispersive X-ray fluorescence (EDXRF) was used to determine the chemical composition of celadon body and glaze in Longquan kiln (at Dayao County) and Jingdezhen kiln. Forty typical shards in four cultural eras were selected to investigate the raw materials and firing technology. We hope to identify chemical elements that are strongest explanatory variables to classify samples into different cultural eras and kilns.\n",
    " - Ceramic.Name: name of ceramic types from Longquan and Jindgezhen\n",
    " - Part: a binary categorical variable ('Body' or 'Glaze')\n",
    " - Na2O: percentage of Na2O (wt%)\n",
    " - MgO: percentage of MgO (wt%)\n",
    " - Al2O3: percentage of AI2O3 (wt%)\n",
    " - SiO2: percentage of SiO2 (wt%)\n",
    " - K2O: percentage of K2O (wt%)\n",
    " - CaO: percentage of CaO (wt%)\n",
    " - TiO2: percentage of TiO2 (wt%)\n",
    " - Fe2O3: percentage of Fe2O3 (wt%)\n",
    " - MnO: percentage of MnO (ppm)\n",
    " - CuO: percentage of CuO (ppm)\n",
    " - ZnO: percentage of ZnO (ppm)\n",
    " - PbO2: percentage of PbO2 (ppm)\n",
    " - Rb2O: percentage of Rb2O (ppm)\n",
    " - SrO: percentage of SrO (ppm)\n",
    " - Y2O3: percentage of Y2O3 (ppm)\n",
    " - ZrO2: percentage of ZrO2 (ppm)\n",
    " - P2O5: percentage of P2O5 (ppm)"
   ]
  },
  {
   "cell_type": "code",
   "execution_count": 5,
   "id": "3f2fcd8a-8e1c-40c8-976f-32ada3f7dcdf",
   "metadata": {
    "tags": []
   },
   "outputs": [
    {
     "data": {
      "text/html": [
       "<div>\n",
       "<style scoped>\n",
       "    .dataframe tbody tr th:only-of-type {\n",
       "        vertical-align: middle;\n",
       "    }\n",
       "\n",
       "    .dataframe tbody tr th {\n",
       "        vertical-align: top;\n",
       "    }\n",
       "\n",
       "    .dataframe thead th {\n",
       "        text-align: right;\n",
       "    }\n",
       "</style>\n",
       "<table border=\"1\" class=\"dataframe\">\n",
       "  <thead>\n",
       "    <tr style=\"text-align: right;\">\n",
       "      <th></th>\n",
       "      <th>Ceramic Name</th>\n",
       "      <th>Part</th>\n",
       "      <th>Na2O</th>\n",
       "      <th>MgO</th>\n",
       "      <th>Al2O3</th>\n",
       "      <th>SiO2</th>\n",
       "      <th>K2O</th>\n",
       "      <th>CaO</th>\n",
       "      <th>TiO2</th>\n",
       "      <th>Fe2O3</th>\n",
       "      <th>MnO</th>\n",
       "      <th>CuO</th>\n",
       "      <th>ZnO</th>\n",
       "      <th>PbO2</th>\n",
       "      <th>Rb2O</th>\n",
       "      <th>SrO</th>\n",
       "      <th>Y2O3</th>\n",
       "      <th>ZrO2</th>\n",
       "      <th>P2O5</th>\n",
       "    </tr>\n",
       "  </thead>\n",
       "  <tbody>\n",
       "    <tr>\n",
       "      <th>0</th>\n",
       "      <td>FLQ-1-b</td>\n",
       "      <td>Body</td>\n",
       "      <td>0.62</td>\n",
       "      <td>0.38</td>\n",
       "      <td>19.61</td>\n",
       "      <td>71.99</td>\n",
       "      <td>4.84</td>\n",
       "      <td>0.31</td>\n",
       "      <td>0.07</td>\n",
       "      <td>1.18</td>\n",
       "      <td>630</td>\n",
       "      <td>10</td>\n",
       "      <td>70</td>\n",
       "      <td>10</td>\n",
       "      <td>430</td>\n",
       "      <td>0</td>\n",
       "      <td>40</td>\n",
       "      <td>80</td>\n",
       "      <td>90</td>\n",
       "    </tr>\n",
       "    <tr>\n",
       "      <th>1</th>\n",
       "      <td>FLQ-2-b</td>\n",
       "      <td>Body</td>\n",
       "      <td>0.57</td>\n",
       "      <td>0.47</td>\n",
       "      <td>21.19</td>\n",
       "      <td>70.09</td>\n",
       "      <td>4.98</td>\n",
       "      <td>0.49</td>\n",
       "      <td>0.09</td>\n",
       "      <td>1.12</td>\n",
       "      <td>380</td>\n",
       "      <td>20</td>\n",
       "      <td>80</td>\n",
       "      <td>40</td>\n",
       "      <td>430</td>\n",
       "      <td>-10</td>\n",
       "      <td>40</td>\n",
       "      <td>100</td>\n",
       "      <td>110</td>\n",
       "    </tr>\n",
       "    <tr>\n",
       "      <th>2</th>\n",
       "      <td>FLQ-3-b</td>\n",
       "      <td>Body</td>\n",
       "      <td>0.49</td>\n",
       "      <td>0.19</td>\n",
       "      <td>18.60</td>\n",
       "      <td>74.70</td>\n",
       "      <td>3.47</td>\n",
       "      <td>0.43</td>\n",
       "      <td>0.06</td>\n",
       "      <td>1.07</td>\n",
       "      <td>420</td>\n",
       "      <td>20</td>\n",
       "      <td>50</td>\n",
       "      <td>50</td>\n",
       "      <td>380</td>\n",
       "      <td>40</td>\n",
       "      <td>40</td>\n",
       "      <td>80</td>\n",
       "      <td>200</td>\n",
       "    </tr>\n",
       "    <tr>\n",
       "      <th>3</th>\n",
       "      <td>FLQ-4-b</td>\n",
       "      <td>Body</td>\n",
       "      <td>0.89</td>\n",
       "      <td>0.30</td>\n",
       "      <td>18.01</td>\n",
       "      <td>74.19</td>\n",
       "      <td>4.01</td>\n",
       "      <td>0.27</td>\n",
       "      <td>0.09</td>\n",
       "      <td>1.23</td>\n",
       "      <td>460</td>\n",
       "      <td>20</td>\n",
       "      <td>70</td>\n",
       "      <td>60</td>\n",
       "      <td>380</td>\n",
       "      <td>10</td>\n",
       "      <td>40</td>\n",
       "      <td>70</td>\n",
       "      <td>210</td>\n",
       "    </tr>\n",
       "    <tr>\n",
       "      <th>4</th>\n",
       "      <td>FLQ-5-b</td>\n",
       "      <td>Body</td>\n",
       "      <td>0.03</td>\n",
       "      <td>0.36</td>\n",
       "      <td>18.41</td>\n",
       "      <td>73.99</td>\n",
       "      <td>4.33</td>\n",
       "      <td>0.65</td>\n",
       "      <td>0.05</td>\n",
       "      <td>1.19</td>\n",
       "      <td>380</td>\n",
       "      <td>40</td>\n",
       "      <td>90</td>\n",
       "      <td>40</td>\n",
       "      <td>360</td>\n",
       "      <td>10</td>\n",
       "      <td>30</td>\n",
       "      <td>80</td>\n",
       "      <td>150</td>\n",
       "    </tr>\n",
       "  </tbody>\n",
       "</table>\n",
       "</div>"
      ],
      "text/plain": [
       "  Ceramic Name  Part  Na2O   MgO  Al2O3   SiO2   K2O   CaO  TiO2  Fe2O3  MnO  \\\n",
       "0      FLQ-1-b  Body  0.62  0.38  19.61  71.99  4.84  0.31  0.07   1.18  630   \n",
       "1      FLQ-2-b  Body  0.57  0.47  21.19  70.09  4.98  0.49  0.09   1.12  380   \n",
       "2      FLQ-3-b  Body  0.49  0.19  18.60  74.70  3.47  0.43  0.06   1.07  420   \n",
       "3      FLQ-4-b  Body  0.89  0.30  18.01  74.19  4.01  0.27  0.09   1.23  460   \n",
       "4      FLQ-5-b  Body  0.03  0.36  18.41  73.99  4.33  0.65  0.05   1.19  380   \n",
       "\n",
       "   CuO  ZnO  PbO2  Rb2O  SrO  Y2O3  ZrO2  P2O5  \n",
       "0   10   70    10   430    0    40    80    90  \n",
       "1   20   80    40   430  -10    40   100   110  \n",
       "2   20   50    50   380   40    40    80   200  \n",
       "3   20   70    60   380   10    40    70   210  \n",
       "4   40   90    40   360   10    30    80   150  "
      ]
     },
     "execution_count": 5,
     "metadata": {},
     "output_type": "execute_result"
    }
   ],
   "source": [
    "import numpy as np\n",
    "import matplotlib.pyplot as plt\n",
    "import pandas as pd\n",
    "\n",
    "dataset = pd.read_csv('./Chemical Composion of Ceramic.csv')\n",
    "dataset.head()"
   ]
  },
  {
   "cell_type": "code",
   "execution_count": 19,
   "id": "ad3393d2-39ca-4e40-9ba7-290375e9ce7c",
   "metadata": {
    "tags": []
   },
   "outputs": [
    {
     "name": "stdout",
     "output_type": "stream",
     "text": [
      "Матрица признаков\n",
      "[[0.62]\n",
      " [0.57]\n",
      " [0.49]\n",
      " [0.89]\n",
      " [0.03]]\n",
      "Зависимая переменная\n",
      "[0.38 0.47 0.19 0.3  0.36]\n"
     ]
    }
   ],
   "source": [
    "X = dataset.iloc[:, 2:3].values\n",
    "y = dataset.iloc[:, 3].values\n",
    "print (\"Матрица признаков\"); print(X[:5])\n",
    "print (\"Зависимая переменная\"); print(y[:5])"
   ]
  },
  {
   "cell_type": "code",
   "execution_count": 20,
   "id": "cc526745-df45-4a8f-9b75-1bae3c12ef06",
   "metadata": {
    "tags": []
   },
   "outputs": [],
   "source": [
    "from sklearn.model_selection import train_test_split\n",
    "X_train, X_test, y_train, y_test = train_test_split(X, y, test_size = 1/4, random_state = 0) "
   ]
  },
  {
   "cell_type": "code",
   "execution_count": 21,
   "id": "fdd25372-4289-4dd0-a9ac-d9c35119cfb8",
   "metadata": {
    "tags": []
   },
   "outputs": [
    {
     "data": {
      "text/html": [
       "<style>#sk-container-id-1 {color: black;}#sk-container-id-1 pre{padding: 0;}#sk-container-id-1 div.sk-toggleable {background-color: white;}#sk-container-id-1 label.sk-toggleable__label {cursor: pointer;display: block;width: 100%;margin-bottom: 0;padding: 0.3em;box-sizing: border-box;text-align: center;}#sk-container-id-1 label.sk-toggleable__label-arrow:before {content: \"▸\";float: left;margin-right: 0.25em;color: #696969;}#sk-container-id-1 label.sk-toggleable__label-arrow:hover:before {color: black;}#sk-container-id-1 div.sk-estimator:hover label.sk-toggleable__label-arrow:before {color: black;}#sk-container-id-1 div.sk-toggleable__content {max-height: 0;max-width: 0;overflow: hidden;text-align: left;background-color: #f0f8ff;}#sk-container-id-1 div.sk-toggleable__content pre {margin: 0.2em;color: black;border-radius: 0.25em;background-color: #f0f8ff;}#sk-container-id-1 input.sk-toggleable__control:checked~div.sk-toggleable__content {max-height: 200px;max-width: 100%;overflow: auto;}#sk-container-id-1 input.sk-toggleable__control:checked~label.sk-toggleable__label-arrow:before {content: \"▾\";}#sk-container-id-1 div.sk-estimator input.sk-toggleable__control:checked~label.sk-toggleable__label {background-color: #d4ebff;}#sk-container-id-1 div.sk-label input.sk-toggleable__control:checked~label.sk-toggleable__label {background-color: #d4ebff;}#sk-container-id-1 input.sk-hidden--visually {border: 0;clip: rect(1px 1px 1px 1px);clip: rect(1px, 1px, 1px, 1px);height: 1px;margin: -1px;overflow: hidden;padding: 0;position: absolute;width: 1px;}#sk-container-id-1 div.sk-estimator {font-family: monospace;background-color: #f0f8ff;border: 1px dotted black;border-radius: 0.25em;box-sizing: border-box;margin-bottom: 0.5em;}#sk-container-id-1 div.sk-estimator:hover {background-color: #d4ebff;}#sk-container-id-1 div.sk-parallel-item::after {content: \"\";width: 100%;border-bottom: 1px solid gray;flex-grow: 1;}#sk-container-id-1 div.sk-label:hover label.sk-toggleable__label {background-color: #d4ebff;}#sk-container-id-1 div.sk-serial::before {content: \"\";position: absolute;border-left: 1px solid gray;box-sizing: border-box;top: 0;bottom: 0;left: 50%;z-index: 0;}#sk-container-id-1 div.sk-serial {display: flex;flex-direction: column;align-items: center;background-color: white;padding-right: 0.2em;padding-left: 0.2em;position: relative;}#sk-container-id-1 div.sk-item {position: relative;z-index: 1;}#sk-container-id-1 div.sk-parallel {display: flex;align-items: stretch;justify-content: center;background-color: white;position: relative;}#sk-container-id-1 div.sk-item::before, #sk-container-id-1 div.sk-parallel-item::before {content: \"\";position: absolute;border-left: 1px solid gray;box-sizing: border-box;top: 0;bottom: 0;left: 50%;z-index: -1;}#sk-container-id-1 div.sk-parallel-item {display: flex;flex-direction: column;z-index: 1;position: relative;background-color: white;}#sk-container-id-1 div.sk-parallel-item:first-child::after {align-self: flex-end;width: 50%;}#sk-container-id-1 div.sk-parallel-item:last-child::after {align-self: flex-start;width: 50%;}#sk-container-id-1 div.sk-parallel-item:only-child::after {width: 0;}#sk-container-id-1 div.sk-dashed-wrapped {border: 1px dashed gray;margin: 0 0.4em 0.5em 0.4em;box-sizing: border-box;padding-bottom: 0.4em;background-color: white;}#sk-container-id-1 div.sk-label label {font-family: monospace;font-weight: bold;display: inline-block;line-height: 1.2em;}#sk-container-id-1 div.sk-label-container {text-align: center;}#sk-container-id-1 div.sk-container {/* jupyter's `normalize.less` sets `[hidden] { display: none; }` but bootstrap.min.css set `[hidden] { display: none !important; }` so we also need the `!important` here to be able to override the default hidden behavior on the sphinx rendered scikit-learn.org. See: https://github.com/scikit-learn/scikit-learn/issues/21755 */display: inline-block !important;position: relative;}#sk-container-id-1 div.sk-text-repr-fallback {display: none;}</style><div id=\"sk-container-id-1\" class=\"sk-top-container\"><div class=\"sk-text-repr-fallback\"><pre>LinearRegression()</pre><b>In a Jupyter environment, please rerun this cell to show the HTML representation or trust the notebook. <br />On GitHub, the HTML representation is unable to render, please try loading this page with nbviewer.org.</b></div><div class=\"sk-container\" hidden><div class=\"sk-item\"><div class=\"sk-estimator sk-toggleable\"><input class=\"sk-toggleable__control sk-hidden--visually\" id=\"sk-estimator-id-1\" type=\"checkbox\" checked><label for=\"sk-estimator-id-1\" class=\"sk-toggleable__label sk-toggleable__label-arrow\">LinearRegression</label><div class=\"sk-toggleable__content\"><pre>LinearRegression()</pre></div></div></div></div></div>"
      ],
      "text/plain": [
       "LinearRegression()"
      ]
     },
     "execution_count": 21,
     "metadata": {},
     "output_type": "execute_result"
    }
   ],
   "source": [
    "from sklearn.linear_model import LinearRegression\n",
    "regressor = LinearRegression()\n",
    "regressor.fit(X_train, y_train)"
   ]
  },
  {
   "cell_type": "code",
   "execution_count": 27,
   "id": "04748b6a-e895-40d3-a7b4-b0c3c5278111",
   "metadata": {
    "tags": []
   },
   "outputs": [
    {
     "name": "stdout",
     "output_type": "stream",
     "text": [
      "[0.44187118 0.49919594 0.41196261 0.42317833 0.41694738 0.46430261\n",
      " 0.32099071 0.46430261 0.42068595 0.48548785 0.42940928 0.46056404\n",
      " 0.39576214 0.47177975 0.45059452 0.44934833 0.46679499 0.34466833\n",
      " 0.37831547 0.48548785 0.46679499 0.44685595]\n"
     ]
    },
    {
     "data": {
      "image/png": "[encoded data removed]",
      "text/plain": [
       "<Figure size 640x480 with 1 Axes>"
      ]
     },
     "metadata": {},
     "output_type": "display_data"
    },
    {
     "data": {
      "image/png": "[encoded data removed]",
      "text/plain": [
       "<Figure size 640x480 with 1 Axes>"
      ]
     },
     "metadata": {},
     "output_type": "display_data"
    }
   ],
   "source": [
    "y_pred = regressor.predict(X_test)\n",
    "print(y_pred)\n",
    "\n",
    "plt.scatter(X_train, y_train, color = 'red')\n",
    "plt.plot(X_train, regressor.predict(X_train), color = 'blue')\n",
    "plt.title('Na2O vs MgO (Training set)')\n",
    "plt.xlabel('Na2O of MgO')\n",
    "plt.ylabel('Na2O')\n",
    "plt.show()\n",
    "\n",
    "plt.scatter(X_test, y_test, color = 'red')\n",
    "plt.plot(X_train, regressor.predict(X_train), color = 'blue')\n",
    "plt.title('Na2O vs MgO (Training set)')\n",
    "plt.xlabel('Na2O of MgO')\n",
    "plt.ylabel('Na2O')\n",
    "plt.show()"
   ]
  },
  {
   "cell_type": "code",
   "execution_count": 31,
   "id": "4d47af59-c8f3-4c35-a558-4a6f81b65c1a",
   "metadata": {
    "tags": []
   },
   "outputs": [
    {
     "data": {
      "text/plain": [
       "array([0.44187118])"
      ]
     },
     "execution_count": 31,
     "metadata": {},
     "output_type": "execute_result"
    }
   ],
   "source": [
    "Na2O = [[0.49]]\n",
    "\n",
    "regressor.predict(Na2O)"
   ]
  },
  {
   "cell_type": "code",
   "execution_count": 33,
   "id": "98cb29c0-54ad-4cbf-9764-5d8f064e9901",
   "metadata": {
    "tags": []
   },
   "outputs": [
    {
     "data": {
      "text/plain": [
       "array([0.44187118])"
      ]
     },
     "execution_count": 33,
     "metadata": {},
     "output_type": "execute_result"
    }
   ],
   "source": [
    "Na2O = 0.49\n",
    "\n",
    "a = regressor.coef_\n",
    "b = regressor.intercept_\n",
    "\n",
    "Salary  = a * Na2O + b \n",
    "Salary"
   ]
  },
  {
   "cell_type": "code",
   "execution_count": null,
   "id": "73a73423-3a4a-4daf-b81b-e91f0b049393",
   "metadata": {},
   "outputs": [],
   "source": []
  }
 ],
 "metadata": {
  "kernelspec": {
   "display_name": "Python 3 (ipykernel)",
   "language": "python",
   "name": "python3"
  },
  "language_info": {
   "codemirror_mode": {
    "name": "ipython",
    "version": 3
   },
   "file_extension": ".py",
   "mimetype": "text/x-python",
   "name": "python",
   "nbconvert_exporter": "python",
   "pygments_lexer": "ipython3",
   "version": "3.10.9"
  }
 },
 "nbformat": 4,
 "nbformat_minor": 5
}
