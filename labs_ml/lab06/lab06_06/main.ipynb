{
 "cells": [
  {
   "cell_type": "markdown",
   "id": "d8df495b",
   "metadata": {},
   "source": [
    "## Построение модели линейной одномерной регрессии\n",
    "\n",
    "\n",
    "### Цель работы\n",
    "\n",
    "изучение принципов построения модели линейной одномерной регрессии.\n",
    "\n",
    "### Задачи \n",
    "\n",
    " - реализовать кoнвейер для выполнения всех стадий обработки данных при решении задачи одномерной регрессии;\n",
    " - получение теоретических представлений о задаче регресии;\n",
    " - получение навыков использования пайплайна при решении задачи машинного обучения;\n",
    " - получение навыков рефакторинга кода в задачах машинного обучения.\n"
   ]
  },
  {
   "cell_type": "markdown",
   "id": "ae9c98c7",
   "metadata": {},
   "source": [
    "### Теория"
   ]
  },
  {
   "cell_type": "markdown",
   "id": "6d0cc99e",
   "metadata": {},
   "source": [
    "Для решения задачи одномерной регрессии удобно использовать универсальный пайплайн предварительной обработки данных. \n",
    "К имеющемусяя шаблонному коду необходимо добавить код для обучения модели, интерпретации и визуализации результатов.\n",
    "Линейная регрессия – метод восстановления зависимости между двумя переменными. \n",
    "Пусть задана модель регрессии – параметрическое семейство функций $𝑔(x, \\alpha)$, где $\\alpha \\in ℝ^p$  – вектор параметров модели. \n",
    "Определим функционал качества аппроксимации целевой зависимости на выборке $𝑋^ℓ^ как сумму квадратов ошибок\n",
    "\n",
    "\\begin{equation}\n",
    "\\label{1}\\tag{1}\n",
    "Q(\\alpha, X^l) = \\sum\\limits_{i=1}^{l}(g(x_i, \\alpha) - y_i)^2.\n",
    "\\end{equation}\n",
    "\n",
    "Обучение по методу наименьших квадратов (МНК) состоит в том, чтобы найти вектор параметров 𝛼∗, при котором достигается минимум среднего\n",
    "квадрата ошибки на заданной обучающей выборке $𝑋^l$:\n",
    "\n",
    "\\begin{equation}\n",
    "\\label{2}\\tag{2}\n",
    "\\alpha^{*} = \\arg\\min\\limits_{\\alpha \\in  ℝ^p} Q(\\alpha, X^l).\n",
    "\\end{equation}\n",
    "\n",
    "Стандартный способ решения этой оптимизационной задачи – воспользоваться необходимым условием минимума. \n",
    "Если функция $𝑔(x, \\alpha)$ достаточное число раз дифференцируема по $\\alpha$, то в точке минимума выполняется система $𝑝$ уравнений относительно $𝑝$ неизвестных\n",
    "\n",
    "\\begin{equation}\n",
    "\\label{3}\\tag{3}\n",
    "\\cfrac{\\partial Q}{\\partial \\alpha}(\\alpha, X^l) = 2 \\sum\\limits_{i=1}^{l} (g(x_i, \\alpha) - y_i)\\cfrac{\\partial g}{\\partial \\alpha} (x_i, \\alpha) = 0.\n",
    "\\end{equation}\n",
    "\n",
    "\n",
    "С использованием библиотек машинного обучения формулы (1) – (2) можно реализовать автоматически, но следует понимать, что конкретно\n",
    "реализует каждый метод"
   ]
  },
  {
   "cell_type": "markdown",
   "id": "2d636d1b",
   "metadata": {},
   "source": [
    "### Ход работы"
   ]
  },
  {
   "cell_type": "code",
   "execution_count": 7,
   "id": "fbc2ac39",
   "metadata": {},
   "outputs": [],
   "source": [
    "import numpy as np\n",
    "import matplotlib.pyplot as plt\n",
    "import pandas as pd"
   ]
  },
  {
   "cell_type": "markdown",
   "id": "2d95f2a4",
   "metadata": {},
   "source": [
    "#### 1. Подготовка данных"
   ]
  },
  {
   "cell_type": "code",
   "execution_count": 28,
   "id": "2d21afc5",
   "metadata": {},
   "outputs": [
    {
     "data": {
      "text/html": [
       "<div>\n",
       "<style scoped>\n",
       "    .dataframe tbody tr th:only-of-type {\n",
       "        vertical-align: middle;\n",
       "    }\n",
       "\n",
       "    .dataframe tbody tr th {\n",
       "        vertical-align: top;\n",
       "    }\n",
       "\n",
       "    .dataframe thead th {\n",
       "        text-align: right;\n",
       "    }\n",
       "</style>\n",
       "<table border=\"1\" class=\"dataframe\">\n",
       "  <thead>\n",
       "    <tr style=\"text-align: right;\">\n",
       "      <th></th>\n",
       "      <th>number_courses</th>\n",
       "      <th>time_study</th>\n",
       "      <th>Marks</th>\n",
       "    </tr>\n",
       "  </thead>\n",
       "  <tbody>\n",
       "    <tr>\n",
       "      <th>0</th>\n",
       "      <td>3</td>\n",
       "      <td>4.508</td>\n",
       "      <td>19.202</td>\n",
       "    </tr>\n",
       "    <tr>\n",
       "      <th>1</th>\n",
       "      <td>4</td>\n",
       "      <td>0.096</td>\n",
       "      <td>7.734</td>\n",
       "    </tr>\n",
       "    <tr>\n",
       "      <th>2</th>\n",
       "      <td>4</td>\n",
       "      <td>3.133</td>\n",
       "      <td>13.811</td>\n",
       "    </tr>\n",
       "    <tr>\n",
       "      <th>3</th>\n",
       "      <td>6</td>\n",
       "      <td>7.909</td>\n",
       "      <td>53.018</td>\n",
       "    </tr>\n",
       "    <tr>\n",
       "      <th>4</th>\n",
       "      <td>8</td>\n",
       "      <td>7.811</td>\n",
       "      <td>55.299</td>\n",
       "    </tr>\n",
       "    <tr>\n",
       "      <th>...</th>\n",
       "      <td>...</td>\n",
       "      <td>...</td>\n",
       "      <td>...</td>\n",
       "    </tr>\n",
       "    <tr>\n",
       "      <th>93</th>\n",
       "      <td>8</td>\n",
       "      <td>6.471</td>\n",
       "      <td>42.426</td>\n",
       "    </tr>\n",
       "    <tr>\n",
       "      <th>94</th>\n",
       "      <td>8</td>\n",
       "      <td>3.919</td>\n",
       "      <td>24.451</td>\n",
       "    </tr>\n",
       "    <tr>\n",
       "      <th>95</th>\n",
       "      <td>6</td>\n",
       "      <td>3.561</td>\n",
       "      <td>19.128</td>\n",
       "    </tr>\n",
       "    <tr>\n",
       "      <th>96</th>\n",
       "      <td>3</td>\n",
       "      <td>0.301</td>\n",
       "      <td>5.609</td>\n",
       "    </tr>\n",
       "    <tr>\n",
       "      <th>97</th>\n",
       "      <td>4</td>\n",
       "      <td>7.163</td>\n",
       "      <td>41.444</td>\n",
       "    </tr>\n",
       "  </tbody>\n",
       "</table>\n",
       "<p>98 rows × 3 columns</p>\n",
       "</div>"
      ],
      "text/plain": [
       "    number_courses  time_study   Marks\n",
       "0                3       4.508  19.202\n",
       "1                4       0.096   7.734\n",
       "2                4       3.133  13.811\n",
       "3                6       7.909  53.018\n",
       "4                8       7.811  55.299\n",
       "..             ...         ...     ...\n",
       "93               8       6.471  42.426\n",
       "94               8       3.919  24.451\n",
       "95               6       3.561  19.128\n",
       "96               3       0.301   5.609\n",
       "97               4       7.163  41.444\n",
       "\n",
       "[98 rows x 3 columns]"
      ]
     },
     "execution_count": 28,
     "metadata": {},
     "output_type": "execute_result"
    }
   ],
   "source": [
    "dataset = pd.read_csv('./Student_Marks.csv')\n",
    "dataset.head(10)"
   ]
  },
  {
   "cell_type": "code",
   "execution_count": 33,
   "id": "a3668939",
   "metadata": {},
   "outputs": [
    {
     "name": "stdout",
     "output_type": "stream",
     "text": [
      "Матрица признаков\n",
      "[[4.508]\n",
      " [0.096]\n",
      " [3.133]\n",
      " [7.909]\n",
      " [7.811]]\n",
      "Зависимая переменная\n",
      "[19.202  7.734 13.811 53.018 55.299]\n"
     ]
    }
   ],
   "source": [
    "X = dataset.iloc[:, 1:-1].values\n",
    "y = dataset.iloc[:, -1].values\n",
    "print (\"Матрица признаков\"); print(X[:5])\n",
    "print (\"Зависимая переменная\"); print(y[:5])"
   ]
  },
  {
   "cell_type": "code",
   "execution_count": 38,
   "id": "9d04541b",
   "metadata": {},
   "outputs": [
    {
     "name": "stdout",
     "output_type": "stream",
     "text": [
      "[[4.508]\n",
      " [0.096]\n",
      " [3.133]\n",
      " [7.909]\n",
      " [7.811]]\n"
     ]
    }
   ],
   "source": [
    "from sklearn.impute import SimpleImputer\n",
    "\n",
    "imputer = SimpleImputer(missing_values = np.nan, strategy = 'mean')\n",
    "imputer = imputer.fit(X[:, :])\n",
    "X_without_nan = X.copy()\n",
    "X_without_nan[:, :] = imputer.transform(X[:, :])\n",
    "print(X[:5])"
   ]
  },
  {
   "cell_type": "markdown",
   "id": "67c3bc8d",
   "metadata": {},
   "source": [
    "#### 2. Построение модели классификации на основе линейной регрессии"
   ]
  },
  {
   "cell_type": "code",
   "execution_count": 39,
   "id": "ef54cb59",
   "metadata": {},
   "outputs": [
    {
     "name": "stdout",
     "output_type": "stream",
     "text": [
      "[ 4.92351402 24.55272899 19.40136996 18.18798775  6.55054926 37.81168735\n",
      " 33.66412633 11.10624793 43.98890588 21.7619499  35.48419965 29.84748773\n",
      " 43.21675356 25.69441135 20.9456746  23.43310813 13.43373563 22.17008756\n",
      " 38.49007831 26.44450217 10.70914103 22.01014172 45.74279471 16.00941514\n",
      " 13.48888937]\n"
     ]
    }
   ],
   "source": [
    "from sklearn.model_selection import train_test_split\n",
    "from sklearn.linear_model import LinearRegression\n",
    "\n",
    "X_train, X_test, y_train, y_test = train_test_split(X, y, test_size = 1/4, random_state = 0) \n",
    "regressor = LinearRegression()\n",
    "regressor.fit(X_train, y_train)\n",
    "\n",
    "y_pred = regressor.predict(X_test)\n",
    "print(y_pred)"
   ]
  },
  {
   "cell_type": "code",
   "execution_count": 40,
   "id": "407eff05",
   "metadata": {},
   "outputs": [
    {
     "data": {
      "image/png": "[encoded data removed]",
      "text/plain": [
       "<Figure size 640x480 with 1 Axes>"
      ]
     },
     "metadata": {},
     "output_type": "display_data"
    },
    {
     "data": {
      "image/png": "[encoded data removed]",
      "text/plain": [
       "<Figure size 640x480 with 1 Axes>"
      ]
     },
     "metadata": {},
     "output_type": "display_data"
    }
   ],
   "source": [
    "plt.scatter(X_train, y_train, color = 'red')\n",
    "plt.plot(X_train, regressor.predict(X_train), color = 'blue')\n",
    "plt.title('Marks vs Time study (Training set)')\n",
    "plt.xlabel('Time study')\n",
    "plt.ylabel('Marks')\n",
    "plt.show()\n",
    "\n",
    "plt.scatter(X_test, y_test, color = 'red')\n",
    "plt.plot(X_train, regressor.predict(X_train), color = 'blue')\n",
    "plt.title('Marks vs Time study (Test set)')\n",
    "plt.xlabel('Time study')\n",
    "plt.ylabel('Marks')\n",
    "plt.show()"
   ]
  },
  {
   "cell_type": "code",
   "execution_count": 41,
   "id": "00dc6390",
   "metadata": {},
   "outputs": [
    {
     "name": "stdout",
     "output_type": "stream",
     "text": [
      "[10.39476473]\n"
     ]
    }
   ],
   "source": [
    "time_study = [[1.5]]\n",
    "your_mark = regressor.predict(time_study)\n",
    "print(your_mark)"
   ]
  },
  {
   "cell_type": "markdown",
   "id": "97317487",
   "metadata": {},
   "source": [
    "### Контрольные вопросы\n",
    "\n",
    "1. Почему при реализации линейной модели регрессии нет необходимости выполнять масштабирование признаков?\n",
    "\n",
    "    Ответ: В линейной регрессии масштабирование признаков не обязательно, потому что коэффициенты регрессии компенсируют масштабирование. Масштабирование может помочь ускорить обучение, но не является обязательным.\n",
    "2. Почему при реализации модели линейной регрессии в качестве функции потерь используется квадратичное отклонение, а не модуль отклонения?\n",
    "\n",
    "    Ответ: Квадратичную функцию легче оптимизировать.\n",
    "3. Что именно реализовано в методе fit(X, y) класса LinearRegression?\n",
    "\n",
    "    Ответ:  Метод подбирает оптимальные коэффициенты регрессии, чтобы минимизировать функцию потерь на обучающих данных X (признаки) и y (целевая функция).\n",
    "4. Поясните назначение метода predict класса LinearRegression.\n",
    "\n",
    "    Ответ: Этот метод ннужен для предсказания знацения целевой функции на множестве X, используя полученные в результате обучения коэффиценты регрессии.\n",
    "5. По какой подвыборке необходимо оценивать точность модели машинного обучения: тестовой или тренировочной?\n",
    "\n",
    "    Ответ: Тестовой"
   ]
  }
 ],
 "metadata": {
  "kernelspec": {
   "display_name": "Python 3 (ipykernel)",
   "language": "python",
   "name": "python3"
  },
  "language_info": {
   "codemirror_mode": {
    "name": "ipython",
    "version": 3
   },
   "file_extension": ".py",
   "mimetype": "text/x-python",
   "name": "python",
   "nbconvert_exporter": "python",
   "pygments_lexer": "ipython3",
   "version": "3.11.4"
  }
 },
 "nbformat": 4,
 "nbformat_minor": 5
}
