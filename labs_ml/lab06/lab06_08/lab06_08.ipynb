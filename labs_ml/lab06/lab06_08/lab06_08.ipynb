{
 "cells": [
  {
   "cell_type": "markdown",
   "id": "f6098acb",
   "metadata": {},
   "source": [
    "# Лабораторная работа №6\n",
    "\n",
    "Вариант 8"
   ]
  },
  {
   "cell_type": "markdown",
   "id": "9abf9f6d",
   "metadata": {},
   "source": [
    "## Цель работы\n",
    "\n",
    "- изучение принципов построения модели линейной одномерной регрессии.\n",
    "\n",
    "## Задачи \n",
    "\n",
    " - реализовать каонвейер для выполнения всех стадий обработки данных при решении задачи одномерной регрессии;\n",
    " - получение теоретических представлений о задаче регресии;\n",
    " - получение навыков использования пайплайна при решении задачи машинного обучения;\n",
    "  получение навыков рефакторинга кода в задачах машинного обучения."
   ]
  },
  {
   "cell_type": "markdown",
   "id": "56d9a3f5",
   "metadata": {},
   "source": [
    "Загрузим и подготовим данные"
   ]
  },
  {
   "cell_type": "code",
   "execution_count": 2,
   "id": "a5611f22",
   "metadata": {},
   "outputs": [],
   "source": [
    "import numpy as np\n",
    "import matplotlib.pyplot as plt\n",
    "import pandas as pd\n",
    "from sklearn.model_selection import train_test_split\n",
    "from sklearn.linear_model import LinearRegression\n",
    "from sklearn.metrics import accuracy_score"
   ]
  },
  {
   "cell_type": "code",
   "execution_count": 3,
   "id": "272828b5",
   "metadata": {},
   "outputs": [
    {
     "data": {
      "text/html": [
       "<div>\n",
       "<style scoped>\n",
       "    .dataframe tbody tr th:only-of-type {\n",
       "        vertical-align: middle;\n",
       "    }\n",
       "\n",
       "    .dataframe tbody tr th {\n",
       "        vertical-align: top;\n",
       "    }\n",
       "\n",
       "    .dataframe thead th {\n",
       "        text-align: right;\n",
       "    }\n",
       "</style>\n",
       "<table border=\"1\" class=\"dataframe\">\n",
       "  <thead>\n",
       "    <tr style=\"text-align: right;\">\n",
       "      <th></th>\n",
       "      <th>rank</th>\n",
       "      <th>name</th>\n",
       "      <th>year</th>\n",
       "      <th>certification</th>\n",
       "      <th>duration</th>\n",
       "      <th>rating</th>\n",
       "      <th>review_count</th>\n",
       "      <th>director</th>\n",
       "      <th>writer</th>\n",
       "      <th>genre</th>\n",
       "      <th>stars</th>\n",
       "    </tr>\n",
       "  </thead>\n",
       "  <tbody>\n",
       "    <tr>\n",
       "      <th>0</th>\n",
       "      <td>1</td>\n",
       "      <td>Disaster Movie</td>\n",
       "      <td>2008</td>\n",
       "      <td>PG-13</td>\n",
       "      <td>1h 27m</td>\n",
       "      <td>1.9</td>\n",
       "      <td>94K</td>\n",
       "      <td>['Jason Friedberg', 'Aaron Seltzer']</td>\n",
       "      <td>['Jason Friedberg', 'Aaron Seltzer']</td>\n",
       "      <td>['Comedy', 'Sci-Fi']</td>\n",
       "      <td>['Carmen Electra', 'Vanessa Lachey', 'Nicole P...</td>\n",
       "    </tr>\n",
       "    <tr>\n",
       "      <th>1</th>\n",
       "      <td>2</td>\n",
       "      <td>Manos: The Hands of Fate</td>\n",
       "      <td>1966</td>\n",
       "      <td>Not Rated</td>\n",
       "      <td>1h 10m</td>\n",
       "      <td>1.6</td>\n",
       "      <td>37K</td>\n",
       "      <td>['Harold P. Warren']</td>\n",
       "      <td>['Harold P. Warren']</td>\n",
       "      <td>['Horror']</td>\n",
       "      <td>['Tom Neyman', 'John Reynolds', 'Diane Adelson']</td>\n",
       "    </tr>\n",
       "    <tr>\n",
       "      <th>2</th>\n",
       "      <td>3</td>\n",
       "      <td>Birdemic: Shock and Terror</td>\n",
       "      <td>2010</td>\n",
       "      <td>Not Rated</td>\n",
       "      <td>1h 45m</td>\n",
       "      <td>1.7</td>\n",
       "      <td>25K</td>\n",
       "      <td>['James Nguyen']</td>\n",
       "      <td>['Writer', 'James Nguyen', '']</td>\n",
       "      <td>['Horror', 'Thriller']</td>\n",
       "      <td>['Alan Bagh', 'Whitney Moore', 'Tippi Hedren']</td>\n",
       "    </tr>\n",
       "    <tr>\n",
       "      <th>3</th>\n",
       "      <td>4</td>\n",
       "      <td>Superbabies: Baby Geniuses 2</td>\n",
       "      <td>2004</td>\n",
       "      <td>PG</td>\n",
       "      <td>1h 28m</td>\n",
       "      <td>1.5</td>\n",
       "      <td>32K</td>\n",
       "      <td>['Bob Clark']</td>\n",
       "      <td>['Writers', 'Robert Grasmere', 'Francisca Mato...</td>\n",
       "      <td>['Comedy', 'Family', 'Sci-Fi']</td>\n",
       "      <td>['Jon Voight', 'Scott Baio', 'Vanessa Angel']</td>\n",
       "    </tr>\n",
       "    <tr>\n",
       "      <th>4</th>\n",
       "      <td>5</td>\n",
       "      <td>The Hottie &amp; the Nottie</td>\n",
       "      <td>2008</td>\n",
       "      <td>PG-13</td>\n",
       "      <td>1h 31m</td>\n",
       "      <td>2.0</td>\n",
       "      <td>39K</td>\n",
       "      <td>['Tom Putnam']</td>\n",
       "      <td>['Heidi Ferrer']</td>\n",
       "      <td>['Comedy', 'Romance']</td>\n",
       "      <td>['Paris Hilton', 'Joel David Moore', 'Christin...</td>\n",
       "    </tr>\n",
       "  </tbody>\n",
       "</table>\n",
       "</div>"
      ],
      "text/plain": [
       "   rank                          name  year certification duration  rating  \\\n",
       "0     1                Disaster Movie  2008         PG-13   1h 27m     1.9   \n",
       "1     2      Manos: The Hands of Fate  1966     Not Rated   1h 10m     1.6   \n",
       "2     3    Birdemic: Shock and Terror  2010     Not Rated   1h 45m     1.7   \n",
       "3     4  Superbabies: Baby Geniuses 2  2004            PG   1h 28m     1.5   \n",
       "4     5       The Hottie & the Nottie  2008         PG-13   1h 31m     2.0   \n",
       "\n",
       "  review_count                              director  \\\n",
       "0          94K  ['Jason Friedberg', 'Aaron Seltzer']   \n",
       "1          37K                  ['Harold P. Warren']   \n",
       "2          25K                      ['James Nguyen']   \n",
       "3          32K                         ['Bob Clark']   \n",
       "4          39K                        ['Tom Putnam']   \n",
       "\n",
       "                                              writer  \\\n",
       "0               ['Jason Friedberg', 'Aaron Seltzer']   \n",
       "1                               ['Harold P. Warren']   \n",
       "2                     ['Writer', 'James Nguyen', '']   \n",
       "3  ['Writers', 'Robert Grasmere', 'Francisca Mato...   \n",
       "4                                   ['Heidi Ferrer']   \n",
       "\n",
       "                            genre  \\\n",
       "0            ['Comedy', 'Sci-Fi']   \n",
       "1                      ['Horror']   \n",
       "2          ['Horror', 'Thriller']   \n",
       "3  ['Comedy', 'Family', 'Sci-Fi']   \n",
       "4           ['Comedy', 'Romance']   \n",
       "\n",
       "                                               stars  \n",
       "0  ['Carmen Electra', 'Vanessa Lachey', 'Nicole P...  \n",
       "1   ['Tom Neyman', 'John Reynolds', 'Diane Adelson']  \n",
       "2     ['Alan Bagh', 'Whitney Moore', 'Tippi Hedren']  \n",
       "3      ['Jon Voight', 'Scott Baio', 'Vanessa Angel']  \n",
       "4  ['Paris Hilton', 'Joel David Moore', 'Christin...  "
      ]
     },
     "execution_count": 3,
     "metadata": {},
     "output_type": "execute_result"
    }
   ],
   "source": [
    "# Загрузка данных\n",
    "url = 'dataset/lowest_ranked_movies_data.csv'\n",
    "dataset = pd.read_csv(url)\n",
    "\n",
    "# Показать первые строки данных\n",
    "dataset.head()"
   ]
  },
  {
   "cell_type": "code",
   "execution_count": 6,
   "id": "dddde1f8",
   "metadata": {},
   "outputs": [
    {
     "data": {
      "text/html": [
       "<div>\n",
       "<style scoped>\n",
       "    .dataframe tbody tr th:only-of-type {\n",
       "        vertical-align: middle;\n",
       "    }\n",
       "\n",
       "    .dataframe tbody tr th {\n",
       "        vertical-align: top;\n",
       "    }\n",
       "\n",
       "    .dataframe thead th {\n",
       "        text-align: right;\n",
       "    }\n",
       "</style>\n",
       "<table border=\"1\" class=\"dataframe\">\n",
       "  <thead>\n",
       "    <tr style=\"text-align: right;\">\n",
       "      <th></th>\n",
       "      <th>rank</th>\n",
       "      <th>name</th>\n",
       "      <th>year</th>\n",
       "      <th>certification</th>\n",
       "      <th>duration</th>\n",
       "      <th>rating</th>\n",
       "      <th>review_count</th>\n",
       "      <th>director</th>\n",
       "      <th>writer</th>\n",
       "      <th>genre</th>\n",
       "      <th>stars</th>\n",
       "      <th>IsBottom100</th>\n",
       "    </tr>\n",
       "  </thead>\n",
       "  <tbody>\n",
       "    <tr>\n",
       "      <th>0</th>\n",
       "      <td>1</td>\n",
       "      <td>Disaster Movie</td>\n",
       "      <td>2008</td>\n",
       "      <td>PG-13</td>\n",
       "      <td>1h 27m</td>\n",
       "      <td>1.9</td>\n",
       "      <td>94K</td>\n",
       "      <td>['Jason Friedberg', 'Aaron Seltzer']</td>\n",
       "      <td>['Jason Friedberg', 'Aaron Seltzer']</td>\n",
       "      <td>['Comedy', 'Sci-Fi']</td>\n",
       "      <td>['Carmen Electra', 'Vanessa Lachey', 'Nicole P...</td>\n",
       "      <td>1</td>\n",
       "    </tr>\n",
       "    <tr>\n",
       "      <th>1</th>\n",
       "      <td>2</td>\n",
       "      <td>Manos: The Hands of Fate</td>\n",
       "      <td>1966</td>\n",
       "      <td>Not Rated</td>\n",
       "      <td>1h 10m</td>\n",
       "      <td>1.6</td>\n",
       "      <td>37K</td>\n",
       "      <td>['Harold P. Warren']</td>\n",
       "      <td>['Harold P. Warren']</td>\n",
       "      <td>['Horror']</td>\n",
       "      <td>['Tom Neyman', 'John Reynolds', 'Diane Adelson']</td>\n",
       "      <td>1</td>\n",
       "    </tr>\n",
       "    <tr>\n",
       "      <th>2</th>\n",
       "      <td>3</td>\n",
       "      <td>Birdemic: Shock and Terror</td>\n",
       "      <td>2010</td>\n",
       "      <td>Not Rated</td>\n",
       "      <td>1h 45m</td>\n",
       "      <td>1.7</td>\n",
       "      <td>25K</td>\n",
       "      <td>['James Nguyen']</td>\n",
       "      <td>['Writer', 'James Nguyen', '']</td>\n",
       "      <td>['Horror', 'Thriller']</td>\n",
       "      <td>['Alan Bagh', 'Whitney Moore', 'Tippi Hedren']</td>\n",
       "      <td>1</td>\n",
       "    </tr>\n",
       "    <tr>\n",
       "      <th>3</th>\n",
       "      <td>4</td>\n",
       "      <td>Superbabies: Baby Geniuses 2</td>\n",
       "      <td>2004</td>\n",
       "      <td>PG</td>\n",
       "      <td>1h 28m</td>\n",
       "      <td>1.5</td>\n",
       "      <td>32K</td>\n",
       "      <td>['Bob Clark']</td>\n",
       "      <td>['Writers', 'Robert Grasmere', 'Francisca Mato...</td>\n",
       "      <td>['Comedy', 'Family', 'Sci-Fi']</td>\n",
       "      <td>['Jon Voight', 'Scott Baio', 'Vanessa Angel']</td>\n",
       "      <td>1</td>\n",
       "    </tr>\n",
       "    <tr>\n",
       "      <th>4</th>\n",
       "      <td>5</td>\n",
       "      <td>The Hottie &amp; the Nottie</td>\n",
       "      <td>2008</td>\n",
       "      <td>PG-13</td>\n",
       "      <td>1h 31m</td>\n",
       "      <td>2.0</td>\n",
       "      <td>39K</td>\n",
       "      <td>['Tom Putnam']</td>\n",
       "      <td>['Heidi Ferrer']</td>\n",
       "      <td>['Comedy', 'Romance']</td>\n",
       "      <td>['Paris Hilton', 'Joel David Moore', 'Christin...</td>\n",
       "      <td>1</td>\n",
       "    </tr>\n",
       "  </tbody>\n",
       "</table>\n",
       "</div>"
      ],
      "text/plain": [
       "   rank                          name  year certification duration  rating  \\\n",
       "0     1                Disaster Movie  2008         PG-13   1h 27m     1.9   \n",
       "1     2      Manos: The Hands of Fate  1966     Not Rated   1h 10m     1.6   \n",
       "2     3    Birdemic: Shock and Terror  2010     Not Rated   1h 45m     1.7   \n",
       "3     4  Superbabies: Baby Geniuses 2  2004            PG   1h 28m     1.5   \n",
       "4     5       The Hottie & the Nottie  2008         PG-13   1h 31m     2.0   \n",
       "\n",
       "  review_count                              director  \\\n",
       "0          94K  ['Jason Friedberg', 'Aaron Seltzer']   \n",
       "1          37K                  ['Harold P. Warren']   \n",
       "2          25K                      ['James Nguyen']   \n",
       "3          32K                         ['Bob Clark']   \n",
       "4          39K                        ['Tom Putnam']   \n",
       "\n",
       "                                              writer  \\\n",
       "0               ['Jason Friedberg', 'Aaron Seltzer']   \n",
       "1                               ['Harold P. Warren']   \n",
       "2                     ['Writer', 'James Nguyen', '']   \n",
       "3  ['Writers', 'Robert Grasmere', 'Francisca Mato...   \n",
       "4                                   ['Heidi Ferrer']   \n",
       "\n",
       "                            genre  \\\n",
       "0            ['Comedy', 'Sci-Fi']   \n",
       "1                      ['Horror']   \n",
       "2          ['Horror', 'Thriller']   \n",
       "3  ['Comedy', 'Family', 'Sci-Fi']   \n",
       "4           ['Comedy', 'Romance']   \n",
       "\n",
       "                                               stars  IsBottom100  \n",
       "0  ['Carmen Electra', 'Vanessa Lachey', 'Nicole P...            1  \n",
       "1   ['Tom Neyman', 'John Reynolds', 'Diane Adelson']            1  \n",
       "2     ['Alan Bagh', 'Whitney Moore', 'Tippi Hedren']            1  \n",
       "3      ['Jon Voight', 'Scott Baio', 'Vanessa Angel']            1  \n",
       "4  ['Paris Hilton', 'Joel David Moore', 'Christin...            1  "
      ]
     },
     "execution_count": 6,
     "metadata": {},
     "output_type": "execute_result"
    }
   ],
   "source": [
    "# Создание столбца 'IsBottom100' на основе условия\n",
    "threshold_rating = 2.5\n",
    "dataset['IsBottom100'] = np.where(dataset['rating'] < threshold_rating, 1, 0)\n",
    "\n",
    "dataset.head()"
   ]
  },
  {
   "cell_type": "code",
   "execution_count": 9,
   "id": "33c62773",
   "metadata": {},
   "outputs": [
    {
     "data": {
      "text/html": [
       "<div>\n",
       "<style scoped>\n",
       "    .dataframe tbody tr th:only-of-type {\n",
       "        vertical-align: middle;\n",
       "    }\n",
       "\n",
       "    .dataframe tbody tr th {\n",
       "        vertical-align: top;\n",
       "    }\n",
       "\n",
       "    .dataframe thead th {\n",
       "        text-align: right;\n",
       "    }\n",
       "</style>\n",
       "<table border=\"1\" class=\"dataframe\">\n",
       "  <thead>\n",
       "    <tr style=\"text-align: right;\">\n",
       "      <th></th>\n",
       "      <th>rating</th>\n",
       "    </tr>\n",
       "  </thead>\n",
       "  <tbody>\n",
       "    <tr>\n",
       "      <th>0</th>\n",
       "      <td>1.9</td>\n",
       "    </tr>\n",
       "    <tr>\n",
       "      <th>1</th>\n",
       "      <td>1.6</td>\n",
       "    </tr>\n",
       "    <tr>\n",
       "      <th>2</th>\n",
       "      <td>1.7</td>\n",
       "    </tr>\n",
       "    <tr>\n",
       "      <th>3</th>\n",
       "      <td>1.5</td>\n",
       "    </tr>\n",
       "    <tr>\n",
       "      <th>4</th>\n",
       "      <td>2.0</td>\n",
       "    </tr>\n",
       "  </tbody>\n",
       "</table>\n",
       "</div>"
      ],
      "text/plain": [
       "   rating\n",
       "0     1.9\n",
       "1     1.6\n",
       "2     1.7\n",
       "3     1.5\n",
       "4     2.0"
      ]
     },
     "execution_count": 9,
     "metadata": {},
     "output_type": "execute_result"
    }
   ],
   "source": [
    "# Разделение на матрицу признаков и зависимую переменную\n",
    "X = dataset[['rating']]\n",
    "y = dataset['IsBottom100']\n",
    "\n",
    "# Показать первые строки матрицы признаков\n",
    "X.head()\n"
   ]
  },
  {
   "cell_type": "code",
   "execution_count": 10,
   "id": "9d33dcb2",
   "metadata": {},
   "outputs": [
    {
     "data": {
      "text/plain": [
       "0    1\n",
       "1    1\n",
       "2    1\n",
       "3    1\n",
       "4    1\n",
       "Name: IsBottom100, dtype: int32"
      ]
     },
     "execution_count": 10,
     "metadata": {},
     "output_type": "execute_result"
    }
   ],
   "source": [
    "# Показать первые строки зависимой переменной\n",
    "y.head()"
   ]
  },
  {
   "cell_type": "code",
   "execution_count": 38,
   "id": "c30bf336",
   "metadata": {},
   "outputs": [
    {
     "name": "stdout",
     "output_type": "stream",
     "text": [
      "Точность модели: 0.96\n"
     ]
    }
   ],
   "source": [
    "from sklearn.pipeline import Pipeline\n",
    "from sklearn.impute import SimpleImputer\n",
    "from sklearn.preprocessing import StandardScaler\n",
    "from sklearn.linear_model import LogisticRegression\n",
    "\n",
    "# Создание пайплайна\n",
    "pipeline = Pipeline([\n",
    "    ('imputer', SimpleImputer(strategy='mean')),  # Обработка пропущенных значений\n",
    "    ('scaler', StandardScaler()),  # Масштабирование признаков\n",
    "    ('classifier', LogisticRegression())  # Линейная модель регрессии\n",
    "])\n",
    "\n",
    "# Разделение данных на тренировочный и тестовый наборы\n",
    "X_train, X_test, y_train, y_test = train_test_split(X, y, test_size=0.25, random_state=42)\n",
    "\n",
    "# Обучение пайплайна\n",
    "pipeline.fit(X_train, y_train)\n",
    "\n",
    "# Оценка точности модели на тестовом наборе\n",
    "accuracy = pipeline.score(X_test, y_test)\n",
    "print(f'Точность модели: {accuracy}')\n"
   ]
  },
  {
   "cell_type": "code",
   "execution_count": 41,
   "id": "ed1f0f8f",
   "metadata": {},
   "outputs": [
    {
     "name": "stdout",
     "output_type": "stream",
     "text": [
      "0\n",
      "Точность модели: 0.96\n"
     ]
    }
   ],
   "source": [
    "# Обработка пропущенных значений\n",
    "imputer = SimpleImputer(missing_values=np.nan, strategy='mean')\n",
    "imputer = imputer.fit(X_train)  # используем только тренировочные данные для обучения\n",
    "X_train_without_nan = imputer.transform(X_train)\n",
    "X_test_without_nan = imputer.transform(X_test)\n",
    "\n",
    "# Проверим, что нет пропущенных значений в тренировочном наборе\n",
    "print(np.isnan(X_train_without_nan).sum())\n",
    "\n",
    "# Теперь можем продолжить обучение пайплайна с обработанными данными\n",
    "pipeline.fit(X_train_without_nan, y_train)\n",
    "\n",
    "# Оценка точности модели на тестовом наборе\n",
    "accuracy = pipeline.score(X_test_without_nan, y_test)\n",
    "print(f'Точность модели: {accuracy}')"
   ]
  },
  {
   "cell_type": "code",
   "execution_count": 44,
   "id": "c451954f",
   "metadata": {},
   "outputs": [
    {
     "data": {
      "image/png": "[encoded data removed]",
      "text/plain": [
       "<Figure size 640x480 with 1 Axes>"
      ]
     },
     "metadata": {},
     "output_type": "display_data"
    },
    {
     "data": {
      "image/png": "[encoded data removed]",
      "text/plain": [
       "<Figure size 640x480 with 1 Axes>"
      ]
     },
     "metadata": {},
     "output_type": "display_data"
    }
   ],
   "source": [
    "# Обучение линейной модели регрессии\n",
    "regressor.fit(X_train, y_train)\n",
    "\n",
    "# Визуализация результатов на тренировочном наборе данных\n",
    "plt.scatter(X_train, y_train, color='red', label='Фактические значения (тренировочные)')\n",
    "plt.scatter(X_train, regressor.predict(X_train), color='blue', label='Предсказанные значения (тренировочные)')\n",
    "plt.title('Предсказание модели линейной регрессии (тренировочный набор)')\n",
    "plt.xlabel('Рейтинг')\n",
    "plt.ylabel('IsBottom100')\n",
    "plt.legend()\n",
    "plt.show()\n",
    "\n",
    "# Визуализация результатов на тестовом наборе данных\n",
    "plt.scatter(X_test, y_test, color='red', label='Фактические значения (тестовые)')\n",
    "plt.scatter(X_test, regressor.predict(X_test), color='blue', label='Предсказанные значения (тестовые)')\n",
    "plt.title('Предсказание модели линейной регрессии (тестовый набор)')\n",
    "plt.xlabel('Рейтинг')\n",
    "plt.ylabel('IsBottom100')\n",
    "plt.legend()\n",
    "plt.show()\n"
   ]
  },
  {
   "cell_type": "code",
   "execution_count": 46,
   "id": "4fbda0c7",
   "metadata": {},
   "outputs": [
    {
     "name": "stdout",
     "output_type": "stream",
     "text": [
      "Предсказание для фильма с рейтингом 1.8: 0.8106114894969373\n"
     ]
    },
    {
     "name": "stderr",
     "output_type": "stream",
     "text": [
      "C:\\Users\\Egor Davydov\\AppData\\Local\\Programs\\Python\\Python311\\Lib\\site-packages\\sklearn\\base.py:465: UserWarning: X does not have valid feature names, but LinearRegression was fitted with feature names\n",
      "  warnings.warn(\n"
     ]
    }
   ],
   "source": [
    "# Использование модели для предсказания\n",
    "rating_to_predict = 1.8\n",
    "predicted_label = regressor.predict([[rating_to_predict]])\n",
    "\n",
    "# Вывод результата\n",
    "print(f'Предсказание для фильма с рейтингом {rating_to_predict}: {predicted_label[0]}')"
   ]
  },
  {
   "cell_type": "markdown",
   "id": "c60b4ff5",
   "metadata": {},
   "source": [
    "## Контрольные вопросы"
   ]
  },
  {
   "cell_type": "markdown",
   "id": "353de953",
   "metadata": {},
   "source": [
    "1. Почему при реализации линейной модели регрессии нет необходимости выполнять масштабирование признаков?\n",
    "- Ответ: При линейной регрессии коэффициенты модели относятся к признакам в соответствии с их весом. Масштабирование не влияет на отношения между признаками, поэтому оно необязательно. Масштабирование может быть полезным для методов, основанных на расстоянии, но для линейной регрессии это не является обязательным.\n",
    "2. Почему при реализации модели линейной регрессии в качестве функции потерь используется квадратичное отклонение, а не модуль отклонения?\n",
    "- Ответ: Использование квадратичного отклонения обусловлено методом наименьших квадратов (МНК), который минимизирует сумму квадратов разностей между прогнозами и фактическими значениями. Это обеспечивает математическую простоту и хорошие статистические свойства решения.\n",
    "3. Что именно реализовано в методе fit(X, y) класса LinearRegression?\n",
    "- Ответ: Метод fit(X, y) класса LinearRegression реализует процесс обучения модели. В нем выполняется поиск оптимальных параметров модели (весов) с использованием обучающих данных X и соответствующих целевых значений y.\n",
    "4. Поясните назначение метода predict класса LinearRegression.\n",
    "- Ответ: Метод predict используется для предсказания целевых значений на основе обученной модели. После того, как модель обучена методом fit, predict позволяет получить предсказания для новых данных.\n",
    "5. По какой подвыборке необходимо оценивать точность модели машинного обучения: тестовой или тренировочной?\n",
    "- Ответ: Оценка точности модели должна производиться на тестовой подвыборке. Тестовая подвыборка предоставляет независимую оценку производительности модели на данных, которые она ранее не видела. Это помогает определить, насколько хорошо модель обобщает знания на новых данных.\n"
   ]
  },
  {
   "cell_type": "code",
   "execution_count": null,
   "id": "08553165",
   "metadata": {},
   "outputs": [],
   "source": []
  }
 ],
 "metadata": {
  "kernelspec": {
   "display_name": "Python 3 (ipykernel)",
   "language": "python",
   "name": "python3"
  },
  "language_info": {
   "codemirror_mode": {
    "name": "ipython",
    "version": 3
   },
   "file_extension": ".py",
   "mimetype": "text/x-python",
   "name": "python",
   "nbconvert_exporter": "python",
   "pygments_lexer": "ipython3",
   "version": "3.11.5"
  }
 },
 "nbformat": 4,
 "nbformat_minor": 5
}
