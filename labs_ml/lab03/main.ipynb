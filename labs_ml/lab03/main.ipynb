{
 "cells": [
  {
   "cell_type": "markdown",
   "id": "1d3f2a56",
   "metadata": {},
   "source": [
    "\n",
    "## Визуализация данных"
   ]
  },
  {
   "cell_type": "markdown",
   "id": "4b58e257",
   "metadata": {},
   "source": [
    "### Цель работы\n",
    "\n",
    "зучение программных средств для визуализации наборов данных.\n",
    "\n",
    "### Задачи \n",
    "\n",
    " - изучение основных типов графиков библиотеки matplotlib;\n",
    " - изучение основных типов графиков библиотеки seaborn;\n",
    " - получение навыков анализа данных по визуальным представлениям данных.\n",
    "\n",
    "### Продолжительность и сроки сдачи\n",
    "\n",
    "Продолжительность работы: - 4 часа.\n",
    "\n",
    "Мягкий дедлайн (5 баллов): 17.10.2023\n",
    "\n",
    "Жесткий дедлайн (2.5 баллов): 31.10.2023"
   ]
  },
  {
   "cell_type": "markdown",
   "id": "20d72a01",
   "metadata": {},
   "source": [
    "### Теоретические сведения"
   ]
  },
  {
   "cell_type": "markdown",
   "id": "967e7e39",
   "metadata": {},
   "source": [
    "Перед выполнением лабораторной работы необходимо ознакомиться с базовыми принципами работы со специализированными библиотеками яхыка Python, используя следующие источники: [1]\n",
    "\n",
    "Перед выполнением лабораторной работы необходимо ознакомиться с базовыми принципами работы с репозитариями  [2, 3]"
   ]
  },
  {
   "cell_type": "markdown",
   "id": "aa986352",
   "metadata": {},
   "source": [
    "### Методика и порядок выполнения работы\n",
    "Перед выполнением индивидуального задания рекомендуется выполнить все пункты учебной задачи."
   ]
  },
  {
   "cell_type": "markdown",
   "id": "1b831a02",
   "metadata": {},
   "source": [
    "### Учебная задача\n",
    "Выполним анализ набора данных «Предсказание ухода клиента».\n",
    "Данный набор данных используется в качестве учебного набора при изучении методов прогнозирования.\n",
    "Набор представляет собой данные об активности клиентаов телекоммуникационной компании (количество часов разговоров, видеозвонков, ночные и дневные разговоры и прочие). \n",
    "\n",
    "Набор данных подходит для обучения моделей логистической регрессии, моделей классификации (CNN, kNN, Logic tree). \n",
    "\n",
    "Набор данных можно получить в репозитории [3]."
   ]
  },
  {
   "cell_type": "markdown",
   "id": "af6d92b2",
   "metadata": {},
   "source": [
    "#### Подключение библиотек"
   ]
  },
  {
   "cell_type": "code",
   "execution_count": null,
   "id": "1958d4fb",
   "metadata": {},
   "outputs": [],
   "source": [
    "import numpy as np\n",
    "import pandas as pd\n",
    "from matplotlib import pyplot as plt\n",
    "import seaborn as sns\n",
    "%matplotlib inline"
   ]
  },
  {
   "cell_type": "markdown",
   "id": "f6dc0b33",
   "metadata": {},
   "source": [
    "#### Получение данных\n",
    "Необходимо скачать набор данных из репозитория *Kaggle* (необходим только один текстовый файл с данными измерений): [https://www.kaggle.com/datasets/keyush06/telecom-churncsv).\n"
   ]
  },
  {
   "cell_type": "markdown",
   "id": "72fac519",
   "metadata": {},
   "source": [
    "#### Загрузка данных\n",
    "Рассмотрим основные признаки, представленный в наборе.\n",
    "Загрузим набор данных с использованием `pandas` и выведем признаки набора данных"
   ]
  },
  {
   "cell_type": "code",
   "execution_count": null,
   "id": "65f5884d",
   "metadata": {},
   "outputs": [],
   "source": [
    "data_path = \"./datasets/telecom_churn/telecom_churn.csv\"\n",
    "data = pd.read_csv(data_path)\n",
    "data.head(10)"
   ]
  },
  {
   "cell_type": "markdown",
   "id": "46362753",
   "metadata": {},
   "source": [
    "Набор данных `telecom_churn.csv` содержит большое количество признаков. \n",
    "\n",
    "Для детального изучения воспользуемся методом `info()` класса `DataFrame`:"
   ]
  },
  {
   "cell_type": "code",
   "execution_count": null,
   "id": "6f0a2642",
   "metadata": {},
   "outputs": [],
   "source": [
    "data.info()"
   ]
  },
  {
   "cell_type": "markdown",
   "id": "9a390357",
   "metadata": {},
   "source": [
    "Список признаков можно посмотреть с помощью метода `data.columns`\n",
    "\n"
   ]
  },
  {
   "cell_type": "code",
   "execution_count": null,
   "id": "5d2b8afe",
   "metadata": {},
   "outputs": [],
   "source": [
    "data.columns"
   ]
  },
  {
   "cell_type": "markdown",
   "id": "68b24bec",
   "metadata": {},
   "source": [
    "<!-- Ваш ответ -->"
   ]
  },
  {
   "cell_type": "markdown",
   "id": "2ac08b21",
   "metadata": {},
   "source": [
    "#### Визуализация количественных признаков\n",
    "\n",
    "Графики, используемые при анализе данных, делят не по библиотекам, с использованием которых они строятся, а по типам признаков, для анализа которых предназначены графики."
   ]
  },
  {
   "cell_type": "markdown",
   "id": "fdd5fe43",
   "metadata": {},
   "source": [
    "Для представления распределения простого коичественного признака подходит обычная гистограмма, содержащаяся во всех библиотеках.\n",
    "\n",
    "Для построения гистограммы воспользуемся методом `hist()` класса DataFtrame.\n",
    "\n",
    "На соамом деле используется метод из библиотеки `matplotlib`. "
   ]
  },
  {
   "cell_type": "code",
   "execution_count": null,
   "id": "1a7709e9",
   "metadata": {},
   "outputs": [],
   "source": [
    "data['total day minutes'].hist();"
   ]
  },
  {
   "cell_type": "markdown",
   "id": "5965045c",
   "metadata": {},
   "source": [
    "Метод `hist()` можно использовать для построения гистограмм по нескольким признакам. \n",
    "При этом неколичественные признаки игнорируются."
   ]
  },
  {
   "cell_type": "code",
   "execution_count": null,
   "id": "7e7d6cee",
   "metadata": {},
   "outputs": [],
   "source": [
    "data.hist();"
   ]
  },
  {
   "cell_type": "markdown",
   "id": "2e1f0a4c",
   "metadata": {},
   "source": [
    "Аналогичный тип графика можно получить с использованием `matplotlib`"
   ]
  },
  {
   "cell_type": "code",
   "execution_count": null,
   "id": "b145f2b7",
   "metadata": {},
   "outputs": [],
   "source": [
    "hist = data['total day minutes'].value_counts()\n",
    "plt.bar(hist.index, hist);"
   ]
  },
  {
   "cell_type": "markdown",
   "id": "46da010d",
   "metadata": {},
   "source": [
    " Использование `matplotlib` для представления распределения значений признака"
   ]
  },
  {
   "cell_type": "code",
   "execution_count": null,
   "id": "b3345cfc",
   "metadata": {},
   "outputs": [],
   "source": [
    "plt.bar(data.index, data['total day minutes'])\n",
    "plt.show()"
   ]
  },
  {
   "cell_type": "markdown",
   "id": "95d65930",
   "metadata": {},
   "source": [
    "Один из эффективных типов графиков для анализа количественных признаков – это «ящик с усами» (boxplot). "
   ]
  },
  {
   "cell_type": "code",
   "execution_count": null,
   "id": "978210c7",
   "metadata": {},
   "outputs": [],
   "source": [
    "sns.boxplot(data['total day minutes'])"
   ]
  },
  {
   "cell_type": "markdown",
   "id": "cd85ab26",
   "metadata": {},
   "source": [
    "Для анализа нескольких признаков графики `boxplot` также эффективны. "
   ]
  },
  {
   "cell_type": "code",
   "execution_count": null,
   "id": "c9f36ac9",
   "metadata": {},
   "outputs": [],
   "source": [
    "top_data = data[['state','total day minutes']]\n",
    "top_data = top_data.groupby('state').sum()\n",
    "top_data = top_data.sort_values('total day minutes', ascending=False)\n",
    "top_data = top_data[:3].index.values\n",
    "sns.boxplot(y='state', \n",
    "            x='total day minutes', \n",
    "            data=data[data.state.isin(top_data)], palette='Set2');"
   ]
  },
  {
   "cell_type": "markdown",
   "id": "ef8f1be4",
   "metadata": {},
   "source": [
    "График `boxplot` состоит из коробки, усов и точек. \n",
    "\n",
    "Коробка показывает интерквартильный размах распределения, то есть соответственно 25% (первая квартиль, 𝑄1) и 75% (третья квартиль, 𝑄3) перцентили. \n",
    "Черта внутри коробки обозначает медиану распределения (можно получить с использованием метода `median()` в `pandas` и `numpy`). \n",
    "\n",
    "Усы отображают весь разброс точек кроме выбросов, то есть минимальные и максимальные значения, которые попадают в промежуток\n",
    "($𝑄1 − 1,5 \\cdot 𝐼𝑄𝑅$, $𝑄3 + 1,5 \\cdot 𝐼𝑄𝑅$), где $𝐼𝑄𝑅 = 𝑄3 − 𝑄1$ – интерквартильный размах. \n",
    "\n",
    "Точками на графике обозначаются выбросы (outliers), то есть те значения, которые не вписываются в промежуток значений, заданный усами графика (рис. 1)."
   ]
  },
  {
   "cell_type": "markdown",
   "id": "7d8867f5",
   "metadata": {},
   "source": [
    "![Структура ящика с усами](./img/boxplot.jpg \"Структура ящика с усами\")"
   ]
  },
  {
   "cell_type": "markdown",
   "id": "41823530",
   "metadata": {},
   "source": [
    "#### Визуализация категориальных признаков"
   ]
  },
  {
   "cell_type": "markdown",
   "id": "18526b8f",
   "metadata": {},
   "source": [
    "Типичным категориальным признаком в анализируемом наборе данных является «Штат» (state). \n",
    "Определим  \"популярные\" штаты"
   ]
  },
  {
   "cell_type": "code",
   "execution_count": null,
   "id": "cd150acf",
   "metadata": {},
   "outputs": [],
   "source": [
    "hist = data['state'].value_counts()\n",
    "plt.bar(hist.index, hist);"
   ]
  },
  {
   "cell_type": "markdown",
   "id": "83ba9bef",
   "metadata": {},
   "source": [
    "Под категориальный признак подходит также «Отказ» (churn) (хотя он является логическим). "
   ]
  },
  {
   "cell_type": "code",
   "execution_count": null,
   "id": "32e05044",
   "metadata": {},
   "outputs": [],
   "source": [
    "data['churn'].value_counts()"
   ]
  },
  {
   "cell_type": "markdown",
   "id": "44b7eaf8",
   "metadata": {},
   "source": [
    "Метод `countplot()` из библиотеки `seaborn`, строит гистограммы, но не по сырым данным, а по расчитанному количеству разных значений признака"
   ]
  },
  {
   "cell_type": "code",
   "execution_count": null,
   "id": "3aff1c7e",
   "metadata": {},
   "outputs": [],
   "source": [
    "sns.countplot(x = 'churn', data = data);"
   ]
  },
  {
   "cell_type": "markdown",
   "id": "a46e1d18",
   "metadata": {},
   "source": [
    "гистограмма для всех штатов"
   ]
  },
  {
   "cell_type": "code",
   "execution_count": null,
   "id": "65c0fc43",
   "metadata": {},
   "outputs": [],
   "source": [
    "sns.countplot(x = 'state', data = data);"
   ]
  },
  {
   "cell_type": "markdown",
   "id": "3bae5428",
   "metadata": {},
   "source": [
    "Визуализация пяти популярных штатов"
   ]
  },
  {
   "cell_type": "code",
   "execution_count": null,
   "id": "77e0e940",
   "metadata": {},
   "outputs": [],
   "source": [
    "sns.countplot(x = data[data['state'].isin(data['state'].value_counts().head(5).index)]['state'], data = data);"
   ]
  },
  {
   "cell_type": "markdown",
   "id": "68ecb8c5",
   "metadata": {},
   "source": [
    "#### Визуализация соотношения количественных признаков"
   ]
  },
  {
   "cell_type": "markdown",
   "id": "6e5a7175",
   "metadata": {},
   "source": [
    "Рассмотрим пример демонстрирующий сравнениераспределений показателей, связанных с финансовыми затратами клиентов.\n",
    "Упрощенно, можно сказать, что это все показатели, содержащие подстроку «charge» в имени показателя.\n",
    "Отберем необходимые признаки"
   ]
  },
  {
   "cell_type": "code",
   "execution_count": null,
   "id": "03e2c909",
   "metadata": {},
   "outputs": [],
   "source": [
    "feats=[f for f in data.columns if 'charge' in f]\n",
    "feats"
   ]
  },
  {
   "cell_type": "markdown",
   "id": "e5dbe32f",
   "metadata": {},
   "source": [
    "После отбора интересующих показателей можно построить диаграммы для сравнения"
   ]
  },
  {
   "cell_type": "code",
   "execution_count": null,
   "id": "cdfa5805",
   "metadata": {},
   "outputs": [],
   "source": [
    "data[feats].hist(figsize=(5,5));"
   ]
  },
  {
   "cell_type": "markdown",
   "id": "ddc5b33c",
   "metadata": {},
   "source": [
    "Часто используют попарное сравнение признаков для обеспечения широкого взгляда на набор данных. \n",
    "На диаганальных графиках представлены гистограммы распределения отдельного признака, на внедиаганальных позициях – попарные распределения:"
   ]
  },
  {
   "cell_type": "code",
   "execution_count": null,
   "id": "ff5c1de1",
   "metadata": {},
   "outputs": [],
   "source": [
    "sns.pairplot(data[feats]);"
   ]
  },
  {
   "cell_type": "markdown",
   "id": "04fb1acd",
   "metadata": {},
   "source": [
    "Можно реализовать более сложные графики. \n",
    "Например, если требуется добавить к существующим признакам, целевой признак `churn` (количество отказов) и раскрасить разные типы элементов, то можно воспользоваться попарными распределениями, но с отображением подмножеств отказов"
   ]
  },
  {
   "cell_type": "code",
   "execution_count": null,
   "id": "df357eb0",
   "metadata": {},
   "outputs": [],
   "source": [
    "sns.pairplot(data[feats+['churn']], hue='churn');"
   ]
  },
  {
   "cell_type": "markdown",
   "id": "77a2cd59",
   "metadata": {},
   "source": [
    "До сих пор использовались возможности библиотеки `seaborn`, а также методы `pandas` (которые производят визуализацию, оращаясь к библиотеке matplotlib). \n",
    "\n",
    "Библиотека `matplotlib` наиболее известная и широко применяемая при анализе данных в рамках стека технологий python.\n",
    "\n",
    "Приведем пример использования графика `scatter` библиотеки `matplotlib`, предназначенного для вывода множества точек"
   ]
  },
  {
   "cell_type": "code",
   "execution_count": null,
   "id": "f9229934",
   "metadata": {},
   "outputs": [],
   "source": [
    "plt.scatter(\n",
    "    data['total day charge'], \n",
    "    data['total intl charge'], \n",
    "    color='lightblue', edgecolors='blue'\n",
    ")\n",
    "\n",
    "plt.xlabel('Day charge')\n",
    "plt.ylabel('International charge')\n",
    "plt.title('Scatter by 2 characteristics');"
   ]
  },
  {
   "cell_type": "markdown",
   "id": "b20a52a2",
   "metadata": {},
   "source": [
    "Далее показан пример более тонкой настройки параметров графика."
   ]
  },
  {
   "cell_type": "code",
   "execution_count": null,
   "id": "84de60e0",
   "metadata": {},
   "outputs": [],
   "source": [
    "# Coloring data\n",
    "# Color depending on customer care\n",
    "c = data['churn'].map({False: 'lightblue', True: 'orange'})\n",
    "edge_c = data['churn'].map({False: 'blue', True: 'red'})\n",
    "\n",
    "# Setting plot\n",
    "plt.scatter(\n",
    "    data['total day charge'], data['total intl charge'],\n",
    "    color=c, edgecolors=edge_c\n",
    ")\n",
    "\n",
    "plt.xlabel('Day charge')\n",
    "plt.ylabel('International charge')\n",
    "plt.title('Scatter by 2 characteristics');\n",
    "\n"
   ]
  },
  {
   "cell_type": "markdown",
   "id": "81e6c933",
   "metadata": {},
   "source": [
    "Приведенный выше график можно построить различными способами, например, можно добавлять множества точек отдельными подмножествами, указывая параметры визуализации для каждого подмножества"
   ]
  },
  {
   "cell_type": "code",
   "execution_count": null,
   "id": "aaeef7d4",
   "metadata": {},
   "outputs": [],
   "source": [
    "# Coloring of loyal and departed customers,\n",
    "# Adding a legend\n",
    "\n",
    "# Departed customers\n",
    "data_churn = data[data['churn']]\n",
    "# Remaining customers\n",
    "data_loyal = data[~data['churn']]\n",
    "\n",
    "plt.scatter(\n",
    "    data_churn['total day charge'], \n",
    "    data_churn['total intl charge'],\n",
    "    color='orange',\n",
    "    edgecolors='red',\n",
    "    label='Departed'\n",
    ")\n",
    "\n",
    "plt.scatter(\n",
    "    data_loyal['total day charge'], \n",
    "    data_loyal['total intl charge'],\n",
    "    color='lightblue',\n",
    "    edgecolors='blue',\n",
    "    label='Remained'\n",
    ")\n",
    "\n",
    "plt.xlabel('Day charge')\n",
    "plt.ylabel('International charge')\n",
    "plt.title('Scatter by 2 characteristics');\n",
    "\n",
    "plt.legend();"
   ]
  },
  {
   "cell_type": "markdown",
   "id": "0a6f0422",
   "metadata": {},
   "source": [
    "В реальных задачах машинного обучения при первичном анализе данных необходимо выявить корреляции признаков обучающей выборки. \n",
    "В пакете `Pandas` имеется встроенный инструмент для этого – метод `corr()` класса `DataFrame`. \n",
    "\n",
    "Покажем фрагмент вывода этой функции."
   ]
  },
  {
   "cell_type": "code",
   "execution_count": null,
   "id": "bbd174b7",
   "metadata": {},
   "outputs": [],
   "source": [
    "data.corr(numeric_only=True)"
   ]
  },
  {
   "cell_type": "markdown",
   "id": "e3876f3b",
   "metadata": {},
   "source": [
    "Полученная матрица имеет размер 17 × 17. \n",
    "\n",
    "Это незначительный размер (в реальных задачах машинного обучения размеры матриц корреляции имеют порядки $10^6 − 10^{10}$ и более), но даже для матрицы рассматриваемого набора данных проанализировать корреляцию признаков вручную – трудоемкая задача. \n",
    "\n",
    "Например, можно использовать скрипты, для выделения больших коэффициентов корреляции. \n",
    "Но лучше использовать специальный тип графика – `heatmap`."
   ]
  },
  {
   "cell_type": "code",
   "execution_count": null,
   "id": "75de1d6d",
   "metadata": {},
   "outputs": [],
   "source": [
    "sns.heatmap(data.corr(numeric_only=True), cmap=plt.cm.PuBuGn);"
   ]
  },
  {
   "cell_type": "markdown",
   "id": "94dd8c0a",
   "metadata": {},
   "source": [
    "Из карты `heatmap` видно, что некоторые признаки коррелируют: например сильная корреляция в парах описывающих количество минут разговоров и начислений: (total day charge, total day minutes), (total night charge, total night minutes), ... \n",
    "\n",
    "Из таких пар можно удалить один признак"
   ]
  },
  {
   "cell_type": "code",
   "execution_count": null,
   "id": "334c7ef9",
   "metadata": {},
   "outputs": [],
   "source": [
    "feats=[f for f in data.columns if 'charge' in f]\n",
    "feats"
   ]
  },
  {
   "cell_type": "code",
   "execution_count": null,
   "id": "d7f9d347",
   "metadata": {},
   "outputs": [],
   "source": [
    "data_uncorr = data.drop(feats, axis=1)\n",
    "data_uncorr.columns"
   ]
  },
  {
   "cell_type": "code",
   "execution_count": null,
   "id": "028322c1",
   "metadata": {},
   "outputs": [],
   "source": [
    "sns.heatmap(data_uncorr.corr(numeric_only=True), cmap=plt.cm.rainbow);"
   ]
  },
  {
   "cell_type": "markdown",
   "id": "5399da3d",
   "metadata": {},
   "source": [
    "### Важные замечания\n",
    "\n",
    "Несмотря на кажущуюся простоту и «понятность» данных в результате визуализации, исследователь не должен делать поспешных выводов (например, было бы ошибочно делать вывод по представленным графикам о том, что ирисы Setosa те, у которых petal width менее 0,75).\n",
    "\n",
    "Следует помнить, что цель первичного исследования данных – получение представления о структуре и природе данных, а не построение модели предсказания, классификации и т.п."
   ]
  },
  {
   "cell_type": "markdown",
   "id": "df62a76e",
   "metadata": {},
   "source": [
    "### Индивидуальное задание\n",
    "\n",
    "1. Подберите набор данных на ресурсах [2, 3] и согласуйте свой выбор с преподавателем и другими студентами группы, так\n",
    "как работа над одинаковыми наборами данных недопустима..\n",
    "\n",
    "2. Проведите первичный анализ данных. Особое внимание следует уделить графическому представлению распрееделений признаков, визуализации взаимосвзей, позволяющие судить о наборе данных. Построение графиков желательно произвести по нескольким проекциям. При анализе данных использовать как можно более разнообразные типы графиков."
   ]
  },
  {
   "cell_type": "markdown",
   "id": "3c77b10b",
   "metadata": {},
   "source": [
    "### Содержание отчета и его форма\n",
    "\n",
    "Отчет по лабораторной работе должен содержать:\n",
    "\n",
    "1. Номер и название лабораторной работы; задачи лабораторной работы.\n",
    "\n",
    "2. Реализация каждого пункта подраздела «Индивидуальное задание» с приведением исходного кода программы, диаграмм и графиков для визуализации данных.\n",
    "\n",
    "3. Ответы на контрольные вопросы.\n",
    "\n",
    "4. Листинг программного кода с комментариями, показывающие порядок выполнения лабораторной работы, и результаты, полученные в ходе её выполнения."
   ]
  },
  {
   "cell_type": "markdown",
   "id": "56244340",
   "metadata": {},
   "source": [
    "### Контрольные вопросы\n",
    "\n",
    "1. Перечислите функции Python, которые были изучены в рамках данной лабораторной работы и которые используются для визуализации данных.\n",
    "\n",
    "2. Какая библиотека python предназначена для управления наборами данных: `numpy`, `pandas`, `sklearn`, `opencv`, `matplotlib`?\n",
    "\n",
    "3. Какая стратегия является нежелательной при обработке пропусков в данных?\n",
    "\n",
    "   а) замена пропущенных значений в столбце медианным значением по данному столбцу;\n",
    "\n",
    "    б) удаление строк, содержащих пропуски в данных;  \n",
    "\n",
    "    в) замена пропущенных значений в столбце средним арифметическим значением по данному столбцу;\n",
    "\n",
    "    г) замена пропущенных значений в столбце наиболее часто встречающимся значением по данному столбцу;\n",
    "\n",
    "5. Обоснуйте ответ на следующую проблему предварительной обработки данных: имеется независимая категориальная переменная $y$, которая представляет собой категориальный признак, опеределнный на домене {`C#`, `Java`, `Python`, `R`}. Нужно ли применять к данному целевому признаку `OneHotEncoder`?\n",
    "\n",
    "6. Какой код лучше использовать при загрузке данных из csv-файла?\n",
    "\n",
    "   а) `dataset = read_csv('data.csv')`\n",
    "\n",
    "    б) `dataset = import('data.csv')` \n",
    "\n",
    "    в) `dataset = read.csv('data.csv')`\n",
    "\n",
    "    г) `dataset = import.csv('data.csv')`\n",
    "\n",
    "    д) `dataset = read_xls('data.csv')`\n",
    "\n",
    "\n",
    "### Список литературы\n",
    "\n",
    "1. Дж. Плас: Python для сложных задач. Наука о данных и машинное обучение. Питер.,2018, 576 с.\n",
    "\n",
    "2. [Репозиторий наборов данных для машинного обучения (Центр машинного обучения и интеллектуальных систем)](https://archive.ics.uci.edu/datasets)\n",
    "\n",
    "3. [Репозиторий наборов данных для машинного обучения (Kaggle)](https://www.kaggle.com/datasets/)"
   ]
  }
 ],
 "metadata": {
  "jupytext": {
   "cell_metadata_filter": "-all",
   "main_language": "python",
   "notebook_metadata_filter": "-all"
  },
  "kernelspec": {
   "display_name": "Python 3 (ipykernel)",
   "language": "python",
   "name": "python3"
  },
  "language_info": {
   "codemirror_mode": {
    "name": "ipython",
    "version": 3
   },
   "file_extension": ".py",
   "mimetype": "text/x-python",
   "name": "python",
   "nbconvert_exporter": "python",
   "pygments_lexer": "ipython3",
   "version": "3.12.1"
  }
 },
 "nbformat": 4,
 "nbformat_minor": 5
}
