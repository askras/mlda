{
 "cells": [
  {
   "cell_type": "markdown",
   "id": "4d7cfb17",
   "metadata": {},
   "source": [
    "# Метод наименьших квадратов (Least squares approximation)"
   ]
  },
  {
   "cell_type": "markdown",
   "id": "cc234468",
   "metadata": {},
   "source": [
    "**Цель работы:** ознакомление с методом аппроксимации функций.\n",
    "\n",
    "Продолжительность работы: - 4 часа.\n",
    "\n",
    "Мягкий дедлайн (10 баллов): 03.10.2023\n",
    "\n",
    "Жесткий дедлайн (5 баллов): 17.10.2023"
   ]
  },
  {
   "cell_type": "markdown",
   "id": "97809080",
   "metadata": {},
   "source": [
    "## Задание\n",
    "\n",
    "Дана таблица значений некоторой функциональной зависимости, полученной из $n = 6$ опытов\n",
    "\n",
    "1. Методом наименьших квадратов по данной табличной зависимости найти аппроксимирующую функцию в виде:\n",
    "\n",
    "  1.1) линейной функции $y = ax + b$;\n",
    "\n",
    "  1.2) степенной функции $y = \\beta \\cdot x^a$;\n",
    "\n",
    "  1.3) показательной функции $y = \\beta \\cdot e^{ax}$;\n",
    "\n",
    "  1.4) квадратичной функции $y = ax^2 + bx + c$.\n",
    "\n",
    "2. Построить в плоскости $xOy$ графики полученных функций и нанести экспериментальные точки.\n",
    "\n",
    "3. Сравнить полученные результаты.\n",
    "\n",
    "\n",
    "Промежуточные вычисления вести с точностью до 0,0001.\n",
    "\n",
    "Значения параметров $a$, $b$, $c$ округлить до 0,01."
   ]
  },
  {
   "cell_type": "markdown",
   "id": "fa120210",
   "metadata": {},
   "source": [
    "## Вариант 6  \n",
    "\n",
    "|$x$ | 1 | 4 | 7 | 10 | 13 | 16 | \n",
    "|:--:|:---:|:---:|:---:|:---:|:---:|:---:|\n",
    "|$y$ | 3,0 | 7,6 | 11,2 | 13,8 | 17,1 | 19,5 | \n"
   ]
  },
  {
   "cell_type": "markdown",
   "id": "60c2c63c",
   "metadata": {},
   "source": [
    "## Решение"
   ]
  },
  {
   "cell_type": "code",
   "execution_count": 1,
   "id": "6003362e",
   "metadata": {},
   "outputs": [],
   "source": [
    "import numpy as np\n",
    "import pandas as pd\n",
    "import matplotlib.pyplot as plt\n",
    "import scipy\n",
    "import math\n",
    "\n",
    "X = [1, 4, 7, 10, 13, 16]\n",
    "Y = [3.0, 7.6, 11.2, 13.8, 17.1, 19.5]\n",
    "PARAM_ROUND = 2\n",
    "COMP_ROUND = 4"
   ]
  },
  {
   "cell_type": "markdown",
   "id": "6550940e",
   "metadata": {},
   "source": [
    "#### 1.1) Найдем зависимость 𝑦 от 𝑥 в виде линейной функции 𝑦=𝑎𝑥+𝑏"
   ]
  },
  {
   "cell_type": "markdown",
   "id": "aea35c95",
   "metadata": {},
   "source": [
    "Выберем значения коэффициентов $a$ и $b$ так, чтобы сумма квадратов отклонений\n",
    "$ L(a, b) = \\sum\\limits_{i=1}^n (\\Delta y_i)^2 = \n",
    "\\sum\\limits_{i=1}^{n} { \\left((ax_i+b)-y_i\\right)^2}$\n",
    "была минимальной.\n"
   ]
  },
  {
   "cell_type": "code",
   "execution_count": 2,
   "id": "43746f2c",
   "metadata": {},
   "outputs": [],
   "source": [
    "def find_min_params_of_lineral(X: list, Y: list) -> tuple:\n",
    "    if len(X) != len(Y):\n",
    "        raise Exception(\"Y should be a mapping of X\")\n",
    "        \n",
    "    n = len(X)\n",
    "    x_sum = sum(X)\n",
    "    y_sum = sum(Y)\n",
    "    x_sqrt_sum = sum(x**2 for x in X)\n",
    "    x_y_multpl = sum(x*y for x, y in zip(X, Y))\n",
    "    \n",
    "    koof = np.array([[x_sqrt_sum, x_sum], [x_sum, n]])\n",
    "    free = np.array([x_y_multpl, y_sum])\n",
    "    \n",
    "    params = scipy.linalg.solve(koof, free)\n",
    "    \n",
    "    return (round(x, PARAM_ROUND) for x in params)"
   ]
  },
  {
   "cell_type": "code",
   "execution_count": 3,
   "id": "a398604e",
   "metadata": {},
   "outputs": [
    {
     "name": "stdout",
     "output_type": "stream",
     "text": [
      "y = 1.08x + 2.84\n"
     ]
    }
   ],
   "source": [
    "a1, b1 = find_min_params_of_lineral(X, Y)\n",
    "print(f'y = {a1}x + {b1}')"
   ]
  },
  {
   "cell_type": "markdown",
   "id": "dd5396c3",
   "metadata": {},
   "source": [
    "#### 1.2) Найдем зависимость 𝑦 от 𝑥 в виде степенной функции 𝑦=𝛽⋅𝑥𝑎"
   ]
  },
  {
   "cell_type": "markdown",
   "id": "2cb4e55e",
   "metadata": {},
   "source": [
    "Прологарифмировав равенство $y = \\beta \\cdot x^a$ по основанию $e$, получим\n",
    "$\\ln{y} = a\\cdot \\ln{x} + \\ln{\\beta}$.\n",
    "\n",
    "Обозначим\n",
    "$Y = \\ln{y}$, $X = \\ln{x}$, $b = \\ln{\\beta}$.\n"
   ]
  },
  {
   "cell_type": "code",
   "execution_count": 4,
   "id": "931f24ea",
   "metadata": {},
   "outputs": [],
   "source": [
    "X_LOG = [round(math.log(x), COMP_ROUND) for x in X]\n",
    "Y_LOG = [round(math.log(y), COMP_ROUND) for y in Y]"
   ]
  },
  {
   "cell_type": "markdown",
   "id": "4e92f37c",
   "metadata": {},
   "source": [
    "Тогда получим линейную функцию $Y = a \\cdot X + b$, где переменные $X$ и $Y$ связаны следующей табличной зависимостью:"
   ]
  },
  {
   "cell_type": "code",
   "execution_count": 5,
   "id": "700cdcff",
   "metadata": {},
   "outputs": [
    {
     "name": "stdout",
     "output_type": "stream",
     "text": [
      "                0       1       2       3       4       5\n",
      "X = ln(x)  0.0000  1.3863  1.9459  2.3026  2.5649  2.7726\n",
      "Y = ln(y)  1.0986  2.0281  2.4159  2.6247  2.8391  2.9704\n"
     ]
    }
   ],
   "source": [
    "table = [X_LOG, Y_LOG]\n",
    "df = pd.DataFrame(table, index=['X = ln(x)', 'Y = ln(y)'])\n",
    "print(df)"
   ]
  },
  {
   "cell_type": "markdown",
   "id": "765a43f7",
   "metadata": {},
   "source": [
    "Таким образом, данная задача свелась к задаче 1.1."
   ]
  },
  {
   "cell_type": "code",
   "execution_count": 6,
   "id": "a10a00c3",
   "metadata": {},
   "outputs": [],
   "source": [
    "a2, b2 = find_min_params_of_lineral(X_LOG, Y_LOG)"
   ]
  },
  {
   "cell_type": "markdown",
   "id": "901851a4",
   "metadata": {},
   "source": [
    "Учитывая, что $b = \\ln{\\beta}$, находим $\\beta = e^b$, и получаем искомую степенную функцию "
   ]
  },
  {
   "cell_type": "code",
   "execution_count": 7,
   "id": "45d4a3a1",
   "metadata": {},
   "outputs": [
    {
     "name": "stdout",
     "output_type": "stream",
     "text": [
      "y = 3.0 * x^0.67\n"
     ]
    }
   ],
   "source": [
    "beta1 = round(pow(math.e, b2), PARAM_ROUND)\n",
    "print(f\"y = {beta1} * x^{a2}\")"
   ]
  },
  {
   "cell_type": "markdown",
   "id": "b7a9128a",
   "metadata": {},
   "source": [
    "#### 1.3) Найдем зависимость 𝑦 от 𝑥 в виде показательной функции 𝑦=𝛽⋅𝑒𝑎𝑥"
   ]
  },
  {
   "cell_type": "markdown",
   "id": "09714dfc",
   "metadata": {},
   "source": [
    "Прологарифмировав равенство $y = \\beta \\cdot e^{ax}$ по основанию $e$, получим\n",
    "$\\ln{y} = ax  + \\ln{\\beta}$.\n",
    "\n",
    "Обозначим\n",
    "$Y = \\ln{y}$, $b = \\ln{\\beta}$."
   ]
  },
  {
   "cell_type": "markdown",
   "id": "5ba2e0e1",
   "metadata": {},
   "source": [
    "Тогда получим линейную функцию $Y = a \\cdot x + b$, где переменные $x$ и $Y$ связаны следующей табличной зависимостью:"
   ]
  },
  {
   "cell_type": "code",
   "execution_count": 8,
   "id": "7ef36cd2",
   "metadata": {},
   "outputs": [
    {
     "name": "stdout",
     "output_type": "stream",
     "text": [
      "                0       1       2        3        4        5\n",
      "X          1.0000  4.0000  7.0000  10.0000  13.0000  16.0000\n",
      "Y = ln(y)  1.0986  2.0281  2.4159   2.6247   2.8391   2.9704\n"
     ]
    }
   ],
   "source": [
    "table = [X, Y_LOG]\n",
    "df = pd.DataFrame(table, index=['X', 'Y = ln(y)'])\n",
    "print(df)"
   ]
  },
  {
   "cell_type": "markdown",
   "id": "82c5e3be",
   "metadata": {},
   "source": [
    "Таким образом, данная задача свелась к задаче 1.1."
   ]
  },
  {
   "cell_type": "code",
   "execution_count": 9,
   "id": "4bc6615c",
   "metadata": {},
   "outputs": [],
   "source": [
    "a3, b3 = find_min_params_of_lineral(X, Y_LOG)"
   ]
  },
  {
   "cell_type": "markdown",
   "id": "3ca70374",
   "metadata": {},
   "source": [
    "Учитывая, что $b = \\ln{\\beta}$, находим $\\beta = e^b$, \n",
    "и получаем искомую степенную функцию "
   ]
  },
  {
   "cell_type": "code",
   "execution_count": 10,
   "id": "2a31217f",
   "metadata": {},
   "outputs": [
    {
     "name": "stdout",
     "output_type": "stream",
     "text": [
      "y = 3.9 * e^0.11x\n"
     ]
    }
   ],
   "source": [
    "beta2 = round(pow(math.e, b3), PARAM_ROUND)\n",
    "print(f\"y = {beta2} * e^{a3}x\")"
   ]
  },
  {
   "cell_type": "markdown",
   "id": "a3d909e0",
   "metadata": {},
   "source": [
    "#### 1.4) Найдем зависимость 𝑦 от 𝑥 в виде показательной функции 𝑦=𝑎𝑥2+𝑏𝑥+𝑐"
   ]
  },
  {
   "cell_type": "code",
   "execution_count": 11,
   "id": "481b20b6",
   "metadata": {},
   "outputs": [
    {
     "name": "stdout",
     "output_type": "stream",
     "text": [
      "y = -0.02x^2 + 1.49x + 1.72\n"
     ]
    }
   ],
   "source": [
    "n = len(X)\n",
    "x_sum = sum(X)\n",
    "x_pow2_sum = sum(x**2 for x in X)\n",
    "x_pow3_sum = sum(x**3 for x in X)\n",
    "x_pow4_sum = sum(x**4 for x in X)\n",
    "y_sum = sum(Y) \n",
    "x_y_multpl = sum(x*y for x, y in zip(X, Y))\n",
    "x_pow2_y_multpl = sum(pow(x, 2)*y for x, y in zip(X, Y))\n",
    "\n",
    "koof = np.array([[x_pow4_sum, x_pow3_sum, x_pow2_sum], [x_pow3_sum, x_pow2_sum, x_sum], [x_pow2_sum, x_sum, n]])\n",
    "free = np.array([x_pow2_y_multpl, x_y_multpl, y_sum])\n",
    "    \n",
    "a4, b4, c = (round(x, PARAM_ROUND) for x in scipy.linalg.solve(koof, free))\n",
    "\n",
    "print(f\"y = {a4}x^2 + {b4}x + {c}\")"
   ]
  },
  {
   "cell_type": "markdown",
   "id": "93477c95",
   "metadata": {},
   "source": [
    "#### 2) Построим в плоскости 𝑥𝑂𝑦 графики полученных функций и нанесем экспериментальные точки"
   ]
  },
  {
   "cell_type": "code",
   "execution_count": 12,
   "id": "4d20e226",
   "metadata": {},
   "outputs": [
    {
     "data": {
      "image/png": "[encoded data removed]",
      "text/plain": [
       "<Figure size 800x600 with 1 Axes>"
      ]
     },
     "metadata": {},
     "output_type": "display_data"
    }
   ],
   "source": [
    "X_PLOT = np.array(X)\n",
    "Y_PLOT = np.array(Y)\n",
    "\n",
    "x = np.linspace(0, X[len(X) - 1])\n",
    "y1 = a1*x + b1\n",
    "y2 = beta1*pow(x, a2)\n",
    "y3 = beta2*pow(math.e, a3*x)\n",
    "y4 = a4*pow(x, 2) + b4*x + c\n",
    "\n",
    "plt.figure(figsize=(8, 6))\n",
    "plt.scatter(X_PLOT, Y_PLOT, color='black')\n",
    "plt.plot(x, y1, label=f'y = {a1}x + {b1}', color='blue')\n",
    "plt.plot(x, y2, label=f\"y = {beta1} * x^{a2}\", color='lightblue')\n",
    "plt.plot(x, y3, label=f\"y = {beta2} * e^{a3}x\", color='darkblue')\n",
    "plt.plot(x, y4, label=f\"y = {a4}x^2 + {b4}x + {c}\", color='royalblue')\n",
    "plt.xlabel('X')\n",
    "plt.ylabel('Y')\n",
    "plt.legend()\n",
    "plt.show()"
   ]
  },
  {
   "cell_type": "markdown",
   "id": "f1a4eb46",
   "metadata": {},
   "source": [
    "#### 3) Сравним полученные результаты.\n",
    "Для этого найдем соответствующие суммарные погрешности"
   ]
  },
  {
   "cell_type": "markdown",
   "id": "64b5e5fd",
   "metadata": {},
   "source": [
    "\\begin{equation}\n",
    "   L(a, b) = \\sum\\limits_{i=1}^6 {(\\Delta y_i)^2}\n",
    "\\end{equation}\n",
    "для этого составим таблицу значений полученных функций"
   ]
  },
  {
   "cell_type": "code",
   "execution_count": 13,
   "id": "76401c1d",
   "metadata": {},
   "outputs": [
    {
     "name": "stdout",
     "output_type": "stream",
     "text": [
      "                                    0         1          2          3  \\\n",
      "X                            1.000000  4.000000   7.000000  10.000000   \n",
      "Y                            3.000000  7.600000  11.200000  13.800000   \n",
      "y = 1.08x + 2.84             3.920000  7.160000  10.400000  13.640000   \n",
      "y = 3.0 * x^0.67             3.000000  7.594540  11.049355  14.032054   \n",
      "y = 3.9 * e^0.11x            4.353484  6.055558   8.423088  11.716247   \n",
      "y = -0.02x^2 + 1.49x + 1.72  3.190000  7.360000  11.170000  14.620000   \n",
      "\n",
      "                                     4          5  \n",
      "X                            13.000000  16.000000  \n",
      "Y                            17.100000  19.500000  \n",
      "y = 1.08x + 2.84             16.880000  20.120000  \n",
      "y = 3.0 * x^0.67             16.728743  19.225677  \n",
      "y = 3.9 * e^0.11x            16.296927  22.668506  \n",
      "y = -0.02x^2 + 1.49x + 1.72  17.710000  20.440000  \n"
     ]
    }
   ],
   "source": [
    "Y1 = [a1*x + b1 for x in X]\n",
    "Y2 = [beta1*pow(x, a2) for x in X]\n",
    "Y3 = [beta2*pow(math.e, a3*x) for x in X]\n",
    "Y4 = [a4*pow(x, 2) + b4*x + c for x in X]\n",
    "table = [X, Y, Y1, Y2, Y3, Y4]\n",
    "df = pd.DataFrame(table, index=['X', 'Y', f'y = {a1}x + {b1}', f\"y = {beta1} * x^{a2}\", f\"y = {beta2} * e^{a3}x\", f\"y = {a4}x^2 + {b4}x + {c}\"])\n",
    "print(df)"
   ]
  },
  {
   "cell_type": "code",
   "execution_count": 14,
   "id": "08cf837d",
   "metadata": {},
   "outputs": [
    {
     "name": "stdout",
     "output_type": "stream",
     "text": [
      "L1: 2.14\n",
      "L2: 0.29\n",
      "L3: 26.95\n",
      "L4: 2.02\n"
     ]
    }
   ],
   "source": [
    "L1 = round(sum(pow(y0 - y, 2) for y0, y in zip(Y, Y1)), PARAM_ROUND)\n",
    "L2 = round(sum(pow(y0 - y, 2) for y0, y in zip(Y, Y2)), PARAM_ROUND)\n",
    "L3 = round(sum(pow(y0 - y, 2) for y0, y in zip(Y, Y3)), PARAM_ROUND)\n",
    "L4 = round(sum(pow(y0 - y, 2) for y0, y in zip(Y, Y4)), PARAM_ROUND)\n",
    "print(f\"L1: {L1}\")\n",
    "print(f\"L2: {L2}\")\n",
    "print(f\"L3: {L3}\")\n",
    "print(f\"L4: {L4}\")"
   ]
  },
  {
   "cell_type": "markdown",
   "id": "a961c507",
   "metadata": {},
   "source": [
    "## Вывод"
   ]
  },
  {
   "cell_type": "markdown",
   "id": "3008c21f",
   "metadata": {},
   "source": [
    "В данной задаче лучшей аппроксимирующей функцией является степенная функция:"
   ]
  },
  {
   "cell_type": "code",
   "execution_count": 16,
   "id": "2527b80b",
   "metadata": {},
   "outputs": [
    {
     "name": "stdout",
     "output_type": "stream",
     "text": [
      "y = 3.0 * x^0.67\n"
     ]
    }
   ],
   "source": [
    "print(f\"y = {beta1} * x^{a2}\")"
   ]
  }
 ],
 "metadata": {
  "kernelspec": {
   "display_name": "Python 3 (ipykernel)",
   "language": "python",
   "name": "python3"
  },
  "language_info": {
   "codemirror_mode": {
    "name": "ipython",
    "version": 3
   },
   "file_extension": ".py",
   "mimetype": "text/x-python",
   "name": "python",
   "nbconvert_exporter": "python",
   "pygments_lexer": "ipython3",
   "version": "3.11.4"
  }
 },
 "nbformat": 4,
 "nbformat_minor": 5
}
